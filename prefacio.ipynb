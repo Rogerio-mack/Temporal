{
  "nbformat": 4,
  "nbformat_minor": 0,
  "metadata": {
    "colab": {
      "name": "prefacio.ipynb",
      "provenance": [],
      "collapsed_sections": [],
      "include_colab_link": true
    },
    "kernelspec": {
      "name": "python3",
      "display_name": "Python 3"
    },
    "language_info": {
      "name": "python"
    }
  },
  "cells": [
    {
      "cell_type": "markdown",
      "metadata": {
        "id": "view-in-github",
        "colab_type": "text"
      },
      "source": [
        "<a href=\"https://colab.research.google.com/github/Rogerio-mack/Temporal/blob/main/prefacio.ipynb\" target=\"_parent\"><img src=\"https://colab.research.google.com/assets/colab-badge.svg\" alt=\"Open In Colab\"/></a>"
      ]
    },
    {
      "cell_type": "markdown",
      "metadata": {
        "id": "KL4z4PmunhQj"
      },
      "source": [
        "# **Prefácio**\n",
        "---\n"
      ]
    },
    {
      "cell_type": "markdown",
      "metadata": {
        "id": "1P1wtoO0yU21"
      },
      "source": [
        "Este livro se destina a você que está interessado em conhecer a aplicar métodos de Análise e Predição de Séries Temporais em campos como da Engenharia (como para predição de demandas de produtos), Comércio (predição de preços), Finanças (as Séries Econômicas e de Ações), Ciências (séries meteorológicas e outros fenômenos temporais) e até mesmo Ciências Sociais e da Saúde (Séries de Casos de Covid e evolução de indicadores Sociais). \n",
        "\n",
        "Ele foi elaborado como um material de apoio para disciplinas de cursos de Engenharia e Administração, mas pode ser empregado total ou parcialmente em cursos de diferentes áreas. Sendo seu objetivo principalmente didático, adotamos a forma dialógica para o texto e vamos nos referir muitas vezes diretamente ao leitor. \n",
        "\n",
        "Ao longo do texto não só explicamos e discutimos os principais conceitos como trazemos também implementações práticas de Análise e Predições para Séries de Dados que julgamos ser de interesse para um público diversos. Há exemplos de Séries de Dados da Bolsa de Valores, da Temperatura Global até dados de demanda por aluguel de Bicicletas.\n",
        "Para implementação dos modelos empregaremos o `Python` mas buscamos construir um texto que possibilite a leitura mesmo pelo leitor que não está interessado em detalhes da codificação ou mesmo não esteja familiarizado com a linguagem `Python`. A ideia que você possa entender e acompanhar o que os programas, isto é os modelos, *produzem* e deixando os detalhes de codificação para uma segunda leitura ou quando você tiver a necessidade de aplicar esses modelos. Procuramos assim criar um texto útil tanto para programadores como também para programadores. \n",
        "\n",
        "De qualquer modo, para quem quiser iniciar neste campo da programação e desenvolver seus próprios modelos, fornecemos desde o básico e você poderá encontrar no site do Livro suplementos digitais como uma Introdução ao `Pyhton`, `Pandas` e `Matplotlib`, bem como tópicos avançados e todo o código deste livro.\n",
        "\n",
        "Neste texto você também encontrará, além dos modelos tradicionais empregados na maior parte dos livros Texto de Análises de Séries Temporais como AR, ARMA, ARIMA, MARIMAX etc., um capítulo dedicado ao tratamento de Séries Temporais com modelos de Aprendizado de Máquina e Redes Neurais Profundas cobrindo uma lacuna desses modelos em texto mais introdutórios mas que parece fazer um grande sentido a medidade que o uso desses modelos vem crescendo rapidamente e trazem a solução de um grande número de problemas que envolvem Séries com grande volume de dados, complexidade e multidimensionalidade.    \n",
        "\n",
        "Em cada capítulo você vai encontrar ainda uma seção *Saiba Mais* com indicação de recursos ou referências sobre o tema estudado no capítulo. \n",
        "\n",
        "Todos os códigos deste livro foram desenvolvidos e executados em `Python` no ambiente Google Colab e podem ser obtidos em https://github.com/Rogerio-mack/Temporal. Lá você também encontrará atualizações do código, do texto e materiais complementares, bem como as bases de dados empregadas. \n"
      ]
    }
  ]
}