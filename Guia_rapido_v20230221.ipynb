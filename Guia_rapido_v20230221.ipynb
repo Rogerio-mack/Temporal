{
  "cells": [
    {
      "cell_type": "markdown",
      "metadata": {
        "id": "view-in-github",
        "colab_type": "text"
      },
      "source": [
        "<a href=\"https://colab.research.google.com/github/Rogerio-mack/Temporal/blob/main/Guia_rapido_v20230221.ipynb\" target=\"_parent\"><img src=\"https://colab.research.google.com/assets/colab-badge.svg\" alt=\"Open In Colab\"/></a>"
      ]
    },
    {
      "cell_type": "markdown",
      "metadata": {
        "id": "-G7aCMh4r9y1"
      },
      "source": [
        "# **Guia Rápido** \n",
        "\n",
        "___\n"
      ]
    },
    {
      "cell_type": "markdown",
      "metadata": {
        "id": "uipkOXj3U6jw"
      },
      "source": [
        "Este capítulo é um guia rápido de operações em `Python` manipular de forma simples Séries Temporais. Empregue este capítulo apenas como um ***guia de consulta rápida***. Nele você vai encontrar um resumo de:\n",
        "\n",
        "* Como manipular dados de datas e tempo com `Python`\n",
        "* Como empregar Séries Temporais com o `Pandas`\n",
        "* E transformações de dados importantes sobre Séries Temporais que serão empregadas e detalhadas nos capítulos seguintes.\n",
        "\n",
        "Como um *guia* você não precisa ler este capítulo completamente e a maior parte dos conceitos envolvidos serão retomados nos capítulos seguintes. A rigor esse capítulo poderia estar até mesmo no final do livro. Mas recomendamos que você faça uma leitura diagonal e rápida apenas para se familiarizar com os comandos.  Nos próximos capítulos, quando surgirem, você entenderá melhor o uso dessas operações e certamente será útil você voltar neste *guia* quando precisar dessas operações.  Por esse motivo, optamos deixa-lo logo no início como um pequeno *mapa* para orientá-lo, e introduzimos as Séries Temporais somente a partir do próximo capítulo, onde de fato, vai começar sua jornada pelas Séries Temporais.\n",
        "\n",
        "> **Introduzimos as Séries Temporais somente a partir do próximo capítulo, onde de fato, vai começar sua jornada pelas Séries Temporais.**\n",
        "\n",
        "Você encontrará essas operações também no índice remissivo ao final do livro.\n",
        "\n",
        "---\n",
        "\n",
        "\n",
        "\n"
      ]
    },
    {
      "cell_type": "markdown",
      "source": [
        "## Funções deste Livro\n",
        "### `tspplot()`, `tspdisplay()`\n",
        "\n",
        "Ao longo do livro você pode encontrar algumas funções `Python` criadas especificamente para este livro. Você pode identificar essas funções pelo nome pois todas iniciam por `tsp` (**t**ime **s**eries **p**ython). A única finalidade dessas funções é proporcionar uma alternativa mais econômica no texto (evitando várias linhas de código) e você poderá empregar igualmente as funções nativas do `Python` em substituição às funções desse livro sempre que desejar. Assim, quando usamos `tspplot()` ou  `tspdisplay()`, você pode empregar igualmente as funções `plot()` ou  `display()`. Tirando a economia de opções e aspectos de formatação empregados para edição do livro, os comandos têm o mesmo propósito e resultado."
      ],
      "metadata": {
        "id": "smXnv3O5e4IQ"
      }
    },
    {
      "cell_type": "code",
      "execution_count": 1,
      "metadata": {
        "id": "Ob4vCHGcZwOC",
        "cellView": "form"
      },
      "outputs": [],
      "source": [
        "#@markdown `imports`\n",
        "import numpy as np\n",
        "import pandas as pd\n",
        "import matplotlib.pyplot as plt             \n",
        "%matplotlib inline\n",
        "import seaborn as sns\n",
        "import matplotlib.ticker as ticker\n",
        "\n",
        "from datetime import datetime as dt\n",
        "\n",
        "path = 'https://github.com/Rogerio-mack/Temporal/raw/main/Data/'\n",
        "plt.style.use([ 'grayscale' , 'https://github.com/Rogerio-mack/Temporal/raw/main/tsp.mplstyle' ])\n",
        "\n",
        "# Para ver os parâmetros empregados aqui\n",
        "# plt.rcParams\n",
        "# plt.rcParams['figure.figsize']"
      ]
    },
    {
      "cell_type": "code",
      "source": [
        "#@markdown `tspplot()`\n",
        "def tspplot(ts=None,label=None,title=None,ax=None,linestyle='solid',alpha=1,lw=1,nr_xticks=None,nr_yticks=None):\n",
        "  \n",
        "  import matplotlib.ticker as ticker\n",
        "\n",
        "  if ax is None:\n",
        "    fig, ax = plt.subplots()\n",
        "  \n",
        "  if label is not None:\n",
        "    ax.plot(ts, label=label, linestyle=linestyle, lw=lw)\n",
        "  else:\n",
        "    ax.plot(ts, linestyle=linestyle,lw=lw,alpha=alpha)\n",
        "\n",
        "  if title is not None:\n",
        "    ax.set_title(title)\n",
        "\n",
        "  if nr_xticks is not None:\n",
        "    ax.xaxis.set_major_locator(ticker.MaxNLocator(nr_xticks))\n",
        "\n",
        "  if nr_yticks is not None:\n",
        "    ax.yaxis.set_major_locator(ticker.MaxNLocator(nr_yticks))  \n",
        "  \n",
        "  if label is not None:\n",
        "    plt.legend()\n",
        "\n",
        "  plt.tight_layout()\n",
        "\n",
        "  return\n",
        "\n"
      ],
      "metadata": {
        "id": "jAYYD8BF1gDj",
        "cellView": "form"
      },
      "execution_count": 2,
      "outputs": []
    },
    {
      "cell_type": "code",
      "source": [
        "#@markdown `tspdisplay()`\n",
        "class tspdisplay(object):\n",
        "    # Adaptado de https://jakevdp.github.io/PythonDataScienceHandbook/index.html\n",
        "    \"\"\"Display HTML representation of multiple objects\"\"\"\n",
        "    template = \"\"\"<div style=\"float: left; padding: 10px;\">\n",
        "    <hr>\n",
        "    <h3 style='font-family:\"Courier New\", Courier, monospace'>{0}</h3><hr>{1}\n",
        "    </div>\"\"\"\n",
        "    def __init__(self, *args):\n",
        "        self.args = args\n",
        "        \n",
        "    def _repr_html_(self):\n",
        "        return '\\n'.join(self.template.format(a, eval(a + '.head()')._repr_html_())\n",
        "                         for a in self.args)\n",
        "    \n",
        "    def __repr__(self):\n",
        "        return '\\n\\n'.join(a + '\\n' + repr(eval(a + '.head()'))\n",
        "                           for a in self.args)"
      ],
      "metadata": {
        "cellView": "form",
        "id": "niOc433Ebi_8"
      },
      "execution_count": 3,
      "outputs": []
    },
    {
      "cell_type": "markdown",
      "source": [
        "Outras funções `tsp` que acompanham este livro são apresentadas mais adiante."
      ],
      "metadata": {
        "id": "IDnMQtktd0OK"
      }
    },
    {
      "cell_type": "markdown",
      "source": [
        "## Trabalhando com Datas no Python\n",
        "### `datetime`, `strftime`, `strptime`, `pd.to_datetime`\n",
        "\n",
        "Ao trabalhar com séries temporais você pode se deparar com difícil tarefa de manipular informações de datas e horário. É frequente você obter dados como esses no formato de caracteres. Entretanto, a maior parte das operações sobre datas e horários, como obter o dia da semana, a quantidade de dias corridos entre duas datas, o nome do mês ou a data e hora corrente, só é possível empregando-se um formato interno de datas e tempo do `Python` que encontram-se no módulo `datetime`. "
      ],
      "metadata": {
        "id": "i8sHhwvKNgAc"
      }
    },
    {
      "cell_type": "code",
      "source": [
        "from datetime import date, time, datetime\n",
        "\n",
        "print( date(year=2023, month=1, day=31) )\n",
        "# o mesmo que: print( date(2023, 1, 31) )\n",
        "print( time(hour=17, minute=29, second=45) )\n",
        "# o mesmo que: print( time(17, 29, 45) )\n",
        "print( datetime(year=2023, month=1, day=31, hour=17, minute=29, second=45) )\n",
        "# o mesmo que: print( datetime(2023, 1, 31, 17, 29, 45) )\n",
        "print( datetime.now() )\n"
      ],
      "metadata": {
        "colab": {
          "base_uri": "https://localhost:8080/"
        },
        "id": "uqbCVE6sQOrB",
        "outputId": "d1c60ed0-f7d6-480e-ef74-7467ad5b79d8"
      },
      "execution_count": 4,
      "outputs": [
        {
          "output_type": "stream",
          "name": "stdout",
          "text": [
            "2023-01-31\n",
            "17:29:45\n",
            "2023-01-31 17:29:45\n",
            "2023-02-21 18:53:44.374053\n"
          ]
        }
      ]
    },
    {
      "cell_type": "markdown",
      "source": [
        "### Strings para Datas e Datas para Strings\n",
        "\n",
        "Assim, uma tarefa comum é você precisar de transformar dados do formato `string` para `datetime`, ou do formato `datetime` para `strings`. "
      ],
      "metadata": {
        "id": "j5p1UZ60Rprb"
      }
    },
    {
      "cell_type": "code",
      "execution_count": 5,
      "metadata": {
        "colab": {
          "base_uri": "https://localhost:8080/"
        },
        "id": "zqKCJFrxNfKJ",
        "outputId": "17e64675-cf17-47cc-eeb5-b7b202032876"
      },
      "outputs": [
        {
          "output_type": "stream",
          "name": "stdout",
          "text": [
            "2023-01-31 17:29:45\n",
            "2023-01-31 00:00:00\n",
            "2023-01-31 00:00:00\n"
          ]
        }
      ],
      "source": [
        "from datetime import datetime\n",
        "\n",
        "date_string = \"01-31-2023 17:29:45\"; format_string = \"%m-%d-%Y %H:%M:%S\"\n",
        "print( datetime.strptime(date_string, format_string) )\n",
        "\n",
        "date_string = \"01-31-23\"; format_string = \"%m-%d-%y\"\n",
        "print( datetime.strptime(date_string, format_string) )\n",
        "\n",
        "date_string = \"2023-01-31\"; format_string = \"%Y-%m-%d\"\n",
        "print( datetime.strptime(date_string, format_string) )\n"
      ]
    },
    {
      "cell_type": "code",
      "source": [
        "from datetime import datetime\n",
        "\n",
        "date_string = \"01-31-2023 17:29:45\" \n",
        "format_string = \"%m-%d-%Y %H:%M:%S\"\n",
        "my_date = datetime.strptime(date_string, format_string)  \n",
        "\n",
        "print( datetime.strftime(my_date, \"%Y-%m-%d\") )\n",
        "print( my_date.strftime ( '%A' ) )\n",
        "\n",
        "print( datetime.strftime(datetime.now(), \"Dia corrente: %Y-%m-%d\") )\n",
        "print( datetime.now().strftime ( '%A , %b' ) )"
      ],
      "metadata": {
        "colab": {
          "base_uri": "https://localhost:8080/"
        },
        "id": "TYkt1EBGTjXU",
        "outputId": "4e4d78e4-25a0-46b4-8cbd-bd3b150da18c"
      },
      "execution_count": 6,
      "outputs": [
        {
          "output_type": "stream",
          "name": "stdout",
          "text": [
            "2023-01-31\n",
            "Tuesday\n",
            "Dia corrente: 2023-02-21\n",
            "Tuesday , Feb\n"
          ]
        }
      ]
    },
    {
      "cell_type": "markdown",
      "source": [
        "Existem muitas opções para se trabalhar essas transformações, mas por hora essas são suficientes e você pode consultar https://docs.python.org/3/library/datetime.html para detalhes dessas funções no `Python 3` e todos os formatos disponíveis das funções `strftime` e `strptime`. "
      ],
      "metadata": {
        "id": "LDlVlujsRovR"
      }
    },
    {
      "cell_type": "markdown",
      "source": [
        "### Aritmética com datas \n",
        "\n",
        "Uma operação comum e difícil de realizar sem funções específicas para isso é a artimética de datas (e tempo) como, por exemplo, somar um dia a uma data ou ainda algumas horas. Isso pode ser realizado com a função `timedelta`. "
      ],
      "metadata": {
        "id": "RiRJGqKGVeKB"
      }
    },
    {
      "cell_type": "code",
      "source": [
        "from datetime import datetime, timedelta\n",
        "\n",
        "now = datetime.now()\n",
        "more_1d = timedelta(days=+1)\n",
        "less_7d_12h = timedelta(days=-7, hours=-12)\n",
        "\n",
        "after = now + more_1d\n",
        "before = now - less_7d_12h\n",
        "\n",
        "print('\\n', before, '\\n', now, '\\n', after)"
      ],
      "metadata": {
        "colab": {
          "base_uri": "https://localhost:8080/"
        },
        "id": "tTGCcD0KYSuC",
        "outputId": "ca131916-436e-40ce-b27a-8c3b10702e5a"
      },
      "execution_count": 7,
      "outputs": [
        {
          "output_type": "stream",
          "name": "stdout",
          "text": [
            "\n",
            " 2023-03-01 06:53:44.425751 \n",
            " 2023-02-21 18:53:44.425751 \n",
            " 2023-02-22 18:53:44.425751\n"
          ]
        }
      ]
    },
    {
      "cell_type": "markdown",
      "source": [
        "E operações de diferença de datas retornam um objeto `timedelta`."
      ],
      "metadata": {
        "id": "weev889_ZzA8"
      }
    },
    {
      "cell_type": "code",
      "source": [
        "my_birthday = datetime.strptime('1964-05-26', \"%Y-%m-%d\")\n",
        "\n",
        "print( now - my_birthday )\n",
        "print( (now - my_birthday).days , ', Oh! How many days!!!')\n"
      ],
      "metadata": {
        "colab": {
          "base_uri": "https://localhost:8080/"
        },
        "id": "tlUT_ehBZjVN",
        "outputId": "50c7134c-c7d9-4705-95c9-cb03e94333d1"
      },
      "execution_count": 8,
      "outputs": [
        {
          "output_type": "stream",
          "name": "stdout",
          "text": [
            "21455 days, 18:53:44.425751\n",
            "21455 , Oh! How many days!!!\n"
          ]
        }
      ]
    },
    {
      "cell_type": "markdown",
      "source": [
        "A função `timedelta` entretanto só opera com intervalos de dias. Para intervalos de meses ou anos você pode buscar informações do pacote `datautils` ou ainda outras bibliotecas de operações com datas."
      ],
      "metadata": {
        "id": "rHsOs8f5ax0t"
      }
    },
    {
      "cell_type": "markdown",
      "source": [
        "### Datetime no Pandas\n",
        "\n",
        "Dados `datetime` no `Pandas` são armazenados no formato `datetime64[ns]` (um formato de datas do `NumPy`). O que permite acessar uma série de funções para obter informações sobre datas. "
      ],
      "metadata": {
        "id": "B-7qfbsQctu0"
      }
    },
    {
      "cell_type": "code",
      "source": [
        "import pandas as pd\n",
        "\n",
        "now = datetime.now()\n",
        "days = []\n",
        "for i in range(10):\n",
        "  days.append( now + timedelta(days=i) )\n",
        "\n",
        "df = pd.DataFrame({ 'data': days })\n",
        "df.head()"
      ],
      "metadata": {
        "colab": {
          "base_uri": "https://localhost:8080/",
          "height": 206
        },
        "id": "-tgZvj9TctGs",
        "outputId": "ec6e645a-a682-4bde-c277-03c856cb70d9"
      },
      "execution_count": 9,
      "outputs": [
        {
          "output_type": "execute_result",
          "data": {
            "text/plain": [
              "                        data\n",
              "0 2023-02-21 18:53:44.467532\n",
              "1 2023-02-22 18:53:44.467532\n",
              "2 2023-02-23 18:53:44.467532\n",
              "3 2023-02-24 18:53:44.467532\n",
              "4 2023-02-25 18:53:44.467532"
            ],
            "text/html": [
              "\n",
              "  <div id=\"df-2b6af0f1-6b3f-40fc-a58d-ad77be8f8911\">\n",
              "    <div class=\"colab-df-container\">\n",
              "      <div>\n",
              "<style scoped>\n",
              "    .dataframe tbody tr th:only-of-type {\n",
              "        vertical-align: middle;\n",
              "    }\n",
              "\n",
              "    .dataframe tbody tr th {\n",
              "        vertical-align: top;\n",
              "    }\n",
              "\n",
              "    .dataframe thead th {\n",
              "        text-align: right;\n",
              "    }\n",
              "</style>\n",
              "<table border=\"1\" class=\"dataframe\">\n",
              "  <thead>\n",
              "    <tr style=\"text-align: right;\">\n",
              "      <th></th>\n",
              "      <th>data</th>\n",
              "    </tr>\n",
              "  </thead>\n",
              "  <tbody>\n",
              "    <tr>\n",
              "      <th>0</th>\n",
              "      <td>2023-02-21 18:53:44.467532</td>\n",
              "    </tr>\n",
              "    <tr>\n",
              "      <th>1</th>\n",
              "      <td>2023-02-22 18:53:44.467532</td>\n",
              "    </tr>\n",
              "    <tr>\n",
              "      <th>2</th>\n",
              "      <td>2023-02-23 18:53:44.467532</td>\n",
              "    </tr>\n",
              "    <tr>\n",
              "      <th>3</th>\n",
              "      <td>2023-02-24 18:53:44.467532</td>\n",
              "    </tr>\n",
              "    <tr>\n",
              "      <th>4</th>\n",
              "      <td>2023-02-25 18:53:44.467532</td>\n",
              "    </tr>\n",
              "  </tbody>\n",
              "</table>\n",
              "</div>\n",
              "      <button class=\"colab-df-convert\" onclick=\"convertToInteractive('df-2b6af0f1-6b3f-40fc-a58d-ad77be8f8911')\"\n",
              "              title=\"Convert this dataframe to an interactive table.\"\n",
              "              style=\"display:none;\">\n",
              "        \n",
              "  <svg xmlns=\"http://www.w3.org/2000/svg\" height=\"24px\"viewBox=\"0 0 24 24\"\n",
              "       width=\"24px\">\n",
              "    <path d=\"M0 0h24v24H0V0z\" fill=\"none\"/>\n",
              "    <path d=\"M18.56 5.44l.94 2.06.94-2.06 2.06-.94-2.06-.94-.94-2.06-.94 2.06-2.06.94zm-11 1L8.5 8.5l.94-2.06 2.06-.94-2.06-.94L8.5 2.5l-.94 2.06-2.06.94zm10 10l.94 2.06.94-2.06 2.06-.94-2.06-.94-.94-2.06-.94 2.06-2.06.94z\"/><path d=\"M17.41 7.96l-1.37-1.37c-.4-.4-.92-.59-1.43-.59-.52 0-1.04.2-1.43.59L10.3 9.45l-7.72 7.72c-.78.78-.78 2.05 0 2.83L4 21.41c.39.39.9.59 1.41.59.51 0 1.02-.2 1.41-.59l7.78-7.78 2.81-2.81c.8-.78.8-2.07 0-2.86zM5.41 20L4 18.59l7.72-7.72 1.47 1.35L5.41 20z\"/>\n",
              "  </svg>\n",
              "      </button>\n",
              "      \n",
              "  <style>\n",
              "    .colab-df-container {\n",
              "      display:flex;\n",
              "      flex-wrap:wrap;\n",
              "      gap: 12px;\n",
              "    }\n",
              "\n",
              "    .colab-df-convert {\n",
              "      background-color: #E8F0FE;\n",
              "      border: none;\n",
              "      border-radius: 50%;\n",
              "      cursor: pointer;\n",
              "      display: none;\n",
              "      fill: #1967D2;\n",
              "      height: 32px;\n",
              "      padding: 0 0 0 0;\n",
              "      width: 32px;\n",
              "    }\n",
              "\n",
              "    .colab-df-convert:hover {\n",
              "      background-color: #E2EBFA;\n",
              "      box-shadow: 0px 1px 2px rgba(60, 64, 67, 0.3), 0px 1px 3px 1px rgba(60, 64, 67, 0.15);\n",
              "      fill: #174EA6;\n",
              "    }\n",
              "\n",
              "    [theme=dark] .colab-df-convert {\n",
              "      background-color: #3B4455;\n",
              "      fill: #D2E3FC;\n",
              "    }\n",
              "\n",
              "    [theme=dark] .colab-df-convert:hover {\n",
              "      background-color: #434B5C;\n",
              "      box-shadow: 0px 1px 3px 1px rgba(0, 0, 0, 0.15);\n",
              "      filter: drop-shadow(0px 1px 2px rgba(0, 0, 0, 0.3));\n",
              "      fill: #FFFFFF;\n",
              "    }\n",
              "  </style>\n",
              "\n",
              "      <script>\n",
              "        const buttonEl =\n",
              "          document.querySelector('#df-2b6af0f1-6b3f-40fc-a58d-ad77be8f8911 button.colab-df-convert');\n",
              "        buttonEl.style.display =\n",
              "          google.colab.kernel.accessAllowed ? 'block' : 'none';\n",
              "\n",
              "        async function convertToInteractive(key) {\n",
              "          const element = document.querySelector('#df-2b6af0f1-6b3f-40fc-a58d-ad77be8f8911');\n",
              "          const dataTable =\n",
              "            await google.colab.kernel.invokeFunction('convertToInteractive',\n",
              "                                                     [key], {});\n",
              "          if (!dataTable) return;\n",
              "\n",
              "          const docLinkHtml = 'Like what you see? Visit the ' +\n",
              "            '<a target=\"_blank\" href=https://colab.research.google.com/notebooks/data_table.ipynb>data table notebook</a>'\n",
              "            + ' to learn more about interactive tables.';\n",
              "          element.innerHTML = '';\n",
              "          dataTable['output_type'] = 'display_data';\n",
              "          await google.colab.output.renderOutput(dataTable, element);\n",
              "          const docLink = document.createElement('div');\n",
              "          docLink.innerHTML = docLinkHtml;\n",
              "          element.appendChild(docLink);\n",
              "        }\n",
              "      </script>\n",
              "    </div>\n",
              "  </div>\n",
              "  "
            ]
          },
          "metadata": {},
          "execution_count": 9
        }
      ]
    },
    {
      "cell_type": "code",
      "source": [
        "df.dtypes"
      ],
      "metadata": {
        "colab": {
          "base_uri": "https://localhost:8080/"
        },
        "id": "HsVCqR-rcrfS",
        "outputId": "b066d64a-7e60-4115-eace-647c80fab8ca"
      },
      "execution_count": 10,
      "outputs": [
        {
          "output_type": "execute_result",
          "data": {
            "text/plain": [
              "data    datetime64[ns]\n",
              "dtype: object"
            ]
          },
          "metadata": {},
          "execution_count": 10
        }
      ]
    },
    {
      "cell_type": "code",
      "source": [
        "df['year'] = df.data.dt.year \n",
        "df['month'] = df.data.dt.month\n",
        "df['day'] = df.data.dt.day\n",
        "df['hour'] = df.data.dt.hour\n",
        "df['week'] = df.data.dt.weekday # 0 = monday ou segunda-feira\n",
        "\n",
        "df.head()"
      ],
      "metadata": {
        "colab": {
          "base_uri": "https://localhost:8080/",
          "height": 206
        },
        "id": "Acyp-Pv4fDbN",
        "outputId": "affd4476-3f65-492d-8f73-532cb96d534c"
      },
      "execution_count": 11,
      "outputs": [
        {
          "output_type": "execute_result",
          "data": {
            "text/plain": [
              "                        data  year  month  day  hour  week\n",
              "0 2023-02-21 18:53:44.467532  2023      2   21    18     1\n",
              "1 2023-02-22 18:53:44.467532  2023      2   22    18     2\n",
              "2 2023-02-23 18:53:44.467532  2023      2   23    18     3\n",
              "3 2023-02-24 18:53:44.467532  2023      2   24    18     4\n",
              "4 2023-02-25 18:53:44.467532  2023      2   25    18     5"
            ],
            "text/html": [
              "\n",
              "  <div id=\"df-b632c815-1036-459e-b31a-09754932812f\">\n",
              "    <div class=\"colab-df-container\">\n",
              "      <div>\n",
              "<style scoped>\n",
              "    .dataframe tbody tr th:only-of-type {\n",
              "        vertical-align: middle;\n",
              "    }\n",
              "\n",
              "    .dataframe tbody tr th {\n",
              "        vertical-align: top;\n",
              "    }\n",
              "\n",
              "    .dataframe thead th {\n",
              "        text-align: right;\n",
              "    }\n",
              "</style>\n",
              "<table border=\"1\" class=\"dataframe\">\n",
              "  <thead>\n",
              "    <tr style=\"text-align: right;\">\n",
              "      <th></th>\n",
              "      <th>data</th>\n",
              "      <th>year</th>\n",
              "      <th>month</th>\n",
              "      <th>day</th>\n",
              "      <th>hour</th>\n",
              "      <th>week</th>\n",
              "    </tr>\n",
              "  </thead>\n",
              "  <tbody>\n",
              "    <tr>\n",
              "      <th>0</th>\n",
              "      <td>2023-02-21 18:53:44.467532</td>\n",
              "      <td>2023</td>\n",
              "      <td>2</td>\n",
              "      <td>21</td>\n",
              "      <td>18</td>\n",
              "      <td>1</td>\n",
              "    </tr>\n",
              "    <tr>\n",
              "      <th>1</th>\n",
              "      <td>2023-02-22 18:53:44.467532</td>\n",
              "      <td>2023</td>\n",
              "      <td>2</td>\n",
              "      <td>22</td>\n",
              "      <td>18</td>\n",
              "      <td>2</td>\n",
              "    </tr>\n",
              "    <tr>\n",
              "      <th>2</th>\n",
              "      <td>2023-02-23 18:53:44.467532</td>\n",
              "      <td>2023</td>\n",
              "      <td>2</td>\n",
              "      <td>23</td>\n",
              "      <td>18</td>\n",
              "      <td>3</td>\n",
              "    </tr>\n",
              "    <tr>\n",
              "      <th>3</th>\n",
              "      <td>2023-02-24 18:53:44.467532</td>\n",
              "      <td>2023</td>\n",
              "      <td>2</td>\n",
              "      <td>24</td>\n",
              "      <td>18</td>\n",
              "      <td>4</td>\n",
              "    </tr>\n",
              "    <tr>\n",
              "      <th>4</th>\n",
              "      <td>2023-02-25 18:53:44.467532</td>\n",
              "      <td>2023</td>\n",
              "      <td>2</td>\n",
              "      <td>25</td>\n",
              "      <td>18</td>\n",
              "      <td>5</td>\n",
              "    </tr>\n",
              "  </tbody>\n",
              "</table>\n",
              "</div>\n",
              "      <button class=\"colab-df-convert\" onclick=\"convertToInteractive('df-b632c815-1036-459e-b31a-09754932812f')\"\n",
              "              title=\"Convert this dataframe to an interactive table.\"\n",
              "              style=\"display:none;\">\n",
              "        \n",
              "  <svg xmlns=\"http://www.w3.org/2000/svg\" height=\"24px\"viewBox=\"0 0 24 24\"\n",
              "       width=\"24px\">\n",
              "    <path d=\"M0 0h24v24H0V0z\" fill=\"none\"/>\n",
              "    <path d=\"M18.56 5.44l.94 2.06.94-2.06 2.06-.94-2.06-.94-.94-2.06-.94 2.06-2.06.94zm-11 1L8.5 8.5l.94-2.06 2.06-.94-2.06-.94L8.5 2.5l-.94 2.06-2.06.94zm10 10l.94 2.06.94-2.06 2.06-.94-2.06-.94-.94-2.06-.94 2.06-2.06.94z\"/><path d=\"M17.41 7.96l-1.37-1.37c-.4-.4-.92-.59-1.43-.59-.52 0-1.04.2-1.43.59L10.3 9.45l-7.72 7.72c-.78.78-.78 2.05 0 2.83L4 21.41c.39.39.9.59 1.41.59.51 0 1.02-.2 1.41-.59l7.78-7.78 2.81-2.81c.8-.78.8-2.07 0-2.86zM5.41 20L4 18.59l7.72-7.72 1.47 1.35L5.41 20z\"/>\n",
              "  </svg>\n",
              "      </button>\n",
              "      \n",
              "  <style>\n",
              "    .colab-df-container {\n",
              "      display:flex;\n",
              "      flex-wrap:wrap;\n",
              "      gap: 12px;\n",
              "    }\n",
              "\n",
              "    .colab-df-convert {\n",
              "      background-color: #E8F0FE;\n",
              "      border: none;\n",
              "      border-radius: 50%;\n",
              "      cursor: pointer;\n",
              "      display: none;\n",
              "      fill: #1967D2;\n",
              "      height: 32px;\n",
              "      padding: 0 0 0 0;\n",
              "      width: 32px;\n",
              "    }\n",
              "\n",
              "    .colab-df-convert:hover {\n",
              "      background-color: #E2EBFA;\n",
              "      box-shadow: 0px 1px 2px rgba(60, 64, 67, 0.3), 0px 1px 3px 1px rgba(60, 64, 67, 0.15);\n",
              "      fill: #174EA6;\n",
              "    }\n",
              "\n",
              "    [theme=dark] .colab-df-convert {\n",
              "      background-color: #3B4455;\n",
              "      fill: #D2E3FC;\n",
              "    }\n",
              "\n",
              "    [theme=dark] .colab-df-convert:hover {\n",
              "      background-color: #434B5C;\n",
              "      box-shadow: 0px 1px 3px 1px rgba(0, 0, 0, 0.15);\n",
              "      filter: drop-shadow(0px 1px 2px rgba(0, 0, 0, 0.3));\n",
              "      fill: #FFFFFF;\n",
              "    }\n",
              "  </style>\n",
              "\n",
              "      <script>\n",
              "        const buttonEl =\n",
              "          document.querySelector('#df-b632c815-1036-459e-b31a-09754932812f button.colab-df-convert');\n",
              "        buttonEl.style.display =\n",
              "          google.colab.kernel.accessAllowed ? 'block' : 'none';\n",
              "\n",
              "        async function convertToInteractive(key) {\n",
              "          const element = document.querySelector('#df-b632c815-1036-459e-b31a-09754932812f');\n",
              "          const dataTable =\n",
              "            await google.colab.kernel.invokeFunction('convertToInteractive',\n",
              "                                                     [key], {});\n",
              "          if (!dataTable) return;\n",
              "\n",
              "          const docLinkHtml = 'Like what you see? Visit the ' +\n",
              "            '<a target=\"_blank\" href=https://colab.research.google.com/notebooks/data_table.ipynb>data table notebook</a>'\n",
              "            + ' to learn more about interactive tables.';\n",
              "          element.innerHTML = '';\n",
              "          dataTable['output_type'] = 'display_data';\n",
              "          await google.colab.output.renderOutput(dataTable, element);\n",
              "          const docLink = document.createElement('div');\n",
              "          docLink.innerHTML = docLinkHtml;\n",
              "          element.appendChild(docLink);\n",
              "        }\n",
              "      </script>\n",
              "    </div>\n",
              "  </div>\n",
              "  "
            ]
          },
          "metadata": {},
          "execution_count": 11
        }
      ]
    },
    {
      "cell_type": "markdown",
      "source": [
        "Mas é muito comum você ter essas datas em uma planilha ou arquivo no formato `strings`, e é necessário converter essas datas. Uma função útil do `Pandas` para isso é função `to_datetime`. "
      ],
      "metadata": {
        "id": "7UBCuUDTgVBt"
      }
    },
    {
      "cell_type": "code",
      "source": [
        "df['data_string'] = df['year'].astype('str') + '/' + df['month'].astype('str') + '/' + df['day'].astype('str')\n",
        "\n",
        "df[['data','data_string']].head()"
      ],
      "metadata": {
        "colab": {
          "base_uri": "https://localhost:8080/",
          "height": 206
        },
        "id": "0uut3es9hmBw",
        "outputId": "08d57f15-2760-44a9-d9f7-a2022cc86188"
      },
      "execution_count": 12,
      "outputs": [
        {
          "output_type": "execute_result",
          "data": {
            "text/plain": [
              "                        data data_string\n",
              "0 2023-02-21 18:53:44.467532   2023/2/21\n",
              "1 2023-02-22 18:53:44.467532   2023/2/22\n",
              "2 2023-02-23 18:53:44.467532   2023/2/23\n",
              "3 2023-02-24 18:53:44.467532   2023/2/24\n",
              "4 2023-02-25 18:53:44.467532   2023/2/25"
            ],
            "text/html": [
              "\n",
              "  <div id=\"df-ec2d7996-7b05-454f-bcac-2c41980aa638\">\n",
              "    <div class=\"colab-df-container\">\n",
              "      <div>\n",
              "<style scoped>\n",
              "    .dataframe tbody tr th:only-of-type {\n",
              "        vertical-align: middle;\n",
              "    }\n",
              "\n",
              "    .dataframe tbody tr th {\n",
              "        vertical-align: top;\n",
              "    }\n",
              "\n",
              "    .dataframe thead th {\n",
              "        text-align: right;\n",
              "    }\n",
              "</style>\n",
              "<table border=\"1\" class=\"dataframe\">\n",
              "  <thead>\n",
              "    <tr style=\"text-align: right;\">\n",
              "      <th></th>\n",
              "      <th>data</th>\n",
              "      <th>data_string</th>\n",
              "    </tr>\n",
              "  </thead>\n",
              "  <tbody>\n",
              "    <tr>\n",
              "      <th>0</th>\n",
              "      <td>2023-02-21 18:53:44.467532</td>\n",
              "      <td>2023/2/21</td>\n",
              "    </tr>\n",
              "    <tr>\n",
              "      <th>1</th>\n",
              "      <td>2023-02-22 18:53:44.467532</td>\n",
              "      <td>2023/2/22</td>\n",
              "    </tr>\n",
              "    <tr>\n",
              "      <th>2</th>\n",
              "      <td>2023-02-23 18:53:44.467532</td>\n",
              "      <td>2023/2/23</td>\n",
              "    </tr>\n",
              "    <tr>\n",
              "      <th>3</th>\n",
              "      <td>2023-02-24 18:53:44.467532</td>\n",
              "      <td>2023/2/24</td>\n",
              "    </tr>\n",
              "    <tr>\n",
              "      <th>4</th>\n",
              "      <td>2023-02-25 18:53:44.467532</td>\n",
              "      <td>2023/2/25</td>\n",
              "    </tr>\n",
              "  </tbody>\n",
              "</table>\n",
              "</div>\n",
              "      <button class=\"colab-df-convert\" onclick=\"convertToInteractive('df-ec2d7996-7b05-454f-bcac-2c41980aa638')\"\n",
              "              title=\"Convert this dataframe to an interactive table.\"\n",
              "              style=\"display:none;\">\n",
              "        \n",
              "  <svg xmlns=\"http://www.w3.org/2000/svg\" height=\"24px\"viewBox=\"0 0 24 24\"\n",
              "       width=\"24px\">\n",
              "    <path d=\"M0 0h24v24H0V0z\" fill=\"none\"/>\n",
              "    <path d=\"M18.56 5.44l.94 2.06.94-2.06 2.06-.94-2.06-.94-.94-2.06-.94 2.06-2.06.94zm-11 1L8.5 8.5l.94-2.06 2.06-.94-2.06-.94L8.5 2.5l-.94 2.06-2.06.94zm10 10l.94 2.06.94-2.06 2.06-.94-2.06-.94-.94-2.06-.94 2.06-2.06.94z\"/><path d=\"M17.41 7.96l-1.37-1.37c-.4-.4-.92-.59-1.43-.59-.52 0-1.04.2-1.43.59L10.3 9.45l-7.72 7.72c-.78.78-.78 2.05 0 2.83L4 21.41c.39.39.9.59 1.41.59.51 0 1.02-.2 1.41-.59l7.78-7.78 2.81-2.81c.8-.78.8-2.07 0-2.86zM5.41 20L4 18.59l7.72-7.72 1.47 1.35L5.41 20z\"/>\n",
              "  </svg>\n",
              "      </button>\n",
              "      \n",
              "  <style>\n",
              "    .colab-df-container {\n",
              "      display:flex;\n",
              "      flex-wrap:wrap;\n",
              "      gap: 12px;\n",
              "    }\n",
              "\n",
              "    .colab-df-convert {\n",
              "      background-color: #E8F0FE;\n",
              "      border: none;\n",
              "      border-radius: 50%;\n",
              "      cursor: pointer;\n",
              "      display: none;\n",
              "      fill: #1967D2;\n",
              "      height: 32px;\n",
              "      padding: 0 0 0 0;\n",
              "      width: 32px;\n",
              "    }\n",
              "\n",
              "    .colab-df-convert:hover {\n",
              "      background-color: #E2EBFA;\n",
              "      box-shadow: 0px 1px 2px rgba(60, 64, 67, 0.3), 0px 1px 3px 1px rgba(60, 64, 67, 0.15);\n",
              "      fill: #174EA6;\n",
              "    }\n",
              "\n",
              "    [theme=dark] .colab-df-convert {\n",
              "      background-color: #3B4455;\n",
              "      fill: #D2E3FC;\n",
              "    }\n",
              "\n",
              "    [theme=dark] .colab-df-convert:hover {\n",
              "      background-color: #434B5C;\n",
              "      box-shadow: 0px 1px 3px 1px rgba(0, 0, 0, 0.15);\n",
              "      filter: drop-shadow(0px 1px 2px rgba(0, 0, 0, 0.3));\n",
              "      fill: #FFFFFF;\n",
              "    }\n",
              "  </style>\n",
              "\n",
              "      <script>\n",
              "        const buttonEl =\n",
              "          document.querySelector('#df-ec2d7996-7b05-454f-bcac-2c41980aa638 button.colab-df-convert');\n",
              "        buttonEl.style.display =\n",
              "          google.colab.kernel.accessAllowed ? 'block' : 'none';\n",
              "\n",
              "        async function convertToInteractive(key) {\n",
              "          const element = document.querySelector('#df-ec2d7996-7b05-454f-bcac-2c41980aa638');\n",
              "          const dataTable =\n",
              "            await google.colab.kernel.invokeFunction('convertToInteractive',\n",
              "                                                     [key], {});\n",
              "          if (!dataTable) return;\n",
              "\n",
              "          const docLinkHtml = 'Like what you see? Visit the ' +\n",
              "            '<a target=\"_blank\" href=https://colab.research.google.com/notebooks/data_table.ipynb>data table notebook</a>'\n",
              "            + ' to learn more about interactive tables.';\n",
              "          element.innerHTML = '';\n",
              "          dataTable['output_type'] = 'display_data';\n",
              "          await google.colab.output.renderOutput(dataTable, element);\n",
              "          const docLink = document.createElement('div');\n",
              "          docLink.innerHTML = docLinkHtml;\n",
              "          element.appendChild(docLink);\n",
              "        }\n",
              "      </script>\n",
              "    </div>\n",
              "  </div>\n",
              "  "
            ]
          },
          "metadata": {},
          "execution_count": 12
        }
      ]
    },
    {
      "cell_type": "code",
      "source": [
        "df['data_from_string'] = pd.to_datetime(df['data_string'])\n",
        "# o mesmo que:\n",
        "# df['data_from_string'] = pd.to_datetime(df['data_string'],format='%Y/%m/%d')\n",
        "\n",
        "df[['data','data_string','data_from_string']].head()"
      ],
      "metadata": {
        "colab": {
          "base_uri": "https://localhost:8080/",
          "height": 206
        },
        "id": "be43RqMMjUM_",
        "outputId": "849b8c95-6a01-4fca-90e9-edd0a0965b97"
      },
      "execution_count": 13,
      "outputs": [
        {
          "output_type": "execute_result",
          "data": {
            "text/plain": [
              "                        data data_string data_from_string\n",
              "0 2023-02-21 18:53:44.467532   2023/2/21       2023-02-21\n",
              "1 2023-02-22 18:53:44.467532   2023/2/22       2023-02-22\n",
              "2 2023-02-23 18:53:44.467532   2023/2/23       2023-02-23\n",
              "3 2023-02-24 18:53:44.467532   2023/2/24       2023-02-24\n",
              "4 2023-02-25 18:53:44.467532   2023/2/25       2023-02-25"
            ],
            "text/html": [
              "\n",
              "  <div id=\"df-32a7bc03-c83c-4cfc-8f10-1cd61b5c40a6\">\n",
              "    <div class=\"colab-df-container\">\n",
              "      <div>\n",
              "<style scoped>\n",
              "    .dataframe tbody tr th:only-of-type {\n",
              "        vertical-align: middle;\n",
              "    }\n",
              "\n",
              "    .dataframe tbody tr th {\n",
              "        vertical-align: top;\n",
              "    }\n",
              "\n",
              "    .dataframe thead th {\n",
              "        text-align: right;\n",
              "    }\n",
              "</style>\n",
              "<table border=\"1\" class=\"dataframe\">\n",
              "  <thead>\n",
              "    <tr style=\"text-align: right;\">\n",
              "      <th></th>\n",
              "      <th>data</th>\n",
              "      <th>data_string</th>\n",
              "      <th>data_from_string</th>\n",
              "    </tr>\n",
              "  </thead>\n",
              "  <tbody>\n",
              "    <tr>\n",
              "      <th>0</th>\n",
              "      <td>2023-02-21 18:53:44.467532</td>\n",
              "      <td>2023/2/21</td>\n",
              "      <td>2023-02-21</td>\n",
              "    </tr>\n",
              "    <tr>\n",
              "      <th>1</th>\n",
              "      <td>2023-02-22 18:53:44.467532</td>\n",
              "      <td>2023/2/22</td>\n",
              "      <td>2023-02-22</td>\n",
              "    </tr>\n",
              "    <tr>\n",
              "      <th>2</th>\n",
              "      <td>2023-02-23 18:53:44.467532</td>\n",
              "      <td>2023/2/23</td>\n",
              "      <td>2023-02-23</td>\n",
              "    </tr>\n",
              "    <tr>\n",
              "      <th>3</th>\n",
              "      <td>2023-02-24 18:53:44.467532</td>\n",
              "      <td>2023/2/24</td>\n",
              "      <td>2023-02-24</td>\n",
              "    </tr>\n",
              "    <tr>\n",
              "      <th>4</th>\n",
              "      <td>2023-02-25 18:53:44.467532</td>\n",
              "      <td>2023/2/25</td>\n",
              "      <td>2023-02-25</td>\n",
              "    </tr>\n",
              "  </tbody>\n",
              "</table>\n",
              "</div>\n",
              "      <button class=\"colab-df-convert\" onclick=\"convertToInteractive('df-32a7bc03-c83c-4cfc-8f10-1cd61b5c40a6')\"\n",
              "              title=\"Convert this dataframe to an interactive table.\"\n",
              "              style=\"display:none;\">\n",
              "        \n",
              "  <svg xmlns=\"http://www.w3.org/2000/svg\" height=\"24px\"viewBox=\"0 0 24 24\"\n",
              "       width=\"24px\">\n",
              "    <path d=\"M0 0h24v24H0V0z\" fill=\"none\"/>\n",
              "    <path d=\"M18.56 5.44l.94 2.06.94-2.06 2.06-.94-2.06-.94-.94-2.06-.94 2.06-2.06.94zm-11 1L8.5 8.5l.94-2.06 2.06-.94-2.06-.94L8.5 2.5l-.94 2.06-2.06.94zm10 10l.94 2.06.94-2.06 2.06-.94-2.06-.94-.94-2.06-.94 2.06-2.06.94z\"/><path d=\"M17.41 7.96l-1.37-1.37c-.4-.4-.92-.59-1.43-.59-.52 0-1.04.2-1.43.59L10.3 9.45l-7.72 7.72c-.78.78-.78 2.05 0 2.83L4 21.41c.39.39.9.59 1.41.59.51 0 1.02-.2 1.41-.59l7.78-7.78 2.81-2.81c.8-.78.8-2.07 0-2.86zM5.41 20L4 18.59l7.72-7.72 1.47 1.35L5.41 20z\"/>\n",
              "  </svg>\n",
              "      </button>\n",
              "      \n",
              "  <style>\n",
              "    .colab-df-container {\n",
              "      display:flex;\n",
              "      flex-wrap:wrap;\n",
              "      gap: 12px;\n",
              "    }\n",
              "\n",
              "    .colab-df-convert {\n",
              "      background-color: #E8F0FE;\n",
              "      border: none;\n",
              "      border-radius: 50%;\n",
              "      cursor: pointer;\n",
              "      display: none;\n",
              "      fill: #1967D2;\n",
              "      height: 32px;\n",
              "      padding: 0 0 0 0;\n",
              "      width: 32px;\n",
              "    }\n",
              "\n",
              "    .colab-df-convert:hover {\n",
              "      background-color: #E2EBFA;\n",
              "      box-shadow: 0px 1px 2px rgba(60, 64, 67, 0.3), 0px 1px 3px 1px rgba(60, 64, 67, 0.15);\n",
              "      fill: #174EA6;\n",
              "    }\n",
              "\n",
              "    [theme=dark] .colab-df-convert {\n",
              "      background-color: #3B4455;\n",
              "      fill: #D2E3FC;\n",
              "    }\n",
              "\n",
              "    [theme=dark] .colab-df-convert:hover {\n",
              "      background-color: #434B5C;\n",
              "      box-shadow: 0px 1px 3px 1px rgba(0, 0, 0, 0.15);\n",
              "      filter: drop-shadow(0px 1px 2px rgba(0, 0, 0, 0.3));\n",
              "      fill: #FFFFFF;\n",
              "    }\n",
              "  </style>\n",
              "\n",
              "      <script>\n",
              "        const buttonEl =\n",
              "          document.querySelector('#df-32a7bc03-c83c-4cfc-8f10-1cd61b5c40a6 button.colab-df-convert');\n",
              "        buttonEl.style.display =\n",
              "          google.colab.kernel.accessAllowed ? 'block' : 'none';\n",
              "\n",
              "        async function convertToInteractive(key) {\n",
              "          const element = document.querySelector('#df-32a7bc03-c83c-4cfc-8f10-1cd61b5c40a6');\n",
              "          const dataTable =\n",
              "            await google.colab.kernel.invokeFunction('convertToInteractive',\n",
              "                                                     [key], {});\n",
              "          if (!dataTable) return;\n",
              "\n",
              "          const docLinkHtml = 'Like what you see? Visit the ' +\n",
              "            '<a target=\"_blank\" href=https://colab.research.google.com/notebooks/data_table.ipynb>data table notebook</a>'\n",
              "            + ' to learn more about interactive tables.';\n",
              "          element.innerHTML = '';\n",
              "          dataTable['output_type'] = 'display_data';\n",
              "          await google.colab.output.renderOutput(dataTable, element);\n",
              "          const docLink = document.createElement('div');\n",
              "          docLink.innerHTML = docLinkHtml;\n",
              "          element.appendChild(docLink);\n",
              "        }\n",
              "      </script>\n",
              "    </div>\n",
              "  </div>\n",
              "  "
            ]
          },
          "metadata": {},
          "execution_count": 13
        }
      ]
    },
    {
      "cell_type": "code",
      "source": [
        "df.dtypes"
      ],
      "metadata": {
        "colab": {
          "base_uri": "https://localhost:8080/"
        },
        "id": "JwX8aBFyj36G",
        "outputId": "2606e020-ffbe-44a8-cbc5-e868cbf82e20"
      },
      "execution_count": 14,
      "outputs": [
        {
          "output_type": "execute_result",
          "data": {
            "text/plain": [
              "data                datetime64[ns]\n",
              "year                         int64\n",
              "month                        int64\n",
              "day                          int64\n",
              "hour                         int64\n",
              "week                         int64\n",
              "data_string                 object\n",
              "data_from_string    datetime64[ns]\n",
              "dtype: object"
            ]
          },
          "metadata": {},
          "execution_count": 14
        }
      ]
    },
    {
      "cell_type": "markdown",
      "source": [
        "A função `to_datetime` transforma os dados de datas em caracteres para o formato `datetime64[ns]` do `Pandas`. A função pode automaticamente inferir o formato de entrada ou você pode informar o formato explicitamente. "
      ],
      "metadata": {
        "id": "UvnvebDqkbdO"
      }
    },
    {
      "cell_type": "markdown",
      "source": [
        "Por último, e falaremos mais sobre isso mais adiante, o emprego adequado de Séries Temporais no `Pandas` emprega as datas da Série Temporal como índices do `DataFrame` (no lugar de uma coluna qualquer). Para isso você pode *setar* o índice do `DataFrame` a partir de um atributo ou coluna que contenha as datas da Série Temporal. "
      ],
      "metadata": {
        "id": "qr4kUcc6nLrn"
      }
    },
    {
      "cell_type": "code",
      "source": [
        "df = df.set_index('data')\n",
        "df.head()"
      ],
      "metadata": {
        "colab": {
          "base_uri": "https://localhost:8080/",
          "height": 237
        },
        "id": "Z_v5cenqnMOm",
        "outputId": "d2f4439c-3f66-4adf-e4ce-fc5898151d3e"
      },
      "execution_count": 15,
      "outputs": [
        {
          "output_type": "execute_result",
          "data": {
            "text/plain": [
              "                            year  month  day  hour  week data_string  \\\n",
              "data                                                                   \n",
              "2023-02-21 18:53:44.467532  2023      2   21    18     1   2023/2/21   \n",
              "2023-02-22 18:53:44.467532  2023      2   22    18     2   2023/2/22   \n",
              "2023-02-23 18:53:44.467532  2023      2   23    18     3   2023/2/23   \n",
              "2023-02-24 18:53:44.467532  2023      2   24    18     4   2023/2/24   \n",
              "2023-02-25 18:53:44.467532  2023      2   25    18     5   2023/2/25   \n",
              "\n",
              "                           data_from_string  \n",
              "data                                         \n",
              "2023-02-21 18:53:44.467532       2023-02-21  \n",
              "2023-02-22 18:53:44.467532       2023-02-22  \n",
              "2023-02-23 18:53:44.467532       2023-02-23  \n",
              "2023-02-24 18:53:44.467532       2023-02-24  \n",
              "2023-02-25 18:53:44.467532       2023-02-25  "
            ],
            "text/html": [
              "\n",
              "  <div id=\"df-7b1909ee-7684-46d7-98e5-6f360c0c4d5d\">\n",
              "    <div class=\"colab-df-container\">\n",
              "      <div>\n",
              "<style scoped>\n",
              "    .dataframe tbody tr th:only-of-type {\n",
              "        vertical-align: middle;\n",
              "    }\n",
              "\n",
              "    .dataframe tbody tr th {\n",
              "        vertical-align: top;\n",
              "    }\n",
              "\n",
              "    .dataframe thead th {\n",
              "        text-align: right;\n",
              "    }\n",
              "</style>\n",
              "<table border=\"1\" class=\"dataframe\">\n",
              "  <thead>\n",
              "    <tr style=\"text-align: right;\">\n",
              "      <th></th>\n",
              "      <th>year</th>\n",
              "      <th>month</th>\n",
              "      <th>day</th>\n",
              "      <th>hour</th>\n",
              "      <th>week</th>\n",
              "      <th>data_string</th>\n",
              "      <th>data_from_string</th>\n",
              "    </tr>\n",
              "    <tr>\n",
              "      <th>data</th>\n",
              "      <th></th>\n",
              "      <th></th>\n",
              "      <th></th>\n",
              "      <th></th>\n",
              "      <th></th>\n",
              "      <th></th>\n",
              "      <th></th>\n",
              "    </tr>\n",
              "  </thead>\n",
              "  <tbody>\n",
              "    <tr>\n",
              "      <th>2023-02-21 18:53:44.467532</th>\n",
              "      <td>2023</td>\n",
              "      <td>2</td>\n",
              "      <td>21</td>\n",
              "      <td>18</td>\n",
              "      <td>1</td>\n",
              "      <td>2023/2/21</td>\n",
              "      <td>2023-02-21</td>\n",
              "    </tr>\n",
              "    <tr>\n",
              "      <th>2023-02-22 18:53:44.467532</th>\n",
              "      <td>2023</td>\n",
              "      <td>2</td>\n",
              "      <td>22</td>\n",
              "      <td>18</td>\n",
              "      <td>2</td>\n",
              "      <td>2023/2/22</td>\n",
              "      <td>2023-02-22</td>\n",
              "    </tr>\n",
              "    <tr>\n",
              "      <th>2023-02-23 18:53:44.467532</th>\n",
              "      <td>2023</td>\n",
              "      <td>2</td>\n",
              "      <td>23</td>\n",
              "      <td>18</td>\n",
              "      <td>3</td>\n",
              "      <td>2023/2/23</td>\n",
              "      <td>2023-02-23</td>\n",
              "    </tr>\n",
              "    <tr>\n",
              "      <th>2023-02-24 18:53:44.467532</th>\n",
              "      <td>2023</td>\n",
              "      <td>2</td>\n",
              "      <td>24</td>\n",
              "      <td>18</td>\n",
              "      <td>4</td>\n",
              "      <td>2023/2/24</td>\n",
              "      <td>2023-02-24</td>\n",
              "    </tr>\n",
              "    <tr>\n",
              "      <th>2023-02-25 18:53:44.467532</th>\n",
              "      <td>2023</td>\n",
              "      <td>2</td>\n",
              "      <td>25</td>\n",
              "      <td>18</td>\n",
              "      <td>5</td>\n",
              "      <td>2023/2/25</td>\n",
              "      <td>2023-02-25</td>\n",
              "    </tr>\n",
              "  </tbody>\n",
              "</table>\n",
              "</div>\n",
              "      <button class=\"colab-df-convert\" onclick=\"convertToInteractive('df-7b1909ee-7684-46d7-98e5-6f360c0c4d5d')\"\n",
              "              title=\"Convert this dataframe to an interactive table.\"\n",
              "              style=\"display:none;\">\n",
              "        \n",
              "  <svg xmlns=\"http://www.w3.org/2000/svg\" height=\"24px\"viewBox=\"0 0 24 24\"\n",
              "       width=\"24px\">\n",
              "    <path d=\"M0 0h24v24H0V0z\" fill=\"none\"/>\n",
              "    <path d=\"M18.56 5.44l.94 2.06.94-2.06 2.06-.94-2.06-.94-.94-2.06-.94 2.06-2.06.94zm-11 1L8.5 8.5l.94-2.06 2.06-.94-2.06-.94L8.5 2.5l-.94 2.06-2.06.94zm10 10l.94 2.06.94-2.06 2.06-.94-2.06-.94-.94-2.06-.94 2.06-2.06.94z\"/><path d=\"M17.41 7.96l-1.37-1.37c-.4-.4-.92-.59-1.43-.59-.52 0-1.04.2-1.43.59L10.3 9.45l-7.72 7.72c-.78.78-.78 2.05 0 2.83L4 21.41c.39.39.9.59 1.41.59.51 0 1.02-.2 1.41-.59l7.78-7.78 2.81-2.81c.8-.78.8-2.07 0-2.86zM5.41 20L4 18.59l7.72-7.72 1.47 1.35L5.41 20z\"/>\n",
              "  </svg>\n",
              "      </button>\n",
              "      \n",
              "  <style>\n",
              "    .colab-df-container {\n",
              "      display:flex;\n",
              "      flex-wrap:wrap;\n",
              "      gap: 12px;\n",
              "    }\n",
              "\n",
              "    .colab-df-convert {\n",
              "      background-color: #E8F0FE;\n",
              "      border: none;\n",
              "      border-radius: 50%;\n",
              "      cursor: pointer;\n",
              "      display: none;\n",
              "      fill: #1967D2;\n",
              "      height: 32px;\n",
              "      padding: 0 0 0 0;\n",
              "      width: 32px;\n",
              "    }\n",
              "\n",
              "    .colab-df-convert:hover {\n",
              "      background-color: #E2EBFA;\n",
              "      box-shadow: 0px 1px 2px rgba(60, 64, 67, 0.3), 0px 1px 3px 1px rgba(60, 64, 67, 0.15);\n",
              "      fill: #174EA6;\n",
              "    }\n",
              "\n",
              "    [theme=dark] .colab-df-convert {\n",
              "      background-color: #3B4455;\n",
              "      fill: #D2E3FC;\n",
              "    }\n",
              "\n",
              "    [theme=dark] .colab-df-convert:hover {\n",
              "      background-color: #434B5C;\n",
              "      box-shadow: 0px 1px 3px 1px rgba(0, 0, 0, 0.15);\n",
              "      filter: drop-shadow(0px 1px 2px rgba(0, 0, 0, 0.3));\n",
              "      fill: #FFFFFF;\n",
              "    }\n",
              "  </style>\n",
              "\n",
              "      <script>\n",
              "        const buttonEl =\n",
              "          document.querySelector('#df-7b1909ee-7684-46d7-98e5-6f360c0c4d5d button.colab-df-convert');\n",
              "        buttonEl.style.display =\n",
              "          google.colab.kernel.accessAllowed ? 'block' : 'none';\n",
              "\n",
              "        async function convertToInteractive(key) {\n",
              "          const element = document.querySelector('#df-7b1909ee-7684-46d7-98e5-6f360c0c4d5d');\n",
              "          const dataTable =\n",
              "            await google.colab.kernel.invokeFunction('convertToInteractive',\n",
              "                                                     [key], {});\n",
              "          if (!dataTable) return;\n",
              "\n",
              "          const docLinkHtml = 'Like what you see? Visit the ' +\n",
              "            '<a target=\"_blank\" href=https://colab.research.google.com/notebooks/data_table.ipynb>data table notebook</a>'\n",
              "            + ' to learn more about interactive tables.';\n",
              "          element.innerHTML = '';\n",
              "          dataTable['output_type'] = 'display_data';\n",
              "          await google.colab.output.renderOutput(dataTable, element);\n",
              "          const docLink = document.createElement('div');\n",
              "          docLink.innerHTML = docLinkHtml;\n",
              "          element.appendChild(docLink);\n",
              "        }\n",
              "      </script>\n",
              "    </div>\n",
              "  </div>\n",
              "  "
            ]
          },
          "metadata": {},
          "execution_count": 15
        }
      ]
    },
    {
      "cell_type": "code",
      "source": [
        "df = df.reset_index()"
      ],
      "metadata": {
        "id": "thc3uu8BpOIX"
      },
      "execution_count": 16,
      "outputs": []
    },
    {
      "cell_type": "markdown",
      "source": [
        "### Validando o formato de Datas\n",
        "\n",
        "Muitas vezes ao trabalhar com séries de temporais você pode se deparar com a necessidade de validar as datas que você encontra nos seus dados. Podem surgir datas inválidas e erros e é necessário identificar e tratar esses dados. A forma mais correta, comum e eficiente de se fazer isso é empregando-se expressões regulares. Para quem não está familiarizado com expressões regulares entretanto, esse pode ser um caminho bastante difícil. Embora não seja a forma recomendável indicamos aqui uma forma útil de validar datas empregando as funções `datetime` ou `to_datetime` do `Pandas` e que pode ser empregada por você para pequenos problemas. \n",
        "\n"
      ],
      "metadata": {
        "id": "WZQQI72XbSb1"
      }
    },
    {
      "cell_type": "code",
      "source": [
        "df['data_string'] = df['year'].astype('str') + '/' + df['month'].astype('str') + '/' + ( df['day'] + 7 ).astype('str')\n",
        "\n",
        "df[['data_string']].head()"
      ],
      "metadata": {
        "colab": {
          "base_uri": "https://localhost:8080/",
          "height": 206
        },
        "id": "dJogYyyYlFv3",
        "outputId": "ed6a5423-49d7-4d23-8f78-7c4d3323cf1c"
      },
      "execution_count": 17,
      "outputs": [
        {
          "output_type": "execute_result",
          "data": {
            "text/plain": [
              "  data_string\n",
              "0   2023/2/28\n",
              "1   2023/2/29\n",
              "2   2023/2/30\n",
              "3   2023/2/31\n",
              "4   2023/2/32"
            ],
            "text/html": [
              "\n",
              "  <div id=\"df-c279e5b3-50f7-4db8-bf17-0972d66706eb\">\n",
              "    <div class=\"colab-df-container\">\n",
              "      <div>\n",
              "<style scoped>\n",
              "    .dataframe tbody tr th:only-of-type {\n",
              "        vertical-align: middle;\n",
              "    }\n",
              "\n",
              "    .dataframe tbody tr th {\n",
              "        vertical-align: top;\n",
              "    }\n",
              "\n",
              "    .dataframe thead th {\n",
              "        text-align: right;\n",
              "    }\n",
              "</style>\n",
              "<table border=\"1\" class=\"dataframe\">\n",
              "  <thead>\n",
              "    <tr style=\"text-align: right;\">\n",
              "      <th></th>\n",
              "      <th>data_string</th>\n",
              "    </tr>\n",
              "  </thead>\n",
              "  <tbody>\n",
              "    <tr>\n",
              "      <th>0</th>\n",
              "      <td>2023/2/28</td>\n",
              "    </tr>\n",
              "    <tr>\n",
              "      <th>1</th>\n",
              "      <td>2023/2/29</td>\n",
              "    </tr>\n",
              "    <tr>\n",
              "      <th>2</th>\n",
              "      <td>2023/2/30</td>\n",
              "    </tr>\n",
              "    <tr>\n",
              "      <th>3</th>\n",
              "      <td>2023/2/31</td>\n",
              "    </tr>\n",
              "    <tr>\n",
              "      <th>4</th>\n",
              "      <td>2023/2/32</td>\n",
              "    </tr>\n",
              "  </tbody>\n",
              "</table>\n",
              "</div>\n",
              "      <button class=\"colab-df-convert\" onclick=\"convertToInteractive('df-c279e5b3-50f7-4db8-bf17-0972d66706eb')\"\n",
              "              title=\"Convert this dataframe to an interactive table.\"\n",
              "              style=\"display:none;\">\n",
              "        \n",
              "  <svg xmlns=\"http://www.w3.org/2000/svg\" height=\"24px\"viewBox=\"0 0 24 24\"\n",
              "       width=\"24px\">\n",
              "    <path d=\"M0 0h24v24H0V0z\" fill=\"none\"/>\n",
              "    <path d=\"M18.56 5.44l.94 2.06.94-2.06 2.06-.94-2.06-.94-.94-2.06-.94 2.06-2.06.94zm-11 1L8.5 8.5l.94-2.06 2.06-.94-2.06-.94L8.5 2.5l-.94 2.06-2.06.94zm10 10l.94 2.06.94-2.06 2.06-.94-2.06-.94-.94-2.06-.94 2.06-2.06.94z\"/><path d=\"M17.41 7.96l-1.37-1.37c-.4-.4-.92-.59-1.43-.59-.52 0-1.04.2-1.43.59L10.3 9.45l-7.72 7.72c-.78.78-.78 2.05 0 2.83L4 21.41c.39.39.9.59 1.41.59.51 0 1.02-.2 1.41-.59l7.78-7.78 2.81-2.81c.8-.78.8-2.07 0-2.86zM5.41 20L4 18.59l7.72-7.72 1.47 1.35L5.41 20z\"/>\n",
              "  </svg>\n",
              "      </button>\n",
              "      \n",
              "  <style>\n",
              "    .colab-df-container {\n",
              "      display:flex;\n",
              "      flex-wrap:wrap;\n",
              "      gap: 12px;\n",
              "    }\n",
              "\n",
              "    .colab-df-convert {\n",
              "      background-color: #E8F0FE;\n",
              "      border: none;\n",
              "      border-radius: 50%;\n",
              "      cursor: pointer;\n",
              "      display: none;\n",
              "      fill: #1967D2;\n",
              "      height: 32px;\n",
              "      padding: 0 0 0 0;\n",
              "      width: 32px;\n",
              "    }\n",
              "\n",
              "    .colab-df-convert:hover {\n",
              "      background-color: #E2EBFA;\n",
              "      box-shadow: 0px 1px 2px rgba(60, 64, 67, 0.3), 0px 1px 3px 1px rgba(60, 64, 67, 0.15);\n",
              "      fill: #174EA6;\n",
              "    }\n",
              "\n",
              "    [theme=dark] .colab-df-convert {\n",
              "      background-color: #3B4455;\n",
              "      fill: #D2E3FC;\n",
              "    }\n",
              "\n",
              "    [theme=dark] .colab-df-convert:hover {\n",
              "      background-color: #434B5C;\n",
              "      box-shadow: 0px 1px 3px 1px rgba(0, 0, 0, 0.15);\n",
              "      filter: drop-shadow(0px 1px 2px rgba(0, 0, 0, 0.3));\n",
              "      fill: #FFFFFF;\n",
              "    }\n",
              "  </style>\n",
              "\n",
              "      <script>\n",
              "        const buttonEl =\n",
              "          document.querySelector('#df-c279e5b3-50f7-4db8-bf17-0972d66706eb button.colab-df-convert');\n",
              "        buttonEl.style.display =\n",
              "          google.colab.kernel.accessAllowed ? 'block' : 'none';\n",
              "\n",
              "        async function convertToInteractive(key) {\n",
              "          const element = document.querySelector('#df-c279e5b3-50f7-4db8-bf17-0972d66706eb');\n",
              "          const dataTable =\n",
              "            await google.colab.kernel.invokeFunction('convertToInteractive',\n",
              "                                                     [key], {});\n",
              "          if (!dataTable) return;\n",
              "\n",
              "          const docLinkHtml = 'Like what you see? Visit the ' +\n",
              "            '<a target=\"_blank\" href=https://colab.research.google.com/notebooks/data_table.ipynb>data table notebook</a>'\n",
              "            + ' to learn more about interactive tables.';\n",
              "          element.innerHTML = '';\n",
              "          dataTable['output_type'] = 'display_data';\n",
              "          await google.colab.output.renderOutput(dataTable, element);\n",
              "          const docLink = document.createElement('div');\n",
              "          docLink.innerHTML = docLinkHtml;\n",
              "          element.appendChild(docLink);\n",
              "        }\n",
              "      </script>\n",
              "    </div>\n",
              "  </div>\n",
              "  "
            ]
          },
          "metadata": {},
          "execution_count": 17
        }
      ]
    },
    {
      "cell_type": "code",
      "source": [
        "for day in df['data_string']:\n",
        "  try:\n",
        "    print( day, ' converted to: ', pd.to_datetime(day) )\n",
        "  except:\n",
        "    print( day, ' is a invalid date' )"
      ],
      "metadata": {
        "colab": {
          "base_uri": "https://localhost:8080/"
        },
        "id": "keBdFA-elR9m",
        "outputId": "57b98eeb-1259-443c-c769-1f048972e7ee"
      },
      "execution_count": 18,
      "outputs": [
        {
          "output_type": "stream",
          "name": "stdout",
          "text": [
            "2023/2/28  converted to:  2023-02-28 00:00:00\n",
            "2023/2/29  is a invalid date\n",
            "2023/2/30  is a invalid date\n",
            "2023/2/31  is a invalid date\n",
            "2023/2/32  is a invalid date\n",
            "2023/2/33  is a invalid date\n",
            "2023/2/34  is a invalid date\n",
            "2023/2/35  is a invalid date\n",
            "2023/3/8  converted to:  2023-03-08 00:00:00\n",
            "2023/3/9  converted to:  2023-03-09 00:00:00\n"
          ]
        }
      ]
    },
    {
      "cell_type": "markdown",
      "source": [
        "## Aquisição dos dados\n",
        "### `DataFrame`, `pd.read_csv()`\n",
        "\n",
        "Uma série temporal é um conjunto de observações no tempo. Essas observações estão geralmente armazenadas em tabelas ou bancos de dados. Uma forma simples para acessar essas tabelas é empregar o `Pandas` que é uma biblioteca de manipulação de dados em `Python`. O `Pandas` permite obter dados em vários formatos de planilhas e bancos de dados. Aqui, na maior parte dos casos vamos trabalhar com planilhas em formato `.csv`. Esses dados são trazidos no formato de um `DataFrame`.\n",
        "\n"
      ],
      "metadata": {
        "id": "dwS2CRI1ZFlA"
      }
    },
    {
      "cell_type": "code",
      "source": [
        "#@markdown\n",
        "%%capture\n",
        "!pip install yfinance\n",
        "!pip install yahoofinancials"
      ],
      "metadata": {
        "cellView": "form",
        "id": "VK5tryf1J_tq"
      },
      "execution_count": 19,
      "outputs": []
    },
    {
      "cell_type": "code",
      "source": [
        "#@markdown\n",
        "from yahoofinancials import YahooFinancials\n",
        "\n",
        "stock_name = 'EMBR3.SA'\n",
        "\n",
        "yahoo_financials = YahooFinancials(stock_name)\n",
        "data=yahoo_financials.get_historical_price_data(\"2000-01-01\", \"2022-08-31\", \"daily\")\n",
        "\n",
        "df = pd.DataFrame(data[stock_name]['prices'])\n",
        "\n",
        "df.to_csv('embr3.csv',index=None)\n"
      ],
      "metadata": {
        "cellView": "form",
        "id": "ckRaBfxsLxIa"
      },
      "execution_count": 20,
      "outputs": []
    },
    {
      "cell_type": "code",
      "source": [
        "import pandas as pd\n",
        "\n",
        "df = pd.read_csv('/content/embr3.csv')\n",
        "\n",
        "display(df.head())"
      ],
      "metadata": {
        "colab": {
          "base_uri": "https://localhost:8080/",
          "height": 206
        },
        "id": "UgLEquU_-6pj",
        "outputId": "9c457f1d-b308-45c1-80e0-1e4d70eeb3ea"
      },
      "execution_count": 21,
      "outputs": [
        {
          "output_type": "display_data",
          "data": {
            "text/plain": [
              "        date      high       low      open     close     volume  adjclose  \\\n",
              "0  946900800  7.758318  7.005253  7.758318  7.162872  1121444.0  6.064208   \n",
              "1  946987200  6.830122  6.304728  6.830122  6.304728  1432068.0  5.337687   \n",
              "2  947073600  6.593695  6.217162  6.453590  6.541155  1100888.0  5.537851   \n",
              "3  947160000  6.479859  6.304728  6.479859  6.330998   523036.0  5.359928   \n",
              "4  947246400  6.567425  6.348511  6.558669  6.523642   480782.0  5.523025   \n",
              "\n",
              "  formatted_date  \n",
              "0     2000-01-03  \n",
              "1     2000-01-04  \n",
              "2     2000-01-05  \n",
              "3     2000-01-06  \n",
              "4     2000-01-07  "
            ],
            "text/html": [
              "\n",
              "  <div id=\"df-6e936de9-148f-44c0-a687-788450e7c577\">\n",
              "    <div class=\"colab-df-container\">\n",
              "      <div>\n",
              "<style scoped>\n",
              "    .dataframe tbody tr th:only-of-type {\n",
              "        vertical-align: middle;\n",
              "    }\n",
              "\n",
              "    .dataframe tbody tr th {\n",
              "        vertical-align: top;\n",
              "    }\n",
              "\n",
              "    .dataframe thead th {\n",
              "        text-align: right;\n",
              "    }\n",
              "</style>\n",
              "<table border=\"1\" class=\"dataframe\">\n",
              "  <thead>\n",
              "    <tr style=\"text-align: right;\">\n",
              "      <th></th>\n",
              "      <th>date</th>\n",
              "      <th>high</th>\n",
              "      <th>low</th>\n",
              "      <th>open</th>\n",
              "      <th>close</th>\n",
              "      <th>volume</th>\n",
              "      <th>adjclose</th>\n",
              "      <th>formatted_date</th>\n",
              "    </tr>\n",
              "  </thead>\n",
              "  <tbody>\n",
              "    <tr>\n",
              "      <th>0</th>\n",
              "      <td>946900800</td>\n",
              "      <td>7.758318</td>\n",
              "      <td>7.005253</td>\n",
              "      <td>7.758318</td>\n",
              "      <td>7.162872</td>\n",
              "      <td>1121444.0</td>\n",
              "      <td>6.064208</td>\n",
              "      <td>2000-01-03</td>\n",
              "    </tr>\n",
              "    <tr>\n",
              "      <th>1</th>\n",
              "      <td>946987200</td>\n",
              "      <td>6.830122</td>\n",
              "      <td>6.304728</td>\n",
              "      <td>6.830122</td>\n",
              "      <td>6.304728</td>\n",
              "      <td>1432068.0</td>\n",
              "      <td>5.337687</td>\n",
              "      <td>2000-01-04</td>\n",
              "    </tr>\n",
              "    <tr>\n",
              "      <th>2</th>\n",
              "      <td>947073600</td>\n",
              "      <td>6.593695</td>\n",
              "      <td>6.217162</td>\n",
              "      <td>6.453590</td>\n",
              "      <td>6.541155</td>\n",
              "      <td>1100888.0</td>\n",
              "      <td>5.537851</td>\n",
              "      <td>2000-01-05</td>\n",
              "    </tr>\n",
              "    <tr>\n",
              "      <th>3</th>\n",
              "      <td>947160000</td>\n",
              "      <td>6.479859</td>\n",
              "      <td>6.304728</td>\n",
              "      <td>6.479859</td>\n",
              "      <td>6.330998</td>\n",
              "      <td>523036.0</td>\n",
              "      <td>5.359928</td>\n",
              "      <td>2000-01-06</td>\n",
              "    </tr>\n",
              "    <tr>\n",
              "      <th>4</th>\n",
              "      <td>947246400</td>\n",
              "      <td>6.567425</td>\n",
              "      <td>6.348511</td>\n",
              "      <td>6.558669</td>\n",
              "      <td>6.523642</td>\n",
              "      <td>480782.0</td>\n",
              "      <td>5.523025</td>\n",
              "      <td>2000-01-07</td>\n",
              "    </tr>\n",
              "  </tbody>\n",
              "</table>\n",
              "</div>\n",
              "      <button class=\"colab-df-convert\" onclick=\"convertToInteractive('df-6e936de9-148f-44c0-a687-788450e7c577')\"\n",
              "              title=\"Convert this dataframe to an interactive table.\"\n",
              "              style=\"display:none;\">\n",
              "        \n",
              "  <svg xmlns=\"http://www.w3.org/2000/svg\" height=\"24px\"viewBox=\"0 0 24 24\"\n",
              "       width=\"24px\">\n",
              "    <path d=\"M0 0h24v24H0V0z\" fill=\"none\"/>\n",
              "    <path d=\"M18.56 5.44l.94 2.06.94-2.06 2.06-.94-2.06-.94-.94-2.06-.94 2.06-2.06.94zm-11 1L8.5 8.5l.94-2.06 2.06-.94-2.06-.94L8.5 2.5l-.94 2.06-2.06.94zm10 10l.94 2.06.94-2.06 2.06-.94-2.06-.94-.94-2.06-.94 2.06-2.06.94z\"/><path d=\"M17.41 7.96l-1.37-1.37c-.4-.4-.92-.59-1.43-.59-.52 0-1.04.2-1.43.59L10.3 9.45l-7.72 7.72c-.78.78-.78 2.05 0 2.83L4 21.41c.39.39.9.59 1.41.59.51 0 1.02-.2 1.41-.59l7.78-7.78 2.81-2.81c.8-.78.8-2.07 0-2.86zM5.41 20L4 18.59l7.72-7.72 1.47 1.35L5.41 20z\"/>\n",
              "  </svg>\n",
              "      </button>\n",
              "      \n",
              "  <style>\n",
              "    .colab-df-container {\n",
              "      display:flex;\n",
              "      flex-wrap:wrap;\n",
              "      gap: 12px;\n",
              "    }\n",
              "\n",
              "    .colab-df-convert {\n",
              "      background-color: #E8F0FE;\n",
              "      border: none;\n",
              "      border-radius: 50%;\n",
              "      cursor: pointer;\n",
              "      display: none;\n",
              "      fill: #1967D2;\n",
              "      height: 32px;\n",
              "      padding: 0 0 0 0;\n",
              "      width: 32px;\n",
              "    }\n",
              "\n",
              "    .colab-df-convert:hover {\n",
              "      background-color: #E2EBFA;\n",
              "      box-shadow: 0px 1px 2px rgba(60, 64, 67, 0.3), 0px 1px 3px 1px rgba(60, 64, 67, 0.15);\n",
              "      fill: #174EA6;\n",
              "    }\n",
              "\n",
              "    [theme=dark] .colab-df-convert {\n",
              "      background-color: #3B4455;\n",
              "      fill: #D2E3FC;\n",
              "    }\n",
              "\n",
              "    [theme=dark] .colab-df-convert:hover {\n",
              "      background-color: #434B5C;\n",
              "      box-shadow: 0px 1px 3px 1px rgba(0, 0, 0, 0.15);\n",
              "      filter: drop-shadow(0px 1px 2px rgba(0, 0, 0, 0.3));\n",
              "      fill: #FFFFFF;\n",
              "    }\n",
              "  </style>\n",
              "\n",
              "      <script>\n",
              "        const buttonEl =\n",
              "          document.querySelector('#df-6e936de9-148f-44c0-a687-788450e7c577 button.colab-df-convert');\n",
              "        buttonEl.style.display =\n",
              "          google.colab.kernel.accessAllowed ? 'block' : 'none';\n",
              "\n",
              "        async function convertToInteractive(key) {\n",
              "          const element = document.querySelector('#df-6e936de9-148f-44c0-a687-788450e7c577');\n",
              "          const dataTable =\n",
              "            await google.colab.kernel.invokeFunction('convertToInteractive',\n",
              "                                                     [key], {});\n",
              "          if (!dataTable) return;\n",
              "\n",
              "          const docLinkHtml = 'Like what you see? Visit the ' +\n",
              "            '<a target=\"_blank\" href=https://colab.research.google.com/notebooks/data_table.ipynb>data table notebook</a>'\n",
              "            + ' to learn more about interactive tables.';\n",
              "          element.innerHTML = '';\n",
              "          dataTable['output_type'] = 'display_data';\n",
              "          await google.colab.output.renderOutput(dataTable, element);\n",
              "          const docLink = document.createElement('div');\n",
              "          docLink.innerHTML = docLinkHtml;\n",
              "          element.appendChild(docLink);\n",
              "        }\n",
              "      </script>\n",
              "    </div>\n",
              "  </div>\n",
              "  "
            ]
          },
          "metadata": {}
        }
      ]
    },
    {
      "cell_type": "markdown",
      "source": [
        "Aqui nossa série de dados são valores diários das ações da empresa Embraer (EMBR3.SA)."
      ],
      "metadata": {
        "id": "TkfzDbF-a6cB"
      }
    },
    {
      "cell_type": "markdown",
      "source": [
        "## Índices\n",
        "### `df.index`, `tspdisplay()`\n",
        "\n",
        "Como você ver no `display` anterior cada observação tem um número sequencial $0, 1, 2, ...$ . No `Pandas` esse valor é o *índice* dos registros da tabela. No caso de Séries Temporais, entretanto, é mais útil para uma série de operações empregarmos a série de tempo como índice dos dados. Isso pode ser feito diversas formas como empregar um campo de data existente da tabela como abaixo."
      ],
      "metadata": {
        "id": "a1kji2Y6cKeL"
      }
    },
    {
      "cell_type": "code",
      "source": [
        "df.index = pd.to_datetime(df['formatted_date'])\n",
        "tspdisplay('df')"
      ],
      "metadata": {
        "colab": {
          "base_uri": "https://localhost:8080/",
          "height": 319
        },
        "id": "GVsO66Rz_Y0D",
        "outputId": "a408d261-4517-4cd1-f2d7-479cdd17d5f4"
      },
      "execution_count": 22,
      "outputs": [
        {
          "output_type": "execute_result",
          "data": {
            "text/plain": [
              "df\n",
              "                     date      high       low      open     close     volume  \\\n",
              "formatted_date                                                                 \n",
              "2000-01-03      946900800  7.758318  7.005253  7.758318  7.162872  1121444.0   \n",
              "2000-01-04      946987200  6.830122  6.304728  6.830122  6.304728  1432068.0   \n",
              "2000-01-05      947073600  6.593695  6.217162  6.453590  6.541155  1100888.0   \n",
              "2000-01-06      947160000  6.479859  6.304728  6.479859  6.330998   523036.0   \n",
              "2000-01-07      947246400  6.567425  6.348511  6.558669  6.523642   480782.0   \n",
              "\n",
              "                adjclose formatted_date  \n",
              "formatted_date                           \n",
              "2000-01-03      6.064208     2000-01-03  \n",
              "2000-01-04      5.337687     2000-01-04  \n",
              "2000-01-05      5.537851     2000-01-05  \n",
              "2000-01-06      5.359928     2000-01-06  \n",
              "2000-01-07      5.523025     2000-01-07  "
            ],
            "text/html": [
              "<div style=\"float: left; padding: 10px;\">\n",
              "    <hr>\n",
              "    <h3 style='font-family:\"Courier New\", Courier, monospace'>df</h3><hr><div>\n",
              "<style scoped>\n",
              "    .dataframe tbody tr th:only-of-type {\n",
              "        vertical-align: middle;\n",
              "    }\n",
              "\n",
              "    .dataframe tbody tr th {\n",
              "        vertical-align: top;\n",
              "    }\n",
              "\n",
              "    .dataframe thead th {\n",
              "        text-align: right;\n",
              "    }\n",
              "</style>\n",
              "<table border=\"1\" class=\"dataframe\">\n",
              "  <thead>\n",
              "    <tr style=\"text-align: right;\">\n",
              "      <th></th>\n",
              "      <th>date</th>\n",
              "      <th>high</th>\n",
              "      <th>low</th>\n",
              "      <th>open</th>\n",
              "      <th>close</th>\n",
              "      <th>volume</th>\n",
              "      <th>adjclose</th>\n",
              "      <th>formatted_date</th>\n",
              "    </tr>\n",
              "    <tr>\n",
              "      <th>formatted_date</th>\n",
              "      <th></th>\n",
              "      <th></th>\n",
              "      <th></th>\n",
              "      <th></th>\n",
              "      <th></th>\n",
              "      <th></th>\n",
              "      <th></th>\n",
              "      <th></th>\n",
              "    </tr>\n",
              "  </thead>\n",
              "  <tbody>\n",
              "    <tr>\n",
              "      <th>2000-01-03</th>\n",
              "      <td>946900800</td>\n",
              "      <td>7.758318</td>\n",
              "      <td>7.005253</td>\n",
              "      <td>7.758318</td>\n",
              "      <td>7.162872</td>\n",
              "      <td>1121444.0</td>\n",
              "      <td>6.064208</td>\n",
              "      <td>2000-01-03</td>\n",
              "    </tr>\n",
              "    <tr>\n",
              "      <th>2000-01-04</th>\n",
              "      <td>946987200</td>\n",
              "      <td>6.830122</td>\n",
              "      <td>6.304728</td>\n",
              "      <td>6.830122</td>\n",
              "      <td>6.304728</td>\n",
              "      <td>1432068.0</td>\n",
              "      <td>5.337687</td>\n",
              "      <td>2000-01-04</td>\n",
              "    </tr>\n",
              "    <tr>\n",
              "      <th>2000-01-05</th>\n",
              "      <td>947073600</td>\n",
              "      <td>6.593695</td>\n",
              "      <td>6.217162</td>\n",
              "      <td>6.453590</td>\n",
              "      <td>6.541155</td>\n",
              "      <td>1100888.0</td>\n",
              "      <td>5.537851</td>\n",
              "      <td>2000-01-05</td>\n",
              "    </tr>\n",
              "    <tr>\n",
              "      <th>2000-01-06</th>\n",
              "      <td>947160000</td>\n",
              "      <td>6.479859</td>\n",
              "      <td>6.304728</td>\n",
              "      <td>6.479859</td>\n",
              "      <td>6.330998</td>\n",
              "      <td>523036.0</td>\n",
              "      <td>5.359928</td>\n",
              "      <td>2000-01-06</td>\n",
              "    </tr>\n",
              "    <tr>\n",
              "      <th>2000-01-07</th>\n",
              "      <td>947246400</td>\n",
              "      <td>6.567425</td>\n",
              "      <td>6.348511</td>\n",
              "      <td>6.558669</td>\n",
              "      <td>6.523642</td>\n",
              "      <td>480782.0</td>\n",
              "      <td>5.523025</td>\n",
              "      <td>2000-01-07</td>\n",
              "    </tr>\n",
              "  </tbody>\n",
              "</table>\n",
              "</div>\n",
              "    </div>"
            ]
          },
          "metadata": {},
          "execution_count": 22
        }
      ]
    },
    {
      "cell_type": "markdown",
      "source": [
        "Note que o campo precisará estar em um formato `datetime` (e não como uma `string`). Note também que empregamos aqui a função `tspdisplay('df')` - note também o `'df'` entre aspas - em lugar do `display(df)` anterior. Essa função nossa tem apenas como objetivo produzir aqui uma apresentação melhor para você dos dados e você pode substituí-la pela função `display` do `Python` sempre que quiser. "
      ],
      "metadata": {
        "id": "aJ9jfymjdviC"
      }
    },
    {
      "cell_type": "markdown",
      "source": [
        "## Seleção dos dados\n",
        "### `df[ <seleção de linhas ][[ <seleção de colunas> ]]`\n",
        "\n",
        "Na maior parte do tempo estaremos interessados em uma única Série de dados. Selecionar da tabela somente a Série de dados de interesse e eliminar os demais tornará uma série de operações bastante mais simples não obrigando a referência ao atributo do valor desejado a todo momento. Além disso, muitas vezes você pode querer selecionar apenas um intervalo de tempo da Série."
      ],
      "metadata": {
        "id": "FX0jx__ifnC0"
      }
    },
    {
      "cell_type": "code",
      "source": [
        "df = df[df.index.year >= 2015][['close']]\n",
        "df.index.name = ''\n",
        "\n",
        "tspdisplay('df')"
      ],
      "metadata": {
        "colab": {
          "base_uri": "https://localhost:8080/",
          "height": 301
        },
        "id": "jKI6GYPIBP6e",
        "outputId": "d1e5e723-c5b7-44b5-9622-76a14a18a8f8"
      },
      "execution_count": 23,
      "outputs": [
        {
          "output_type": "execute_result",
          "data": {
            "text/plain": [
              "df\n",
              "                close\n",
              "                     \n",
              "2015-01-02  24.850000\n",
              "2015-01-05  24.299999\n",
              "2015-01-06  23.860001\n",
              "2015-01-07  23.680000\n",
              "2015-01-08  23.000000"
            ],
            "text/html": [
              "<div style=\"float: left; padding: 10px;\">\n",
              "    <hr>\n",
              "    <h3 style='font-family:\"Courier New\", Courier, monospace'>df</h3><hr><div>\n",
              "<style scoped>\n",
              "    .dataframe tbody tr th:only-of-type {\n",
              "        vertical-align: middle;\n",
              "    }\n",
              "\n",
              "    .dataframe tbody tr th {\n",
              "        vertical-align: top;\n",
              "    }\n",
              "\n",
              "    .dataframe thead th {\n",
              "        text-align: right;\n",
              "    }\n",
              "</style>\n",
              "<table border=\"1\" class=\"dataframe\">\n",
              "  <thead>\n",
              "    <tr style=\"text-align: right;\">\n",
              "      <th></th>\n",
              "      <th>close</th>\n",
              "    </tr>\n",
              "    <tr>\n",
              "      <th></th>\n",
              "      <th></th>\n",
              "    </tr>\n",
              "  </thead>\n",
              "  <tbody>\n",
              "    <tr>\n",
              "      <th>2015-01-02</th>\n",
              "      <td>24.850000</td>\n",
              "    </tr>\n",
              "    <tr>\n",
              "      <th>2015-01-05</th>\n",
              "      <td>24.299999</td>\n",
              "    </tr>\n",
              "    <tr>\n",
              "      <th>2015-01-06</th>\n",
              "      <td>23.860001</td>\n",
              "    </tr>\n",
              "    <tr>\n",
              "      <th>2015-01-07</th>\n",
              "      <td>23.680000</td>\n",
              "    </tr>\n",
              "    <tr>\n",
              "      <th>2015-01-08</th>\n",
              "      <td>23.000000</td>\n",
              "    </tr>\n",
              "  </tbody>\n",
              "</table>\n",
              "</div>\n",
              "    </div>"
            ]
          },
          "metadata": {},
          "execution_count": 23
        }
      ]
    },
    {
      "cell_type": "markdown",
      "source": [
        "Nosso dataframe agora é constituído por um índice no formato `datetime` e um campo de valores."
      ],
      "metadata": {
        "id": "aud5mAvlizyE"
      }
    },
    {
      "cell_type": "markdown",
      "source": [
        "> **Um DataFrame com um índice no formato `datetime` e um único campo de valores.** \n",
        "\n",
        "> **Este será o formato de normalmente adotaremos para a maior parte das Séries de dados neste livro. Adotando esse formato várias operações ficam bastante mais simples e você sempre poderá reduzir o seu conjunto de dados a este formato para a análise de uma única Série de dados.** \n",
        "\n"
      ],
      "metadata": {
        "id": "f_KjbqHdhprp"
      }
    },
    {
      "cell_type": "markdown",
      "source": [
        "Aqui nós selecionamos somente os dados de fechamento a partir de 2015 da Série original. Também retiramos o nome do índice, mas isso é opcional."
      ],
      "metadata": {
        "id": "91S8v9ERhJZo"
      }
    },
    {
      "cell_type": "markdown",
      "source": [
        "Seleções podem ser feitas também indicando valores ou range de valores do índice diretamente como chaves de consulta."
      ],
      "metadata": {
        "id": "ANQahp5qYt1G"
      }
    },
    {
      "cell_type": "code",
      "source": [
        "index = pd.DatetimeIndex(['2021-01-01', '2022-01-01', '2023-01-01', '2024-01-01', '2025-01-01'])\n",
        "\n",
        "df_ex = pd.DataFrame({'value':[0,1,2,3,4]}, index=index)\n",
        "\n",
        "tspdisplay('df_ex', 'df_ex[\"2023\":\"2025\"]', 'df_ex.loc[\"2023\"]') # .loc localiza um valor do índice (experimente sem o .loc)\n",
        "# aqui o mesmo que \n",
        "# display(df_ex, df_ex[\"2023\":\"2025\"], df_ex.loc[\"2023\"])"
      ],
      "metadata": {
        "id": "pZSV-Ci3VaAF",
        "outputId": "605f6662-1c57-4754-824b-da272047284e",
        "colab": {
          "base_uri": "https://localhost:8080/",
          "height": 287
        }
      },
      "execution_count": 24,
      "outputs": [
        {
          "output_type": "execute_result",
          "data": {
            "text/plain": [
              "df_ex\n",
              "            value\n",
              "2021-01-01      0\n",
              "2022-01-01      1\n",
              "2023-01-01      2\n",
              "2024-01-01      3\n",
              "2025-01-01      4\n",
              "\n",
              "df_ex[\"2023\":\"2025\"]\n",
              "            value\n",
              "2023-01-01      2\n",
              "2024-01-01      3\n",
              "2025-01-01      4\n",
              "\n",
              "df_ex.loc[\"2023\"]\n",
              "            value\n",
              "2023-01-01      2"
            ],
            "text/html": [
              "<div style=\"float: left; padding: 10px;\">\n",
              "    <hr>\n",
              "    <h3 style='font-family:\"Courier New\", Courier, monospace'>df_ex</h3><hr><div>\n",
              "<style scoped>\n",
              "    .dataframe tbody tr th:only-of-type {\n",
              "        vertical-align: middle;\n",
              "    }\n",
              "\n",
              "    .dataframe tbody tr th {\n",
              "        vertical-align: top;\n",
              "    }\n",
              "\n",
              "    .dataframe thead th {\n",
              "        text-align: right;\n",
              "    }\n",
              "</style>\n",
              "<table border=\"1\" class=\"dataframe\">\n",
              "  <thead>\n",
              "    <tr style=\"text-align: right;\">\n",
              "      <th></th>\n",
              "      <th>value</th>\n",
              "    </tr>\n",
              "  </thead>\n",
              "  <tbody>\n",
              "    <tr>\n",
              "      <th>2021-01-01</th>\n",
              "      <td>0</td>\n",
              "    </tr>\n",
              "    <tr>\n",
              "      <th>2022-01-01</th>\n",
              "      <td>1</td>\n",
              "    </tr>\n",
              "    <tr>\n",
              "      <th>2023-01-01</th>\n",
              "      <td>2</td>\n",
              "    </tr>\n",
              "    <tr>\n",
              "      <th>2024-01-01</th>\n",
              "      <td>3</td>\n",
              "    </tr>\n",
              "    <tr>\n",
              "      <th>2025-01-01</th>\n",
              "      <td>4</td>\n",
              "    </tr>\n",
              "  </tbody>\n",
              "</table>\n",
              "</div>\n",
              "    </div>\n",
              "<div style=\"float: left; padding: 10px;\">\n",
              "    <hr>\n",
              "    <h3 style='font-family:\"Courier New\", Courier, monospace'>df_ex[\"2023\":\"2025\"]</h3><hr><div>\n",
              "<style scoped>\n",
              "    .dataframe tbody tr th:only-of-type {\n",
              "        vertical-align: middle;\n",
              "    }\n",
              "\n",
              "    .dataframe tbody tr th {\n",
              "        vertical-align: top;\n",
              "    }\n",
              "\n",
              "    .dataframe thead th {\n",
              "        text-align: right;\n",
              "    }\n",
              "</style>\n",
              "<table border=\"1\" class=\"dataframe\">\n",
              "  <thead>\n",
              "    <tr style=\"text-align: right;\">\n",
              "      <th></th>\n",
              "      <th>value</th>\n",
              "    </tr>\n",
              "  </thead>\n",
              "  <tbody>\n",
              "    <tr>\n",
              "      <th>2023-01-01</th>\n",
              "      <td>2</td>\n",
              "    </tr>\n",
              "    <tr>\n",
              "      <th>2024-01-01</th>\n",
              "      <td>3</td>\n",
              "    </tr>\n",
              "    <tr>\n",
              "      <th>2025-01-01</th>\n",
              "      <td>4</td>\n",
              "    </tr>\n",
              "  </tbody>\n",
              "</table>\n",
              "</div>\n",
              "    </div>\n",
              "<div style=\"float: left; padding: 10px;\">\n",
              "    <hr>\n",
              "    <h3 style='font-family:\"Courier New\", Courier, monospace'>df_ex.loc[\"2023\"]</h3><hr><div>\n",
              "<style scoped>\n",
              "    .dataframe tbody tr th:only-of-type {\n",
              "        vertical-align: middle;\n",
              "    }\n",
              "\n",
              "    .dataframe tbody tr th {\n",
              "        vertical-align: top;\n",
              "    }\n",
              "\n",
              "    .dataframe thead th {\n",
              "        text-align: right;\n",
              "    }\n",
              "</style>\n",
              "<table border=\"1\" class=\"dataframe\">\n",
              "  <thead>\n",
              "    <tr style=\"text-align: right;\">\n",
              "      <th></th>\n",
              "      <th>value</th>\n",
              "    </tr>\n",
              "  </thead>\n",
              "  <tbody>\n",
              "    <tr>\n",
              "      <th>2023-01-01</th>\n",
              "      <td>2</td>\n",
              "    </tr>\n",
              "  </tbody>\n",
              "</table>\n",
              "</div>\n",
              "    </div>"
            ]
          },
          "metadata": {},
          "execution_count": 24
        }
      ]
    },
    {
      "cell_type": "markdown",
      "source": [
        "## Gráficos \n",
        "### `plot()` `tspplot()` \n",
        "\n",
        "Em geral vamos empregar a biblioteca gráfica `matplotlib` para produzir visualizações das Séries de dados. A visualização tem um papel importante na análise de Séries Temporais e vamos recorrer a ela muitas vezes. \n",
        "\n",
        "Os comandos a seguir permitem exibir nossa Série exemplo com as cotações da EMBR3.SA. "
      ],
      "metadata": {
        "id": "roeoKzsAi8m6"
      }
    },
    {
      "cell_type": "code",
      "source": [
        "fig, ax = plt.subplots(figsize=(7,4))\n",
        "\n",
        "ax.plot(df,label='Daily Close')\n",
        "ax.set_title('EMBR3.SA')\n",
        "plt.legend()\n",
        "\n",
        "plt.tight_layout()\n",
        "plt.show()"
      ],
      "metadata": {
        "colab": {
          "base_uri": "https://localhost:8080/",
          "height": 297
        },
        "id": "FR7-tGsoBhQy",
        "outputId": "77a61345-ec9e-4d32-972a-cedbc5909fca"
      },
      "execution_count": 25,
      "outputs": [
        {
          "output_type": "display_data",
          "data": {
            "text/plain": [
              "<Figure size 504x288 with 1 Axes>"
            ],
            "image/png": "[encoded data removed]"
          },
          "metadata": {}
        }
      ]
    },
    {
      "cell_type": "markdown",
      "source": [
        "Se você já é usuário de `Python` talvez tenha notado que não precisamos indicar os valores `x` e `y` do gráfico. Como nosso `DataFrame` `df` contêm um único valor e o índice é uma sequência de datas, o `matplotlib` entende tratar-se de uma série temporal e emprega automaticamente o índice como `x` do gráfico e os valores da Série de dados como `y`. Essa é apenas uma das vantagens de empregarmos esse formato. \n",
        "\n",
        "> **No formato de um DataFrame com um índice `datetime` e um único campo de valor o `matplotlib` entende tratar-se de uma série temporal e emprega automaticamente o índice como `x` do gráfico e os valores da Série de dados como `y`.**\n",
        "\n"
      ],
      "metadata": {
        "id": "xCUnKgf0j6ws"
      }
    },
    {
      "cell_type": "code",
      "source": [
        "tspplot(ts=df,title='EMBR3.SA',label='Daily Close')"
      ],
      "metadata": {
        "colab": {
          "base_uri": "https://localhost:8080/",
          "height": 297
        },
        "id": "5xTR5_qTCC0D",
        "outputId": "42de1560-d55d-4a18-e7d3-c821a12e37b7"
      },
      "execution_count": 26,
      "outputs": [
        {
          "output_type": "display_data",
          "data": {
            "text/plain": [
              "<Figure size 504x288 with 1 Axes>"
            ],
            "image/png": "[encoded data removed]"
          },
          "metadata": {}
        }
      ]
    },
    {
      "cell_type": "markdown",
      "source": [
        "Empregaremos também uma função customizada do `plot()`, o `tspplot()`, para tornar o código mais simples e, novamente, você pode empregar a função padrão ou outra biblioteca de gráficos do `Python` sempre que quiser. "
      ],
      "metadata": {
        "id": "-IuhSxj2l6Oh"
      }
    },
    {
      "cell_type": "markdown",
      "source": [
        "## Manipulações de Séries Temporais\n",
        "### `.diff() .shift() .cumsum()`\n",
        "\n",
        "Existem algumas manipulações gerais de dados, como o tratamento de dados nulos ou a normalização de valores. Mas existem algumas manipulações de valores que são específicas e que só fazem sentido para Séries Temporais. \n",
        "\n",
        "A operação `.diff()` obtem a diferença entre um valor da série e o valor anterior, enquanto a funçao `.cumsum()` acumula no valor anterior (é operação inversa do `.diff()`). A operação `.shift(n)` faz a *defasagem* da série em $n$ intervalos de tempo."
      ],
      "metadata": {
        "id": "dAntayfZm9Lo"
      }
    },
    {
      "cell_type": "code",
      "source": [
        "df_diff = df.diff()\n",
        "df_shift = df.shift()\n",
        "\n",
        "df_diff_copy = df_diff.copy()\n",
        "df_diff_copy.at[pd.to_datetime('2015-01-02'),'close'] = 24.85\n",
        "df_cumsum = df_diff_copy.cumsum()\n",
        "\n",
        "tspdisplay('df','df_diff','df_shift','df_cumsum')"
      ],
      "metadata": {
        "colab": {
          "base_uri": "https://localhost:8080/",
          "height": 301
        },
        "id": "4rO-vyYgDEtc",
        "outputId": "59b6e8cb-b90a-4a6e-bc01-1f3daa6702c5"
      },
      "execution_count": 27,
      "outputs": [
        {
          "output_type": "execute_result",
          "data": {
            "text/plain": [
              "df\n",
              "                close\n",
              "                     \n",
              "2015-01-02  24.850000\n",
              "2015-01-05  24.299999\n",
              "2015-01-06  23.860001\n",
              "2015-01-07  23.680000\n",
              "2015-01-08  23.000000\n",
              "\n",
              "df_diff\n",
              "               close\n",
              "                    \n",
              "2015-01-02       NaN\n",
              "2015-01-05 -0.550001\n",
              "2015-01-06 -0.439999\n",
              "2015-01-07 -0.180000\n",
              "2015-01-08 -0.680000\n",
              "\n",
              "df_shift\n",
              "                close\n",
              "                     \n",
              "2015-01-02        NaN\n",
              "2015-01-05  24.850000\n",
              "2015-01-06  24.299999\n",
              "2015-01-07  23.860001\n",
              "2015-01-08  23.680000\n",
              "\n",
              "df_cumsum\n",
              "                close\n",
              "                     \n",
              "2015-01-02  24.850000\n",
              "2015-01-05  24.299999\n",
              "2015-01-06  23.860000\n",
              "2015-01-07  23.680000\n",
              "2015-01-08  23.000000"
            ],
            "text/html": [
              "<div style=\"float: left; padding: 10px;\">\n",
              "    <hr>\n",
              "    <h3 style='font-family:\"Courier New\", Courier, monospace'>df</h3><hr><div>\n",
              "<style scoped>\n",
              "    .dataframe tbody tr th:only-of-type {\n",
              "        vertical-align: middle;\n",
              "    }\n",
              "\n",
              "    .dataframe tbody tr th {\n",
              "        vertical-align: top;\n",
              "    }\n",
              "\n",
              "    .dataframe thead th {\n",
              "        text-align: right;\n",
              "    }\n",
              "</style>\n",
              "<table border=\"1\" class=\"dataframe\">\n",
              "  <thead>\n",
              "    <tr style=\"text-align: right;\">\n",
              "      <th></th>\n",
              "      <th>close</th>\n",
              "    </tr>\n",
              "    <tr>\n",
              "      <th></th>\n",
              "      <th></th>\n",
              "    </tr>\n",
              "  </thead>\n",
              "  <tbody>\n",
              "    <tr>\n",
              "      <th>2015-01-02</th>\n",
              "      <td>24.850000</td>\n",
              "    </tr>\n",
              "    <tr>\n",
              "      <th>2015-01-05</th>\n",
              "      <td>24.299999</td>\n",
              "    </tr>\n",
              "    <tr>\n",
              "      <th>2015-01-06</th>\n",
              "      <td>23.860001</td>\n",
              "    </tr>\n",
              "    <tr>\n",
              "      <th>2015-01-07</th>\n",
              "      <td>23.680000</td>\n",
              "    </tr>\n",
              "    <tr>\n",
              "      <th>2015-01-08</th>\n",
              "      <td>23.000000</td>\n",
              "    </tr>\n",
              "  </tbody>\n",
              "</table>\n",
              "</div>\n",
              "    </div>\n",
              "<div style=\"float: left; padding: 10px;\">\n",
              "    <hr>\n",
              "    <h3 style='font-family:\"Courier New\", Courier, monospace'>df_diff</h3><hr><div>\n",
              "<style scoped>\n",
              "    .dataframe tbody tr th:only-of-type {\n",
              "        vertical-align: middle;\n",
              "    }\n",
              "\n",
              "    .dataframe tbody tr th {\n",
              "        vertical-align: top;\n",
              "    }\n",
              "\n",
              "    .dataframe thead th {\n",
              "        text-align: right;\n",
              "    }\n",
              "</style>\n",
              "<table border=\"1\" class=\"dataframe\">\n",
              "  <thead>\n",
              "    <tr style=\"text-align: right;\">\n",
              "      <th></th>\n",
              "      <th>close</th>\n",
              "    </tr>\n",
              "    <tr>\n",
              "      <th></th>\n",
              "      <th></th>\n",
              "    </tr>\n",
              "  </thead>\n",
              "  <tbody>\n",
              "    <tr>\n",
              "      <th>2015-01-02</th>\n",
              "      <td>NaN</td>\n",
              "    </tr>\n",
              "    <tr>\n",
              "      <th>2015-01-05</th>\n",
              "      <td>-0.550001</td>\n",
              "    </tr>\n",
              "    <tr>\n",
              "      <th>2015-01-06</th>\n",
              "      <td>-0.439999</td>\n",
              "    </tr>\n",
              "    <tr>\n",
              "      <th>2015-01-07</th>\n",
              "      <td>-0.180000</td>\n",
              "    </tr>\n",
              "    <tr>\n",
              "      <th>2015-01-08</th>\n",
              "      <td>-0.680000</td>\n",
              "    </tr>\n",
              "  </tbody>\n",
              "</table>\n",
              "</div>\n",
              "    </div>\n",
              "<div style=\"float: left; padding: 10px;\">\n",
              "    <hr>\n",
              "    <h3 style='font-family:\"Courier New\", Courier, monospace'>df_shift</h3><hr><div>\n",
              "<style scoped>\n",
              "    .dataframe tbody tr th:only-of-type {\n",
              "        vertical-align: middle;\n",
              "    }\n",
              "\n",
              "    .dataframe tbody tr th {\n",
              "        vertical-align: top;\n",
              "    }\n",
              "\n",
              "    .dataframe thead th {\n",
              "        text-align: right;\n",
              "    }\n",
              "</style>\n",
              "<table border=\"1\" class=\"dataframe\">\n",
              "  <thead>\n",
              "    <tr style=\"text-align: right;\">\n",
              "      <th></th>\n",
              "      <th>close</th>\n",
              "    </tr>\n",
              "    <tr>\n",
              "      <th></th>\n",
              "      <th></th>\n",
              "    </tr>\n",
              "  </thead>\n",
              "  <tbody>\n",
              "    <tr>\n",
              "      <th>2015-01-02</th>\n",
              "      <td>NaN</td>\n",
              "    </tr>\n",
              "    <tr>\n",
              "      <th>2015-01-05</th>\n",
              "      <td>24.850000</td>\n",
              "    </tr>\n",
              "    <tr>\n",
              "      <th>2015-01-06</th>\n",
              "      <td>24.299999</td>\n",
              "    </tr>\n",
              "    <tr>\n",
              "      <th>2015-01-07</th>\n",
              "      <td>23.860001</td>\n",
              "    </tr>\n",
              "    <tr>\n",
              "      <th>2015-01-08</th>\n",
              "      <td>23.680000</td>\n",
              "    </tr>\n",
              "  </tbody>\n",
              "</table>\n",
              "</div>\n",
              "    </div>\n",
              "<div style=\"float: left; padding: 10px;\">\n",
              "    <hr>\n",
              "    <h3 style='font-family:\"Courier New\", Courier, monospace'>df_cumsum</h3><hr><div>\n",
              "<style scoped>\n",
              "    .dataframe tbody tr th:only-of-type {\n",
              "        vertical-align: middle;\n",
              "    }\n",
              "\n",
              "    .dataframe tbody tr th {\n",
              "        vertical-align: top;\n",
              "    }\n",
              "\n",
              "    .dataframe thead th {\n",
              "        text-align: right;\n",
              "    }\n",
              "</style>\n",
              "<table border=\"1\" class=\"dataframe\">\n",
              "  <thead>\n",
              "    <tr style=\"text-align: right;\">\n",
              "      <th></th>\n",
              "      <th>close</th>\n",
              "    </tr>\n",
              "    <tr>\n",
              "      <th></th>\n",
              "      <th></th>\n",
              "    </tr>\n",
              "  </thead>\n",
              "  <tbody>\n",
              "    <tr>\n",
              "      <th>2015-01-02</th>\n",
              "      <td>24.850000</td>\n",
              "    </tr>\n",
              "    <tr>\n",
              "      <th>2015-01-05</th>\n",
              "      <td>24.299999</td>\n",
              "    </tr>\n",
              "    <tr>\n",
              "      <th>2015-01-06</th>\n",
              "      <td>23.860000</td>\n",
              "    </tr>\n",
              "    <tr>\n",
              "      <th>2015-01-07</th>\n",
              "      <td>23.680000</td>\n",
              "    </tr>\n",
              "    <tr>\n",
              "      <th>2015-01-08</th>\n",
              "      <td>23.000000</td>\n",
              "    </tr>\n",
              "  </tbody>\n",
              "</table>\n",
              "</div>\n",
              "    </div>"
            ]
          },
          "metadata": {},
          "execution_count": 27
        }
      ]
    },
    {
      "cell_type": "markdown",
      "source": [
        "Essas operações serão bastante úteis mais adiante. Por hora, você pode entender o uso dessas transformações quando, por exemplo, estamos interessados não no valor das ações da EMBR3.SA, mas nas diferenças das cotações diárias, isto é, se a o valor da ação subiu ou desceu com relação ao dia anterior. Isto é exatamente a função `diff()` e essa série é representada no gráfico a seguir (gráfico da direita). "
      ],
      "metadata": {
        "id": "6njweX0WoNLr"
      }
    },
    {
      "cell_type": "code",
      "source": [
        "fig, ax = plt.subplots(1,2,figsize=(14,4))\n",
        "\n",
        "tspplot(df,title='EMBR3.SA - Daily Close',ax=ax[0])\n",
        "tspplot(df.diff(),title='EMBR3.SA - Daily Differences',ax=ax[1])\n"
      ],
      "metadata": {
        "colab": {
          "base_uri": "https://localhost:8080/",
          "height": 246
        },
        "id": "YLMmSKVTFIq5",
        "outputId": "c8b2cf60-8476-4080-e2e4-e924f60b73ef"
      },
      "execution_count": 28,
      "outputs": [
        {
          "output_type": "display_data",
          "data": {
            "text/plain": [
              "<Figure size 1008x288 with 2 Axes>"
            ],
            "image/png": "[encoded data removed]"
          },
          "metadata": {}
        }
      ]
    },
    {
      "cell_type": "markdown",
      "source": [
        "## Reamostragem\n",
        "### `.resample()`\n",
        "\n",
        "Outra transformação útil e que só faz sentido para Séries Temporais é reamostrar os dados com uma frequencia diferente das amostras. Por exemplo, podemos reamostar nossa Série de dados dários da EMBR3.SA, para valores mensais da Série. "
      ],
      "metadata": {
        "id": "m0C72TLCpEt6"
      }
    },
    {
      "cell_type": "code",
      "source": [
        "df_monthly = df.resample('M').mean()\n",
        "\n",
        "fig, ax = plt.subplots()\n",
        "\n",
        "tspplot(df_monthly,label='Monthly Close Mean',linestyle='dashed',lw=1,ax=ax)\n",
        "tspplot(df,title='EMBR3.SA',label='Daily Close',ax=ax,alpha=0.1,lw=0.75)\n",
        "\n",
        "tspdisplay('df_monthly')"
      ],
      "metadata": {
        "colab": {
          "base_uri": "https://localhost:8080/",
          "height": 301
        },
        "id": "q_xuUQTwRUsI",
        "outputId": "88d8ddac-e331-496d-e828-63e6437f2480"
      },
      "execution_count": 29,
      "outputs": [
        {
          "output_type": "execute_result",
          "data": {
            "text/plain": [
              "df_monthly\n",
              "                close\n",
              "                     \n",
              "2015-01-31  22.755238\n",
              "2015-02-28  25.252778\n",
              "2015-03-31  24.970909\n",
              "2015-04-30  23.600000\n",
              "2015-05-31  23.789000"
            ],
            "text/html": [
              "<div style=\"float: left; padding: 10px;\">\n",
              "    <hr>\n",
              "    <h3 style='font-family:\"Courier New\", Courier, monospace'>df_monthly</h3><hr><div>\n",
              "<style scoped>\n",
              "    .dataframe tbody tr th:only-of-type {\n",
              "        vertical-align: middle;\n",
              "    }\n",
              "\n",
              "    .dataframe tbody tr th {\n",
              "        vertical-align: top;\n",
              "    }\n",
              "\n",
              "    .dataframe thead th {\n",
              "        text-align: right;\n",
              "    }\n",
              "</style>\n",
              "<table border=\"1\" class=\"dataframe\">\n",
              "  <thead>\n",
              "    <tr style=\"text-align: right;\">\n",
              "      <th></th>\n",
              "      <th>close</th>\n",
              "    </tr>\n",
              "    <tr>\n",
              "      <th></th>\n",
              "      <th></th>\n",
              "    </tr>\n",
              "  </thead>\n",
              "  <tbody>\n",
              "    <tr>\n",
              "      <th>2015-01-31</th>\n",
              "      <td>22.755238</td>\n",
              "    </tr>\n",
              "    <tr>\n",
              "      <th>2015-02-28</th>\n",
              "      <td>25.252778</td>\n",
              "    </tr>\n",
              "    <tr>\n",
              "      <th>2015-03-31</th>\n",
              "      <td>24.970909</td>\n",
              "    </tr>\n",
              "    <tr>\n",
              "      <th>2015-04-30</th>\n",
              "      <td>23.600000</td>\n",
              "    </tr>\n",
              "    <tr>\n",
              "      <th>2015-05-31</th>\n",
              "      <td>23.789000</td>\n",
              "    </tr>\n",
              "  </tbody>\n",
              "</table>\n",
              "</div>\n",
              "    </div>"
            ]
          },
          "metadata": {},
          "execution_count": 29
        },
        {
          "output_type": "display_data",
          "data": {
            "text/plain": [
              "<Figure size 504x288 with 1 Axes>"
            ],
            "image/png": "[encoded data removed]"
          },
          "metadata": {}
        }
      ]
    },
    {
      "cell_type": "markdown",
      "source": [
        "Igualmente podemos reamostra para vlores semanais, trimestrais ou anuais, assim como séries com frequecia de minutos podem ser reamostradas em horas ou dias. Aqui empregamos o valor médio do mês para a reamostragem, mas também poderíamos igualmente ter empregado o máximo, o mínimo ou a mediana."
      ],
      "metadata": {
        "id": "-EVZ5hyNpwmh"
      }
    },
    {
      "cell_type": "markdown",
      "source": [
        "## Médias Móveis\n",
        "### `rolling(n)`\n",
        "A ideia de médias móveis é obter uma *suavização* dos dados empregando um valor que é a média de uma *janela móvel* ao longo do tempo. Você aprenderá essa técnica em detalhe no próximo capítulo. Por hora basta você entender que, por exemplo, se você tem dados diários, você pode criar uma média móvel de 7d em que o primeiro valor é a média dos 7 primeiros dias, $avg[1:7]$, o próximo valor é média do segundo dia até o 8o dia, $avg[2:8]$, e assim sucessivamente, $avg[3:9]$, $avg[4:10]$, sempre em uma *janela* de tempo de 7 dias.\n",
        "\n",
        "A seguir a série de dados da EMBR3.SA com média móvel trimestral e o gráfico com as médias móveis de 3 e 12 meses. \n",
        "\n"
      ],
      "metadata": {
        "id": "aJLD5GkKqvVr"
      }
    },
    {
      "cell_type": "code",
      "source": [
        "fig, ax = plt.subplots()\n",
        "\n",
        "tspplot(df_monthly,label='Monthly Close Mean',linestyle='dashed',ax=ax)\n",
        "tspplot(df_monthly.rolling(3).mean(),title='EMBR3.SA',label='3M Move Avg',ax=ax,alpha=0.5)\n",
        "tspplot(df_monthly.rolling(12).mean(),title='EMBR3.SA',label='12M Move Avg',linestyle='dashdot',ax=ax,alpha=0.5)\n",
        "\n",
        "tspdisplay('df_monthly.rolling(3).mean()')"
      ],
      "metadata": {
        "colab": {
          "base_uri": "https://localhost:8080/",
          "height": 301
        },
        "id": "6CtPazloTeiK",
        "outputId": "65e6f9e6-cdae-4b86-c7b4-b81fe8bcb74e"
      },
      "execution_count": 30,
      "outputs": [
        {
          "output_type": "execute_result",
          "data": {
            "text/plain": [
              "df_monthly.rolling(3).mean()\n",
              "                close\n",
              "                     \n",
              "2015-01-31        NaN\n",
              "2015-02-28        NaN\n",
              "2015-03-31  24.326308\n",
              "2015-04-30  24.607896\n",
              "2015-05-31  24.119970"
            ],
            "text/html": [
              "<div style=\"float: left; padding: 10px;\">\n",
              "    <hr>\n",
              "    <h3 style='font-family:\"Courier New\", Courier, monospace'>df_monthly.rolling(3).mean()</h3><hr><div>\n",
              "<style scoped>\n",
              "    .dataframe tbody tr th:only-of-type {\n",
              "        vertical-align: middle;\n",
              "    }\n",
              "\n",
              "    .dataframe tbody tr th {\n",
              "        vertical-align: top;\n",
              "    }\n",
              "\n",
              "    .dataframe thead th {\n",
              "        text-align: right;\n",
              "    }\n",
              "</style>\n",
              "<table border=\"1\" class=\"dataframe\">\n",
              "  <thead>\n",
              "    <tr style=\"text-align: right;\">\n",
              "      <th></th>\n",
              "      <th>close</th>\n",
              "    </tr>\n",
              "    <tr>\n",
              "      <th></th>\n",
              "      <th></th>\n",
              "    </tr>\n",
              "  </thead>\n",
              "  <tbody>\n",
              "    <tr>\n",
              "      <th>2015-01-31</th>\n",
              "      <td>NaN</td>\n",
              "    </tr>\n",
              "    <tr>\n",
              "      <th>2015-02-28</th>\n",
              "      <td>NaN</td>\n",
              "    </tr>\n",
              "    <tr>\n",
              "      <th>2015-03-31</th>\n",
              "      <td>24.326308</td>\n",
              "    </tr>\n",
              "    <tr>\n",
              "      <th>2015-04-30</th>\n",
              "      <td>24.607896</td>\n",
              "    </tr>\n",
              "    <tr>\n",
              "      <th>2015-05-31</th>\n",
              "      <td>24.119970</td>\n",
              "    </tr>\n",
              "  </tbody>\n",
              "</table>\n",
              "</div>\n",
              "    </div>"
            ]
          },
          "metadata": {},
          "execution_count": 30
        },
        {
          "output_type": "display_data",
          "data": {
            "text/plain": [
              "<Figure size 504x288 with 1 Axes>"
            ],
            "image/png": "[encoded data removed]"
          },
          "metadata": {}
        }
      ]
    },
    {
      "cell_type": "markdown",
      "source": [
        "## Decomposição\n",
        "### `seasonal_decompose()`, `tspdecompose()`\n",
        "Um aspecto importante na anális de Séries Temporais é a sua decomposição. Existem 3 componentes principais, a tendência, a sazonalidade e os resíduos. Como você verá mais adiante, boa parte deste capítulo trata exatamente sobre essa decomposição. Para obter as componentes de uma Série Temporal vamos empregar a biblioteca `statsmodel`. Essa biblioteca traz uma série de funções estatísticas e modelos de séries temporais, e vamos empregar muito ela nos capítulos seguintes. A função  `seasonal_decompose()` permite facilmente observar as componentes de uma Série de dados e, do mesmo modo que antes, muitas vezes vamos empregar nosso função customizada para isso `tspdecompose()`."
      ],
      "metadata": {
        "id": "TCzmKfEqtfSq"
      }
    },
    {
      "cell_type": "code",
      "source": [
        "def tspdecompose(df,model='additive',title=None):\n",
        "  from statsmodels.tsa.seasonal import seasonal_decompose\n",
        "\n",
        "  decomp = seasonal_decompose(df, model='multiplicative')\n",
        "\n",
        "  fig = decomp.plot()\n",
        "  fig.set_size_inches((9, 7))\n",
        "\n",
        "  if title is not None:\n",
        "    plt.suptitle(title,y=1.05)\n",
        "\n",
        "  plt.tight_layout()\n",
        "  plt.show()\n",
        "\n",
        "  return"
      ],
      "metadata": {
        "id": "ZhHeUytxV2ap"
      },
      "execution_count": 31,
      "outputs": []
    },
    {
      "cell_type": "code",
      "source": [
        "tspdecompose(df_monthly,title='Monthly EMBR3.SA Decomposition')"
      ],
      "metadata": {
        "colab": {
          "base_uri": "https://localhost:8080/",
          "height": 549
        },
        "id": "1UD0mrJJWLYo",
        "outputId": "d3de29bc-1076-47a6-fd67-4d408b7dcf7d"
      },
      "execution_count": 32,
      "outputs": [
        {
          "output_type": "display_data",
          "data": {
            "text/plain": [
              "<Figure size 648x504 with 4 Axes>"
            ],
            "image/png": "[encoded data removed]"
          },
          "metadata": {}
        }
      ]
    },
    {
      "cell_type": "markdown",
      "source": [
        "## Intervalo de Confiança\n",
        "\n",
        "Um ponto importante ao se fazer previsões é o de observarmos o *intervalo de confiança*, *IC*, dos valores previstos. Mesmo no ajuste da série os valores obtidos estão sujeitos a um intervalo de confiança. Por exemplo, se para quaisquer anos os valores do mês de Jan de uma série mensal apresenta sempre o mesmo valor, você terá mais certeza sobre a sua estimativa do que se esse valor tiver vários diferentes valores, com uma variação (variância ou desvio padrão) muito grande. Assim, a variância (ou seu par, o desvio padrão) dos valores empregados para a sua estimativa, são um bom indicativo do intervalo de confiança da sua previsão. \n",
        "\n",
        "Aqui, podemos empregar o desvio padrão para estimar o intervalo de confiança. Ele vai indicar o intervalo em torno do qual estimamos encontrar os valores com uma probabilidade de 95% (esse é o valor usualmente empregado embora possamos usar outros). Assim, você vai obter um intervalo de confiança maior ao longo do ajuste para intervalos de tempo com maior variação dos valores e, intervalos menores, quando a quantidade de valores diferentes (a variação) for menor. \n",
        "\n",
        "### IC das Previsões\n",
        "\n",
        "Enquanto o IC do ajuste pode ser obtido apenas empregando-se os dados utilizados na estimativa da curva ajustada (para cada ponto, menos valores indicando um intervalo de confiança menor e, portanto, uma previsão melhor), para valores futuros não há um desvio padrão dos dados empregados. \n",
        "\n",
        "A ideia aqui é, então, estimarmos o intervalo do mesmo modo que estimamos os valores. Novamente existem diferentes técnicas que podem ser empregadas. Mas para os nossos propósitos é suficiente você entender que a cada novo período de previsão o intervalo de erro aumenta! Vamos entender isso: se você faz uma previsão para o período $t+1$ que já tem um erro, a previsão de mais um período $t+2$, sendo dependente do valor do período anterior estimado tende a aumentar o erro da previsão seguinte e assim sucessivamente. É o que chamamos de *propagação do erro*. Assim o IC, ou a *margem de erro*, aumenta a medida que nos distanciamos do período da série original. Uma forma comum de estimarmos esse intervalo adicionarmos, a cada novo período, um intervalo de mesmo tamanho do intervalo de erro anterior.\n",
        "\n",
        "\n",
        "\n"
      ],
      "metadata": {
        "id": "XSXwL6jfM5fI"
      }
    },
    {
      "cell_type": "code",
      "source": [
        "import statsmodels.formula.api as sm\n",
        "\n",
        "np.random.seed(1)\n",
        "df = pd.DataFrame()\n",
        "\n",
        "start = 10; end = 45; forecast_len = 5\n",
        "df['t'] = np.arange(start,end,1) \n",
        "df['y'] = 1 - np.sin(2 * np.pi / df.t) + np.random.sample(len(df))/10\n",
        "\n",
        "z = np.polyfit(df.t, df.y, 3)\n",
        "p = np.poly1d(z)\n",
        "\n",
        "forecast = pd.DataFrame()\n",
        "forecast['t'] = np.arange(end,end + forecast_len + 1,1)\n",
        "forecast['y_hat'] = p(np.arange(end,end + forecast_len + 1,1))\n",
        "\n",
        "df['y_hat'] = p(df.t)\n",
        "df['residuo'] = df['y'] - df['y_hat']\n",
        "\n",
        "RMSFE = np.sqrt(sum([x**2 for x in df['residuo']]) / len(df['residuo']))\n",
        "band_size = 1.96*RMSFE \n",
        "# 1.96, corresponde a um intervalo de confiança de 95%\n",
        "# ver https://otexts.com/fpp2/prediction-intervals.html\n",
        "\n",
        "forecast['step'] = np.arange(1,len(forecast)+1)\n",
        "forecast['band_size'] = forecast['step'] * band_size \n",
        "\n",
        "plt.scatter(df.t,df.y,alpha=0.6)\n",
        "plt.plot(df.t, df.y_hat, linestyle=':',label='Estimativa dos Valores Passados')\n",
        "plt.fill_between(df.t, (df['y_hat']-band_size), (df['y_hat']+band_size), color='b', alpha=.1)\n",
        "\n",
        "plt.plot(forecast.t, forecast.y_hat, linestyle='--',label='Previsão Valores Futuros')\n",
        "plt.fill_between(forecast.t, (forecast['y_hat']-forecast['band_size']), (forecast['y_hat']+forecast['band_size']), color='b', alpha=.3)\n",
        "\n",
        "plt.title('Estimativas e seu Intervalo de Confiança ($98$%)', fontsize=14, weight='bold')\n",
        "plt.xlabel('$t$, tempo', fontsize=16)\n",
        "plt.ylabel('$y(t)$', fontsize=16)\n",
        "plt.legend(loc='upper left')\n",
        "plt.show()"
      ],
      "metadata": {
        "colab": {
          "base_uri": "https://localhost:8080/",
          "height": 311
        },
        "id": "EPsms4GTkicD",
        "outputId": "7959bbc8-6ffb-4460-ef69-1302e4218377"
      },
      "execution_count": 68,
      "outputs": [
        {
          "output_type": "display_data",
          "data": {
            "text/plain": [
              "<Figure size 504x288 with 1 Axes>"
            ],
            "image/png": "[encoded data removed]"
          },
          "metadata": {}
        }
      ]
    },
    {
      "cell_type": "markdown",
      "source": [
        "Como você pode ver as estimativas ficam, a cada período com mais incerteza, o que é o esperado. É, de qualquer modo, um análise essencial ao fazermos previsões. "
      ],
      "metadata": {
        "id": "9aN4GdKOT4LK"
      }
    },
    {
      "cell_type": "markdown",
      "source": [
        "# Para Saber Mais\n",
        "\n",
        "Para uma introdução ao uso dos pacotes `Pandas` e `Matplotlib` acesse: \n",
        "\n",
        "* Jake VanderPlas. **Python Data Science Handbook** O'Reilly Media, Inc. (2016). ISBN: 9781491912058. Disponível em: https://jakevdp.github.io/PythonDataScienceHandbook/. \n",
        "\n",
        "Há também na seção *Working with Time Series* que pode ser uma introdução alternativa à manipulação de dados de Séries Temporais e o uso de datas com `Python`.\n",
        "\n",
        "<br>\n",
        "\n",
        "Acesse também a documentação oficial das bibliotecas empregadas. Lá você vai poder encontrar uma série de tutoriais, exemplos e a documentação completa dos pacotes.\n",
        "\n",
        "* `Pandas`, https://pandas.pydata.org/ \n",
        "\n",
        "* `Matplotlib`, https://matplotlib.org \n",
        "\n",
        "* `Statsmodel` https://statsmodels.org\n",
        "\n",
        "\n"
      ],
      "metadata": {
        "id": "YAPhnwf4G9Bp"
      }
    }
  ],
  "metadata": {
    "colab": {
      "provenance": [],
      "toc_visible": true,
      "authorship_tag": "ABX9TyPD3OgW47PBn1PgGh3oDC0S",
      "include_colab_link": true
    },
    "kernelspec": {
      "display_name": "Python 3",
      "name": "python3"
    },
    "language_info": {
      "name": "python"
    }
  },
  "nbformat": 4,
  "nbformat_minor": 0
}