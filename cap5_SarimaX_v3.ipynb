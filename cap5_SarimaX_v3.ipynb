{
  "nbformat": 4,
  "nbformat_minor": 0,
  "metadata": {
    "colab": {
      "provenance": [],
      "include_colab_link": true
    },
    "kernelspec": {
      "name": "python3",
      "display_name": "Python 3"
    },
    "language_info": {
      "name": "python"
    }
  },
  "cells": [
    {
      "cell_type": "markdown",
      "metadata": {
        "id": "view-in-github",
        "colab_type": "text"
      },
      "source": [
        "<a href=\"https://colab.research.google.com/github/Rogerio-mack/Temporal/blob/main/cap5_SarimaX_v3.ipynb\" target=\"_parent\"><img src=\"https://colab.research.google.com/assets/colab-badge.svg\" alt=\"Open In Colab\"/></a>"
      ]
    },
    {
      "cell_type": "markdown",
      "metadata": {
        "id": "-G7aCMh4r9y1"
      },
      "source": [
        "# **Modelos ARIMA Sazonais e com Variáveis Exógenas** \n",
        "___\n"
      ]
    },
    {
      "cell_type": "markdown",
      "source": [
        "Neste capítulo você vai aprender sobre:\n",
        "\n",
        "* Ajustar modelos ARIMA para dados com efeitos de sazonalidade\n",
        "* Levar em conta o efeito de variáveis exógenas\n",
        "* Introduzir variáveis exógenas para o melhor ajuste de modelos ARIMA "
      ],
      "metadata": {
        "id": "ej-qaIbY6CN6"
      }
    },
    {
      "cell_type": "markdown",
      "source": [
        "## Modelos SARIMA"
      ],
      "metadata": {
        "id": "b8t7f4i8Bde0"
      }
    },
    {
      "cell_type": "markdown",
      "source": [
        "Nos capítulos anteriores você aprendeu como modelar séries temporais através dos modelos ARIMA. A classe de modelos ARIMA assume entre outras premissas básicas que a série temporal estudada é estacionária, livre de tendência e sazonalidade. A estacionariedade de uma série pode ser verificada a partir do teste de Dickey Fuller, equanto que o efeito de sazonalidade pode ser visto através da visualização da decomposição entre tendência, sazonalidade e resíduo. Enquanto o efeito de estacionariedade pode ser removido através da diferenciação o efeito da sazonalidade precisa ser contabilizado caso a série assim se comporte. \n",
        "Uma parte bastante significativa das séries temporais no dia a dia apresentam efeitos de sazonalidade:\n",
        "* Temperaturas diárias: se medirmos as temperaturas de hora em hora ao longo de um dia é bem provável que depois de alguns dias se observe um comportamento sazonal. \n",
        "* Vendas mensais: lojas do varejo frequentemente observam variações periódicas nas suas vendas principalmente em função de feriados ou promoções periódicas.\n",
        "* Colheitas em agricultura: a produção agrícola segue um padrão sazonal dado que colheitas de produtos específicos acontecem em uma data específica do ano. \n",
        "\n",
        "Neste sentido podemos definir sazonalidade como sendo a tendência de um processo em se repetir dentro de um determinado período.\n",
        "A partir deste contexto é fácil perceber que a hipótese de ausência de sazonalidade em uma série temporal pode representar uma limitação significativa para a modelagem com modelos ARIMA. Essa motivação levou à criação de uma nova classe de modelos denominados em inglês por *Seasonal Autoregressive Integrated Moving Average* (SARIMA). A motivação para esses modelos corresponde exatamente à tentativa de capturar os padrões nos dados que se repetem em intervalos periódicos, tais como dias, meses e anos. \n",
        "\n",
        "O modelo SARIMA inclui tanto componentes sazonais como componentes não sazonais. Desta forma, temos uma ferramenta poderosa de forecast que é afetada por elementos sazonais. \n",
        "\n",
        "De uma forma geral, um modelo SARIMA pode ser representado da seguinte forma:\n",
        "\n",
        "$$SARIMA(p,d,q)(P,D,Q)_m$$\n",
        "\n",
        "onde:\n",
        "\n",
        "* p é a ordem da componente autoregressiva (AR) entre a série e os seus lags, e P tem o mesmo significado para a componente sazonal.\n",
        "* d é o grau de diferenciação necessário para obter estacionariedade na série, D tem o mesmo significado para a componente sazonal. \n",
        "* q é a ordem da média móvel (MA), que modela a relação entre a série e os resíduos, e Q tem o mesmo significado para a componente sazonal. \n",
        "* m representa o período observado.\n",
        "\n",
        "Vale notar que m, é um parâmetro que depende do intervalo de tempo dos dados. Se temos dados medidos ao longo de 30 dias (1 mês) e observamos uma sazonalidade com período de 7 dias, o valor de m será m=7, enquanto que se tivermos dados  mensais ao longo de 1 ano (12 meses) com sazonalidade mensal, o valor de m=1.\n",
        "\n",
        "Neste ponto, vale a pena entendermos a equação que é ajustada em um modelo SARIMA. Utilizando a mesma notação do capítulo anterior temos que: \n",
        "\n",
        "$$\n",
        "W_t^{'}=\\underbrace{\\Delta^d Y_t}_{\\text {série após d diferenças }}\n",
        "$$\n",
        "o que define o parâmetro d. No caso da série se tornar estacionária após uma diferenciação (d=1), teríamos que $W_t^{'}=Y_t-Y_{t-1}$. No entanto, em uma série com sazonalidade eventualmente também precisamos diferenciar a série na componente sazonal e assim definir o parâmetro D, de tal forma que $W_t=Y_t-Y_{t-1m}$, onde $m$ é o período observado. Deste modo a equação para $W_t$ seria:\n",
        "\n",
        "$$\n",
        "W_t=c +(\n",
        "\\underbrace{\\phi_1 W_{t-1}+\\phi_2 W_{t-2}+\\ldots+\\phi_p W_{t-p}}_{\\mathrm{p} \\text { - termos autorregressivos }}+\n",
        "\\underbrace{\\theta_1 e_{t-1}+\\theta_2 e_{t-2}+\\ldots+\\theta_q e_{t-q}}_{\\mathrm{q} \\text { - termos de Médias moveis }})+\n",
        "(\\underbrace{\\Phi_1 W_{t-1m}+\\Phi_2 W_{t-2m}+\\ldots+\\Phi_p W_{t-Pm}}_{\\mathrm{P} \\text { - termos sazonais autorregressivos }}+\n",
        "\\underbrace{\\Theta_1 e_{t-1m}+\\Theta_2 e_{t-2m}+\\ldots+\\Theta_q e_{t-Qm}}_{\\mathrm{Q} \\text { - termos sazonais de Médias moveis }})+\n",
        "e_t,\n",
        "$$\n",
        "em que $\\phi_1, \\ldots, \\phi_p, \\theta_1, \\ldots, \\theta_q,\\Phi_1, \\ldots, \\Phi_p, \\Theta_1, \\ldots, \\Theta_q$ são valores a serem estimados e $e_t$ é o ruído branco. A título de exemplo, um modelo SARIMA(2,0,3)$\\times$(2,0,1,7), ajustaria a seguinte função:\n",
        "\n",
        "$W_t=\n",
        "c+\n",
        "(\\underbrace{\\phi_1 W_{t-1}+\\phi_2 W_{t-2}}_{\\mathrm{p} \\text { - termos autorregressivos }}+\n",
        "\\underbrace{\\theta_1 e_{t-1}+\\theta_2 e_{t-2}+\\theta_3 e_{t-3}}_{\\mathrm{q} \\text { - termos de Médias moveis }})+\n",
        "(\\underbrace{\\Phi_1 W_{t-(1\\times7)}+\\Phi_2 W_{t-(2\\times7)}}_{\\mathrm{P} \\text { - termos sazonais autorregressivos }}+\n",
        "\\underbrace{\\Theta_1 e_{t-(1\\times7)}}_{\\mathrm{Q} \\text { - termos sazonais de Médias moveis }})+\n",
        "e_t,\n",
        "$\n",
        "\n",
        "É fácil perceber matematicamente a relação entre os modelos ARIMA e os modelos SARIMA. Essa relação permanece ainda explícita quando ajustamos um modelo SARIMA em Python com o uso da biblioteca statsmodel.\n",
        "\n",
        "\n"
      ],
      "metadata": {
        "id": "ZnQfyHSN69Vh"
      }
    },
    {
      "cell_type": "markdown",
      "source": [
        "### SARIMA com Python (hands-on) "
      ],
      "metadata": {
        "id": "qa3N0L-u0z-6"
      }
    },
    {
      "cell_type": "markdown",
      "source": [
        "Vamos iniciar essa sessão intalando a biblioteca pmdarima. Essa biblioteca nos permite varrer um espaço de parâmetros para determinar a partir do Akaike Information Criteria (AIC) o melhor conjunto de parâmetros (p,d,q)(P,D,Q,m). Além disso, procedemos com os imports das componentes da biblioteca statsmodel já utilizadas anteriormente. Uma recomendação importante é rodar o comando pip install pmdarima, antes dos demais imports. O principal motivo é pelo fato de que ele instalará uma versão específica da biblioteca statsmodel. "
      ],
      "metadata": {
        "id": "3bD7qPvJ03fZ"
      }
    },
    {
      "cell_type": "markdown",
      "source": [
        "![image.png](data:image/png;base64,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)\n"
      ],
      "metadata": {
        "id": "yFGcnOGNo1Zt"
      }
    },
    {
      "cell_type": "markdown",
      "source": [
        "1. **Visualizar os Dados:** Comece examinando os dados da série temporal e verificando se há tendências, sazonalidade ou valores discrepantes.\n",
        "\n",
        "2. **Tornar a série Estacionária:** Se os dados não forem estacionários, realize a diferenciação para remover tendências e sazonalidade. Isso garantirá que os dados tenham média e variância constantes.\n",
        "\n",
        "3. **Identificar a Sazonalidade:** Determine o período sazonal da série temporal. Isso ajudará na seleção dos parâmetros do modelo SARIMA.\n",
        "\n",
        "4. **Selecionar a Ordem do modelo ARIMA:** Use os gráficos ACF e PACF para identificar as ordens do modelo ARIMA(p, d, q). O modelo SARIMA também incluirá componentes sazonais (P, D, Q).\n",
        "\n",
        "5. **Ajustar o Modelo SARIMA:** Ajuste o modelo SARIMA usando as ordens e parâmetros identificados.\n",
        "\n",
        "6. **Avaliar o Modelo:** Avalie o desempenho do modelo usando medidas estatísticas como erro médio quadrático (MSE), Critério de Informação Akaike (AIC) e Critério de Informação Bayesiano (BIC).\n",
        "\n",
        "7. **Fazer Previsões:** Use o modelo SARIMA ajustado para fazer previsões para períodos futuros.\n"
      ],
      "metadata": {
        "id": "qXXEU2fL_huY"
      }
    },
    {
      "cell_type": "code",
      "source": [
        "pip install pmdarima"
      ],
      "metadata": {
        "colab": {
          "base_uri": "https://localhost:8080/"
        },
        "id": "onLm2G0dMynz",
        "outputId": "e08209ea-00de-4602-f0f7-7304decfe485"
      },
      "execution_count": 1,
      "outputs": [
        {
          "output_type": "stream",
          "name": "stdout",
          "text": [
            "Looking in indexes: https://pypi.org/simple, https://us-python.pkg.dev/colab-wheels/public/simple/\n",
            "Collecting pmdarima\n",
            "  Downloading pmdarima-2.0.3-cp39-cp39-manylinux_2_17_x86_64.manylinux2014_x86_64.manylinux_2_28_x86_64.whl (1.9 MB)\n",
            "\u001b[2K     \u001b[90m━━━━━━━━━━━━━━━━━━━━━━━━━━━━━━━━━━━━━━━━\u001b[0m \u001b[32m1.9/1.9 MB\u001b[0m \u001b[31m14.1 MB/s\u001b[0m eta \u001b[36m0:00:00\u001b[0m\n",
            "\u001b[?25hRequirement already satisfied: joblib>=0.11 in /usr/local/lib/python3.9/dist-packages (from pmdarima) (1.1.1)\n",
            "Requirement already satisfied: numpy>=1.21.2 in /usr/local/lib/python3.9/dist-packages (from pmdarima) (1.22.4)\n",
            "Requirement already satisfied: scipy>=1.3.2 in /usr/local/lib/python3.9/dist-packages (from pmdarima) (1.10.1)\n",
            "Requirement already satisfied: urllib3 in /usr/local/lib/python3.9/dist-packages (from pmdarima) (1.26.15)\n",
            "Requirement already satisfied: statsmodels>=0.13.2 in /usr/local/lib/python3.9/dist-packages (from pmdarima) (0.13.5)\n",
            "Requirement already satisfied: setuptools!=50.0.0,>=38.6.0 in /usr/local/lib/python3.9/dist-packages (from pmdarima) (67.6.0)\n",
            "Requirement already satisfied: Cython!=0.29.18,!=0.29.31,>=0.29 in /usr/local/lib/python3.9/dist-packages (from pmdarima) (0.29.33)\n",
            "Requirement already satisfied: scikit-learn>=0.22 in /usr/local/lib/python3.9/dist-packages (from pmdarima) (1.2.2)\n",
            "Requirement already satisfied: pandas>=0.19 in /usr/local/lib/python3.9/dist-packages (from pmdarima) (1.4.4)\n",
            "Requirement already satisfied: python-dateutil>=2.8.1 in /usr/local/lib/python3.9/dist-packages (from pandas>=0.19->pmdarima) (2.8.2)\n",
            "Requirement already satisfied: pytz>=2020.1 in /usr/local/lib/python3.9/dist-packages (from pandas>=0.19->pmdarima) (2022.7.1)\n",
            "Requirement already satisfied: threadpoolctl>=2.0.0 in /usr/local/lib/python3.9/dist-packages (from scikit-learn>=0.22->pmdarima) (3.1.0)\n",
            "Requirement already satisfied: patsy>=0.5.2 in /usr/local/lib/python3.9/dist-packages (from statsmodels>=0.13.2->pmdarima) (0.5.3)\n",
            "Requirement already satisfied: packaging>=21.3 in /usr/local/lib/python3.9/dist-packages (from statsmodels>=0.13.2->pmdarima) (23.0)\n",
            "Requirement already satisfied: six in /usr/local/lib/python3.9/dist-packages (from patsy>=0.5.2->statsmodels>=0.13.2->pmdarima) (1.16.0)\n",
            "Installing collected packages: pmdarima\n",
            "Successfully installed pmdarima-2.0.3\n"
          ]
        }
      ]
    },
    {
      "cell_type": "code",
      "execution_count": 2,
      "metadata": {
        "id": "AmcVNHoIcFwk"
      },
      "outputs": [],
      "source": [
        "#@markdown Bibliotecas básicas\n",
        "\n",
        "import pandas as pd\n",
        "import numpy as np\n",
        "import matplotlib.pyplot as plt\n",
        "%matplotlib inline\n",
        "plt.rc(\"figure\", figsize=(16,8))"
      ]
    },
    {
      "cell_type": "code",
      "source": [
        "#@markdown Bibliotecas Time Series\n",
        "\n",
        "import matplotlib.dates as mdates\n",
        "from statsmodels.graphics.tsaplots import plot_acf\n",
        "from statsmodels.graphics.tsaplots import plot_pacf\n",
        "from statsmodels.tsa.seasonal import seasonal_decompose\n",
        "from statsmodels.tsa.arima_model import ARIMA\n",
        "from statsmodels.tsa.arima_model import ARIMAResults\n",
        "import statsmodels.api as qqplot\n",
        "import scipy.stats as stats\n",
        "\n",
        "from pmdarima import auto_arima"
      ],
      "metadata": {
        "id": "aa0iPxcGB62u"
      },
      "execution_count": 3,
      "outputs": []
    },
    {
      "cell_type": "code",
      "source": [
        "path = 'https://github.com/Rogerio-mack/Temporal/raw/main/Data/'\n",
        "plt.style.use([ 'grayscale' , 'https://github.com/Rogerio-mack/Temporal/raw/main/tsp.mplstyle' ])"
      ],
      "metadata": {
        "id": "CZRi8wsKZ-eZ"
      },
      "execution_count": 4,
      "outputs": []
    },
    {
      "cell_type": "code",
      "source": [
        "#@markdown `tspplot()`\n",
        "def tspplot(ts=None,label=None,title=None,ax=None,linestyle='solid',alpha=1,lw=1,nr_xticks=None,nr_yticks=None):\n",
        "  \n",
        "  import matplotlib.ticker as ticker\n",
        "\n",
        "  if ax is None:\n",
        "    fig, ax = plt.subplots()\n",
        "  \n",
        "  if label is not None:\n",
        "    ax.plot(ts, label=label, linestyle=linestyle, lw=lw)\n",
        "  else:\n",
        "    ax.plot(ts, linestyle=linestyle,lw=lw,alpha=alpha)\n",
        "\n",
        "  if title is not None:\n",
        "    ax.set_title(title)\n",
        "\n",
        "  if nr_xticks is not None:\n",
        "    ax.xaxis.set_major_locator(ticker.MaxNLocator(nr_xticks))\n",
        "\n",
        "  if nr_yticks is not None:\n",
        "    ax.yaxis.set_major_locator(ticker.MaxNLocator(nr_yticks))  \n",
        "  \n",
        "  if label is not None:\n",
        "    plt.legend()\n",
        "\n",
        "  plt.tight_layout()\n",
        "\n",
        "  return"
      ],
      "metadata": {
        "id": "jqQYr_FM-RTk"
      },
      "execution_count": 5,
      "outputs": []
    },
    {
      "cell_type": "code",
      "source": [
        "#@markdown `tspdisplay()`\n",
        "class tspdisplay(object):\n",
        "    # Adaptado de https://jakevdp.github.io/PythonDataScienceHandbook/index.html\n",
        "    \"\"\"Display HTML representation of multiple objects\"\"\"\n",
        "    template = \"\"\"\n",
        "    \n",
        "    {0}{1}\n",
        "    \"\"\"\n",
        "    def __init__(self, *args):\n",
        "        self.args = args\n",
        "        \n",
        "    def _repr_html_(self):\n",
        "        return '\\n'.join(self.template.format(a, eval(a + '.head()')._repr_html_())\n",
        "                         for a in self.args)\n",
        "    \n",
        "    def __repr__(self):\n",
        "        return '\\n\\n'.join(a + '\\n' + repr(eval(a + '.head()'))\n",
        "                           for a in self.args)\n"
      ],
      "metadata": {
        "id": "AKtyTmWk-Xd4"
      },
      "execution_count": 6,
      "outputs": []
    },
    {
      "cell_type": "code",
      "source": [
        "\n",
        "#@markdown `tspsimulate()`\n",
        "import ipywidgets as widgets\n",
        "from statsmodels.tsa.seasonal import seasonal_decompose\n",
        "\n",
        "def tspsimulate(nr_months=60, beta_0=1, beta_1=2, beta_2=0, beta_3=0, alpha=0.2, seasons_month_len=10, noise=0.2, model='additive', show_plot=False, title='TS Sample'):\n",
        "  np.seed = 123\n",
        "  index_dates = pd.date_range(start='1/1/2000', periods=nr_months, freq='M')\n",
        "\n",
        "  t = np.arange(0,len(index_dates),1)\n",
        "  n = len(t)\n",
        "\n",
        "  T = beta_0 + beta_1*t + + beta_2*t**2 + beta_3*t**3\n",
        "  S = np.sin( np.arange(0,len(index_dates),1) * 2 * np.pi/seasons_month_len)\n",
        "  S = S # only positives values\n",
        "  S = S * T.mean() * alpha # scale\n",
        "  R = np.random.sample(n) \n",
        "  R = R # only positives values\n",
        "  R = R * T.mean() * noise # scale\n",
        "\n",
        "  if model == 'additive':\n",
        "    Y = T + S + R  \n",
        "  else:\n",
        "    Y = T * S * R  \n",
        "  \n",
        "  Y = Y + np.abs(Y.min()) + 1 # just to create only positive values\n",
        "\n",
        "  df = pd.DataFrame()\n",
        "  df.index = index_dates\n",
        "  df['t'], df['Y'], df['T'], df['S'], df['R'] = t, Y, T, S, R \n",
        "\n",
        "  global ts1\n",
        "  ts1 = df\n",
        "\n",
        "  decomp = seasonal_decompose(df.Y, model=model, period=seasons_month_len)\n",
        "\n",
        "  if show_plot:\n",
        "    fig = decomp.plot()\n",
        "    fig.set_size_inches((9, 7))\n",
        "\n",
        "    if title is not None:\n",
        "      plt.suptitle(title,y=1.05)\n",
        "\n",
        "    plt.tight_layout()\n",
        "    plt.show()\n",
        "\n",
        "  # plt.plot(df['T'])\n",
        "  # plt.show()\n",
        "\n",
        "  # plt.plot(df['S'])\n",
        "  # plt.show()\n",
        "\n",
        "  return ts1 \n",
        "\n",
        "tspsimulate_ts = widgets.interactive(tspsimulate,  alpha=(0.2,10), beta_0=(-10,10), beta_1=(-10,10), beta_2=(-10,10), beta_3=(-10,10) ,nr_months=(40,120,1), seasons_month_len=(3, 12, 3), noise=(0, 1, 0.01), model=['additive','multiplicative'], show_plot=True)"
      ],
      "metadata": {
        "id": "JyBbXVG8-e4d"
      },
      "execution_count": 7,
      "outputs": []
    },
    {
      "cell_type": "code",
      "source": [
        "#@markdown `tspdecompose()`\n",
        "def tspdecompose(df,model ='multiplicative',title=None, period='7'):\n",
        "  from statsmodels.tsa.seasonal import seasonal_decompose\n",
        "\n",
        "  decomp = seasonal_decompose(df, model=model, period = period)\n",
        "\n",
        "  fig = decomp.plot()\n",
        "  fig.set_size_inches((9, 7))\n",
        "\n",
        "  if title is not None:\n",
        "    plt.suptitle(title,y=1.05)\n",
        "\n",
        "  plt.tight_layout()\n",
        "  plt.show()\n",
        "\n",
        "  return"
      ],
      "metadata": {
        "id": "28_TuNeQ-lI6"
      },
      "execution_count": 8,
      "outputs": []
    },
    {
      "cell_type": "markdown",
      "source": [
        "Para esse exemplo em particular vamos utilizar dados de observações diárias de temperatura. "
      ],
      "metadata": {
        "id": "9CzaeUOQ3TKT"
      }
    },
    {
      "cell_type": "code",
      "source": [
        "# ler o dado\n",
        "df = pd.read_csv(path + \"daily-min-temperatures.csv\", sep=\",\")\n",
        "#verifica as 5 primeiras linhas\n",
        "df.head()"
      ],
      "metadata": {
        "id": "aHChXfI0uK2l",
        "colab": {
          "base_uri": "https://localhost:8080/",
          "height": 206
        },
        "outputId": "bd8ba972-a3ae-4b32-c0b7-82002a75b92e"
      },
      "execution_count": 9,
      "outputs": [
        {
          "output_type": "execute_result",
          "data": {
            "text/plain": [
              "         Date  Temp\n",
              "0  1981-01-01  20.7\n",
              "1  1981-01-02  17.9\n",
              "2  1981-01-03  18.8\n",
              "3  1981-01-04  14.6\n",
              "4  1981-01-05  15.8"
            ],
            "text/html": [
              "\n",
              "  <div id=\"df-14b9cf97-a3f2-4c32-b034-28c97f47a6e9\">\n",
              "    <div class=\"colab-df-container\">\n",
              "      <div>\n",
              "<style scoped>\n",
              "    .dataframe tbody tr th:only-of-type {\n",
              "        vertical-align: middle;\n",
              "    }\n",
              "\n",
              "    .dataframe tbody tr th {\n",
              "        vertical-align: top;\n",
              "    }\n",
              "\n",
              "    .dataframe thead th {\n",
              "        text-align: right;\n",
              "    }\n",
              "</style>\n",
              "<table border=\"1\" class=\"dataframe\">\n",
              "  <thead>\n",
              "    <tr style=\"text-align: right;\">\n",
              "      <th></th>\n",
              "      <th>Date</th>\n",
              "      <th>Temp</th>\n",
              "    </tr>\n",
              "  </thead>\n",
              "  <tbody>\n",
              "    <tr>\n",
              "      <th>0</th>\n",
              "      <td>1981-01-01</td>\n",
              "      <td>20.7</td>\n",
              "    </tr>\n",
              "    <tr>\n",
              "      <th>1</th>\n",
              "      <td>1981-01-02</td>\n",
              "      <td>17.9</td>\n",
              "    </tr>\n",
              "    <tr>\n",
              "      <th>2</th>\n",
              "      <td>1981-01-03</td>\n",
              "      <td>18.8</td>\n",
              "    </tr>\n",
              "    <tr>\n",
              "      <th>3</th>\n",
              "      <td>1981-01-04</td>\n",
              "      <td>14.6</td>\n",
              "    </tr>\n",
              "    <tr>\n",
              "      <th>4</th>\n",
              "      <td>1981-01-05</td>\n",
              "      <td>15.8</td>\n",
              "    </tr>\n",
              "  </tbody>\n",
              "</table>\n",
              "</div>\n",
              "      <button class=\"colab-df-convert\" onclick=\"convertToInteractive('df-14b9cf97-a3f2-4c32-b034-28c97f47a6e9')\"\n",
              "              title=\"Convert this dataframe to an interactive table.\"\n",
              "              style=\"display:none;\">\n",
              "        \n",
              "  <svg xmlns=\"http://www.w3.org/2000/svg\" height=\"24px\"viewBox=\"0 0 24 24\"\n",
              "       width=\"24px\">\n",
              "    <path d=\"M0 0h24v24H0V0z\" fill=\"none\"/>\n",
              "    <path d=\"M18.56 5.44l.94 2.06.94-2.06 2.06-.94-2.06-.94-.94-2.06-.94 2.06-2.06.94zm-11 1L8.5 8.5l.94-2.06 2.06-.94-2.06-.94L8.5 2.5l-.94 2.06-2.06.94zm10 10l.94 2.06.94-2.06 2.06-.94-2.06-.94-.94-2.06-.94 2.06-2.06.94z\"/><path d=\"M17.41 7.96l-1.37-1.37c-.4-.4-.92-.59-1.43-.59-.52 0-1.04.2-1.43.59L10.3 9.45l-7.72 7.72c-.78.78-.78 2.05 0 2.83L4 21.41c.39.39.9.59 1.41.59.51 0 1.02-.2 1.41-.59l7.78-7.78 2.81-2.81c.8-.78.8-2.07 0-2.86zM5.41 20L4 18.59l7.72-7.72 1.47 1.35L5.41 20z\"/>\n",
              "  </svg>\n",
              "      </button>\n",
              "      \n",
              "  <style>\n",
              "    .colab-df-container {\n",
              "      display:flex;\n",
              "      flex-wrap:wrap;\n",
              "      gap: 12px;\n",
              "    }\n",
              "\n",
              "    .colab-df-convert {\n",
              "      background-color: #E8F0FE;\n",
              "      border: none;\n",
              "      border-radius: 50%;\n",
              "      cursor: pointer;\n",
              "      display: none;\n",
              "      fill: #1967D2;\n",
              "      height: 32px;\n",
              "      padding: 0 0 0 0;\n",
              "      width: 32px;\n",
              "    }\n",
              "\n",
              "    .colab-df-convert:hover {\n",
              "      background-color: #E2EBFA;\n",
              "      box-shadow: 0px 1px 2px rgba(60, 64, 67, 0.3), 0px 1px 3px 1px rgba(60, 64, 67, 0.15);\n",
              "      fill: #174EA6;\n",
              "    }\n",
              "\n",
              "    [theme=dark] .colab-df-convert {\n",
              "      background-color: #3B4455;\n",
              "      fill: #D2E3FC;\n",
              "    }\n",
              "\n",
              "    [theme=dark] .colab-df-convert:hover {\n",
              "      background-color: #434B5C;\n",
              "      box-shadow: 0px 1px 3px 1px rgba(0, 0, 0, 0.15);\n",
              "      filter: drop-shadow(0px 1px 2px rgba(0, 0, 0, 0.3));\n",
              "      fill: #FFFFFF;\n",
              "    }\n",
              "  </style>\n",
              "\n",
              "      <script>\n",
              "        const buttonEl =\n",
              "          document.querySelector('#df-14b9cf97-a3f2-4c32-b034-28c97f47a6e9 button.colab-df-convert');\n",
              "        buttonEl.style.display =\n",
              "          google.colab.kernel.accessAllowed ? 'block' : 'none';\n",
              "\n",
              "        async function convertToInteractive(key) {\n",
              "          const element = document.querySelector('#df-14b9cf97-a3f2-4c32-b034-28c97f47a6e9');\n",
              "          const dataTable =\n",
              "            await google.colab.kernel.invokeFunction('convertToInteractive',\n",
              "                                                     [key], {});\n",
              "          if (!dataTable) return;\n",
              "\n",
              "          const docLinkHtml = 'Like what you see? Visit the ' +\n",
              "            '<a target=\"_blank\" href=https://colab.research.google.com/notebooks/data_table.ipynb>data table notebook</a>'\n",
              "            + ' to learn more about interactive tables.';\n",
              "          element.innerHTML = '';\n",
              "          dataTable['output_type'] = 'display_data';\n",
              "          await google.colab.output.renderOutput(dataTable, element);\n",
              "          const docLink = document.createElement('div');\n",
              "          docLink.innerHTML = docLinkHtml;\n",
              "          element.appendChild(docLink);\n",
              "        }\n",
              "      </script>\n",
              "    </div>\n",
              "  </div>\n",
              "  "
            ]
          },
          "metadata": {},
          "execution_count": 9
        }
      ]
    },
    {
      "cell_type": "markdown",
      "source": [
        "Note, que o dado acima possui possui uma estrutura bastante simples, e que a coluna **Date**, contém a informação de datas, precisa se tornar o índice. Dessa forma, vamos nos preocupar primeiramente em corrigir o formato das datas para o formato datetime, assim como utilizála de índice para o nosso conjunto de dados. Essa etapa é sempre crucial em dados de séries temporais.\n",
        "\n",
        "Neste caso em particular,a estratégia será transformar o formato da coluna **Date** para datetime aplicando o comando **to_datetime()**.  "
      ],
      "metadata": {
        "id": "bl18Nini6ygJ"
      }
    },
    {
      "cell_type": "code",
      "source": [
        "# cria nova coluna com o formato ano-mês-dia a partir da informação do quarter\n",
        "df['Date'] = pd.to_datetime(df['Date'])\n",
        "df = df.set_index('Date').asfreq('D')\n",
        "df.head()"
      ],
      "metadata": {
        "id": "f4RDz6e0DRHC",
        "colab": {
          "base_uri": "https://localhost:8080/",
          "height": 237
        },
        "outputId": "c4fb14f7-4201-4a53-c20e-9a7e7929b83d"
      },
      "execution_count": 10,
      "outputs": [
        {
          "output_type": "execute_result",
          "data": {
            "text/plain": [
              "            Temp\n",
              "Date            \n",
              "1981-01-01  20.7\n",
              "1981-01-02  17.9\n",
              "1981-01-03  18.8\n",
              "1981-01-04  14.6\n",
              "1981-01-05  15.8"
            ],
            "text/html": [
              "\n",
              "  <div id=\"df-48118250-5ac3-4bac-b1db-684fda896112\">\n",
              "    <div class=\"colab-df-container\">\n",
              "      <div>\n",
              "<style scoped>\n",
              "    .dataframe tbody tr th:only-of-type {\n",
              "        vertical-align: middle;\n",
              "    }\n",
              "\n",
              "    .dataframe tbody tr th {\n",
              "        vertical-align: top;\n",
              "    }\n",
              "\n",
              "    .dataframe thead th {\n",
              "        text-align: right;\n",
              "    }\n",
              "</style>\n",
              "<table border=\"1\" class=\"dataframe\">\n",
              "  <thead>\n",
              "    <tr style=\"text-align: right;\">\n",
              "      <th></th>\n",
              "      <th>Temp</th>\n",
              "    </tr>\n",
              "    <tr>\n",
              "      <th>Date</th>\n",
              "      <th></th>\n",
              "    </tr>\n",
              "  </thead>\n",
              "  <tbody>\n",
              "    <tr>\n",
              "      <th>1981-01-01</th>\n",
              "      <td>20.7</td>\n",
              "    </tr>\n",
              "    <tr>\n",
              "      <th>1981-01-02</th>\n",
              "      <td>17.9</td>\n",
              "    </tr>\n",
              "    <tr>\n",
              "      <th>1981-01-03</th>\n",
              "      <td>18.8</td>\n",
              "    </tr>\n",
              "    <tr>\n",
              "      <th>1981-01-04</th>\n",
              "      <td>14.6</td>\n",
              "    </tr>\n",
              "    <tr>\n",
              "      <th>1981-01-05</th>\n",
              "      <td>15.8</td>\n",
              "    </tr>\n",
              "  </tbody>\n",
              "</table>\n",
              "</div>\n",
              "      <button class=\"colab-df-convert\" onclick=\"convertToInteractive('df-48118250-5ac3-4bac-b1db-684fda896112')\"\n",
              "              title=\"Convert this dataframe to an interactive table.\"\n",
              "              style=\"display:none;\">\n",
              "        \n",
              "  <svg xmlns=\"http://www.w3.org/2000/svg\" height=\"24px\"viewBox=\"0 0 24 24\"\n",
              "       width=\"24px\">\n",
              "    <path d=\"M0 0h24v24H0V0z\" fill=\"none\"/>\n",
              "    <path d=\"M18.56 5.44l.94 2.06.94-2.06 2.06-.94-2.06-.94-.94-2.06-.94 2.06-2.06.94zm-11 1L8.5 8.5l.94-2.06 2.06-.94-2.06-.94L8.5 2.5l-.94 2.06-2.06.94zm10 10l.94 2.06.94-2.06 2.06-.94-2.06-.94-.94-2.06-.94 2.06-2.06.94z\"/><path d=\"M17.41 7.96l-1.37-1.37c-.4-.4-.92-.59-1.43-.59-.52 0-1.04.2-1.43.59L10.3 9.45l-7.72 7.72c-.78.78-.78 2.05 0 2.83L4 21.41c.39.39.9.59 1.41.59.51 0 1.02-.2 1.41-.59l7.78-7.78 2.81-2.81c.8-.78.8-2.07 0-2.86zM5.41 20L4 18.59l7.72-7.72 1.47 1.35L5.41 20z\"/>\n",
              "  </svg>\n",
              "      </button>\n",
              "      \n",
              "  <style>\n",
              "    .colab-df-container {\n",
              "      display:flex;\n",
              "      flex-wrap:wrap;\n",
              "      gap: 12px;\n",
              "    }\n",
              "\n",
              "    .colab-df-convert {\n",
              "      background-color: #E8F0FE;\n",
              "      border: none;\n",
              "      border-radius: 50%;\n",
              "      cursor: pointer;\n",
              "      display: none;\n",
              "      fill: #1967D2;\n",
              "      height: 32px;\n",
              "      padding: 0 0 0 0;\n",
              "      width: 32px;\n",
              "    }\n",
              "\n",
              "    .colab-df-convert:hover {\n",
              "      background-color: #E2EBFA;\n",
              "      box-shadow: 0px 1px 2px rgba(60, 64, 67, 0.3), 0px 1px 3px 1px rgba(60, 64, 67, 0.15);\n",
              "      fill: #174EA6;\n",
              "    }\n",
              "\n",
              "    [theme=dark] .colab-df-convert {\n",
              "      background-color: #3B4455;\n",
              "      fill: #D2E3FC;\n",
              "    }\n",
              "\n",
              "    [theme=dark] .colab-df-convert:hover {\n",
              "      background-color: #434B5C;\n",
              "      box-shadow: 0px 1px 3px 1px rgba(0, 0, 0, 0.15);\n",
              "      filter: drop-shadow(0px 1px 2px rgba(0, 0, 0, 0.3));\n",
              "      fill: #FFFFFF;\n",
              "    }\n",
              "  </style>\n",
              "\n",
              "      <script>\n",
              "        const buttonEl =\n",
              "          document.querySelector('#df-48118250-5ac3-4bac-b1db-684fda896112 button.colab-df-convert');\n",
              "        buttonEl.style.display =\n",
              "          google.colab.kernel.accessAllowed ? 'block' : 'none';\n",
              "\n",
              "        async function convertToInteractive(key) {\n",
              "          const element = document.querySelector('#df-48118250-5ac3-4bac-b1db-684fda896112');\n",
              "          const dataTable =\n",
              "            await google.colab.kernel.invokeFunction('convertToInteractive',\n",
              "                                                     [key], {});\n",
              "          if (!dataTable) return;\n",
              "\n",
              "          const docLinkHtml = 'Like what you see? Visit the ' +\n",
              "            '<a target=\"_blank\" href=https://colab.research.google.com/notebooks/data_table.ipynb>data table notebook</a>'\n",
              "            + ' to learn more about interactive tables.';\n",
              "          element.innerHTML = '';\n",
              "          dataTable['output_type'] = 'display_data';\n",
              "          await google.colab.output.renderOutput(dataTable, element);\n",
              "          const docLink = document.createElement('div');\n",
              "          docLink.innerHTML = docLinkHtml;\n",
              "          element.appendChild(docLink);\n",
              "        }\n",
              "      </script>\n",
              "    </div>\n",
              "  </div>\n",
              "  "
            ]
          },
          "metadata": {},
          "execution_count": 10
        }
      ]
    },
    {
      "cell_type": "markdown",
      "source": [
        "Ainda no contexto de explorar os dados é interessante verificar o gráfico da série histórica. No nosso caso, vamos verificar o comportamento da coluna Consumption e Income. "
      ],
      "metadata": {
        "id": "EuT_zn2Y_HcU"
      }
    },
    {
      "cell_type": "code",
      "source": [
        "tspplot(df[['Temp']])\n",
        "tspdisplay()"
      ],
      "metadata": {
        "colab": {
          "base_uri": "https://localhost:8080/",
          "height": 297
        },
        "id": "9SSsJE4Se3t6",
        "outputId": "231314f0-c4bb-43ea-cd99-789c053abede"
      },
      "execution_count": 11,
      "outputs": [
        {
          "output_type": "execute_result",
          "data": {
            "text/plain": [],
            "text/html": []
          },
          "metadata": {},
          "execution_count": 11
        },
        {
          "output_type": "display_data",
          "data": {
            "text/plain": [
              "<Figure size 504x288 with 1 Axes>"
            ],
            "image/png": "[encoded data removed]"
          },
          "metadata": {}
        }
      ]
    },
    {
      "cell_type": "markdown",
      "source": [
        "A série acima é um bom exemplo de um conjunto de dados históricos onde é difícil através apenas do gráfico identificar se existe tendência, apesar da sazonalidade evidente, assim como o período da série. Ainda assim, é importante mantermos no nosso repertório um conjunto de testes estatísticos que nos auxiliam a verificar as condições necessárias para o modelo. \n",
        "\n",
        "Neste tipo de caso procedemos com uma sequência de análises necessárias para a aplicação do modelo SARIMA através das seguintes etapas:\n",
        "\n",
        "* Verificar a estacionariedade: usamos o teste de Dickey Fuller aumentado.\n",
        "* Verificar sazonalidade: Usamos o plot da ACF e PACF assim como a decomposição entre tendência, erro e sazonalidade.\n",
        "* Definir os parâmetros (p,d,q)(P,D,Q,m): usaremos a biblioteca pmdarima para varrer o espaço de parâmetros.\n",
        "* Fazer a previsão de valores futuros: ajustamos o modelo com o melhor conjunto de parâmetros encontrados no passo anterior e na sequência fazemos a predição para o intervalo de tempo desejado.\n",
        "\n",
        "A seguir executaremos cada uma das etapas mencionadas utilizando o código Python."
      ],
      "metadata": {
        "id": "jfKpkAKECG9x"
      }
    },
    {
      "cell_type": "markdown",
      "source": [
        "### Teste de estacionariedade\n",
        "De modo a simplificar a nossa análise vamos transformar o teste aumentado de Dickey Fuller (adf_test) em uma função Python de modo a poder chamá-la diversas vezes. O código abaixo define a função desejada:"
      ],
      "metadata": {
        "id": "kNbVNzepfIYN"
      }
    },
    {
      "cell_type": "code",
      "source": [
        "from statsmodels.tsa.stattools import adfuller\n",
        "\n",
        "#Definição da função\n",
        "def adf_test(timeseries):\n",
        "    # Realiza o teste de Dickey-Fuller\n",
        "    print('Resultados do Testes de Dickey-Fuller:')\n",
        "    dftest = adfuller(timeseries, autolag='AIC')\n",
        "    dfoutput = pd.Series(dftest[0:4], index=['Test Statistic', 'p-value', '#Lags Used', 'Number of Observations Used'])\n",
        "    for key, value in dftest[4].items():\n",
        "        dfoutput['Critical Value (%s)' % key] = value\n",
        "    print(dfoutput)"
      ],
      "metadata": {
        "id": "Yp84vJp1JUJ7"
      },
      "execution_count": 12,
      "outputs": []
    },
    {
      "cell_type": "markdown",
      "source": [
        "Definida a função podemos utilizá-la para testar a série visualizada no gráfico acima. "
      ],
      "metadata": {
        "id": "kYB6atfiOEJf"
      }
    },
    {
      "cell_type": "code",
      "source": [
        "adf_test(df)"
      ],
      "metadata": {
        "colab": {
          "base_uri": "https://localhost:8080/"
        },
        "id": "yX83bkRpJWaE",
        "outputId": "5cdc66a5-139e-40cf-b166-6ef973764919"
      },
      "execution_count": 21,
      "outputs": [
        {
          "output_type": "stream",
          "name": "stdout",
          "text": [
            "Resultados do Testes de Dickey-Fuller:\n",
            "Test Statistic                  -1.892313\n",
            "p-value                          0.335686\n",
            "#Lags Used                      13.000000\n",
            "Number of Observations Used    106.000000\n",
            "Critical Value (1%)             -3.493602\n",
            "Critical Value (5%)             -2.889217\n",
            "Critical Value (10%)            -2.581533\n",
            "dtype: float64\n"
          ]
        }
      ]
    },
    {
      "cell_type": "markdown",
      "source": [
        "Os resultados acima podem ser interpretado como estacionariedade para a série considerada, uma vez que o p-valor (**p-value**) é menor que 0,05.Dessa forma, podemos proceder para o próximo passo que é verificar a sazonalidade a partir da decomposição e dos gráficos de PACF e ACF uma vez que não foi necessário diferenciar a série. "
      ],
      "metadata": {
        "id": "ICbOSBWkOWay"
      }
    },
    {
      "cell_type": "markdown",
      "source": [
        "No entanto, a grande quantidade de dados para a série histórica representa diciculdades para o ajuste automático de modelos ARIMA. Note por exemplo, que nesse caso, teremos 365 valores para cada ano, ao longo de 10 anos. Dessa forma, o que podemos fazer é uma reamostragem da série considerando valores médios para o mês. No geral não se espera que isso afete a estrutura da série, como veremos a seguir. Para fazer a reamostragem utilizamos o comando **resample** já discutido nas seções anteriores. "
      ],
      "metadata": {
        "id": "htsxEmjLPyg2"
      }
    },
    {
      "cell_type": "code",
      "source": [
        "df = df['Temp'].resample('MS').mean()"
      ],
      "metadata": {
        "id": "MMV_EnmPRDPN"
      },
      "execution_count": 14,
      "outputs": []
    },
    {
      "cell_type": "code",
      "source": [
        "df.max()"
      ],
      "metadata": {
        "colab": {
          "base_uri": "https://localhost:8080/"
        },
        "id": "g02VjzU8RJok",
        "outputId": "15f5e617-9cb2-4473-ec88-2f2c36280bdf"
      },
      "execution_count": 15,
      "outputs": [
        {
          "output_type": "execute_result",
          "data": {
            "text/plain": [
              "17.712903225806453"
            ]
          },
          "metadata": {},
          "execution_count": 15
        }
      ]
    },
    {
      "cell_type": "markdown",
      "source": [
        "Note agora que os índices correspondem a datas de início de cada mês. Graficando a nova série temos que:  "
      ],
      "metadata": {
        "id": "eHZEhz5RRNOL"
      }
    },
    {
      "cell_type": "code",
      "source": [
        "df.plot();"
      ],
      "metadata": {
        "colab": {
          "base_uri": "https://localhost:8080/",
          "height": 286
        },
        "id": "I8p2qCYgRoVH",
        "outputId": "2e2bc3b0-db9a-48ca-8030-511ffdfedb80"
      },
      "execution_count": 16,
      "outputs": [
        {
          "output_type": "display_data",
          "data": {
            "text/plain": [
              "<Figure size 504x288 with 1 Axes>"
            ],
            "image/png": "[encoded data removed]"
          },
          "metadata": {}
        }
      ]
    },
    {
      "cell_type": "markdown",
      "source": [
        "Como procedemos com uma reamostragem, obtemos uma série nova que pode inserir componentes diferentes da série anterior. Sendo assim, é prudente realizar novamente o teste de Dickey Fuller de modo a verificar a estacionariedade. Verificando novamente o teste de Dickey Fuller para estacionariedade da série reamostrada, temos que:"
      ],
      "metadata": {
        "id": "iUYRQmADUlBb"
      }
    },
    {
      "cell_type": "code",
      "source": [
        "adf_test(df)"
      ],
      "metadata": {
        "colab": {
          "base_uri": "https://localhost:8080/"
        },
        "id": "LfA-DVedR1NW",
        "outputId": "30577222-7b0c-40c6-ee62-ab5e420b576f"
      },
      "execution_count": 17,
      "outputs": [
        {
          "output_type": "stream",
          "name": "stdout",
          "text": [
            "Resultados do Testes de Dickey-Fuller:\n",
            "Test Statistic                  -1.892313\n",
            "p-value                          0.335686\n",
            "#Lags Used                      13.000000\n",
            "Number of Observations Used    106.000000\n",
            "Critical Value (1%)             -3.493602\n",
            "Critical Value (5%)             -2.889217\n",
            "Critical Value (10%)            -2.581533\n",
            "dtype: float64\n"
          ]
        }
      ]
    },
    {
      "cell_type": "markdown",
      "source": [
        "o que evidencia que a série reamostrada é não estacionária. Dessa forma podemos utilizar a estratégia de subtrair a série com o lag anterior de modo a verificar se isso satisfaz a condição de estacionariedade, nos permitindo inclusive concluir sobre o parâmetro \"d\" do modelo SARIMAX. Para tanto basta procedermos do seguinte modo: "
      ],
      "metadata": {
        "id": "02wL-l4wUwEr"
      }
    },
    {
      "cell_type": "code",
      "source": [
        "#o dropna() serve para eliminar o primeiro valor da série que passa a ser nulo.\n",
        "df_diff = df.diff().dropna()"
      ],
      "metadata": {
        "id": "yPgbKKGtnGkI"
      },
      "execution_count": 18,
      "outputs": []
    },
    {
      "cell_type": "code",
      "source": [
        "df_diff"
      ],
      "metadata": {
        "colab": {
          "base_uri": "https://localhost:8080/"
        },
        "id": "jVYeTDu4ncZI",
        "outputId": "95251c1f-0765-47e5-fc00-8ab2de33bd94"
      },
      "execution_count": 19,
      "outputs": [
        {
          "output_type": "execute_result",
          "data": {
            "text/plain": [
              "Date\n",
              "1981-02-01   -0.034332\n",
              "1981-03-01   -4.178571\n",
              "1981-04-01   -1.143333\n",
              "1981-05-01   -2.866344\n",
              "1981-06-01   -2.183656\n",
              "                ...   \n",
              "1990-08-01   -0.358065\n",
              "1990-09-01    1.340860\n",
              "1990-10-01    2.178495\n",
              "1990-11-01    1.311505\n",
              "1990-12-01    1.711075\n",
              "Freq: MS, Name: Temp, Length: 119, dtype: float64"
            ]
          },
          "metadata": {},
          "execution_count": 19
        }
      ]
    },
    {
      "cell_type": "markdown",
      "source": [
        "Realizando agora sim o teste de Dickey Fuller para a série diferenciada, percebemos que ela se torna etacionária com apenas uma única subtração."
      ],
      "metadata": {
        "id": "s_8Mcv3Kcqj6"
      }
    },
    {
      "cell_type": "code",
      "source": [
        "adf_test(df_diff)"
      ],
      "metadata": {
        "colab": {
          "base_uri": "https://localhost:8080/"
        },
        "id": "QA4qO5h0nfW_",
        "outputId": "6aa682cb-460b-49ba-f2f2-1a5bfa9d42d7"
      },
      "execution_count": 20,
      "outputs": [
        {
          "output_type": "stream",
          "name": "stdout",
          "text": [
            "Resultados do Testes de Dickey-Fuller:\n",
            "Test Statistic                  -4.629576\n",
            "p-value                          0.000114\n",
            "#Lags Used                      12.000000\n",
            "Number of Observations Used    106.000000\n",
            "Critical Value (1%)             -3.493602\n",
            "Critical Value (5%)             -2.889217\n",
            "Critical Value (10%)            -2.581533\n",
            "dtype: float64\n"
          ]
        }
      ]
    },
    {
      "cell_type": "markdown",
      "source": [
        "Observe agora que o resultado do p-valor é muito menor do que 0.05."
      ],
      "metadata": {
        "id": "MxXrXfguc-hX"
      }
    },
    {
      "cell_type": "markdown",
      "source": [
        "### Estudo da Sazonalidade\n",
        "A decomposição  da série em erro,tendência e sazonalidade tem a capacidade de explicitar a ocorrência de sazonalidade. O código abaixo realiza essa decomposição através do comando **seasonal_decompose**.  "
      ],
      "metadata": {
        "id": "jb5W-LcPR387"
      }
    },
    {
      "cell_type": "code",
      "source": [
        "fig = plt.gcf()\n",
        "fig.set_size_inches(16, 5)\n",
        "result = seasonal_decompose(df['Temp'].dropna(), model='additive', period=7)\n",
        "result.plot();\n",
        "##tspdecompose(df['Temp'], model='additive') #corrigir a função\n",
        "ts.display()"
      ],
      "metadata": {
        "colab": {
          "base_uri": "https://localhost:8080/",
          "height": 484
        },
        "id": "lONaGCNfe3wX",
        "outputId": "e83bd5b7-e47e-44ce-f473-d5a792f99d27"
      },
      "execution_count": 25,
      "outputs": [
        {
          "output_type": "error",
          "ename": "KeyError",
          "evalue": "ignored",
          "traceback": [
            "\u001b[0;31m---------------------------------------------------------------------------\u001b[0m",
            "\u001b[0;31mValueError\u001b[0m                                Traceback (most recent call last)",
            "\u001b[0;32m/usr/local/lib/python3.9/dist-packages/pandas/_libs/tslibs/parsing.pyx\u001b[0m in \u001b[0;36mpandas._libs.tslibs.parsing.parse_datetime_string_with_reso\u001b[0;34m()\u001b[0m\n",
            "\u001b[0;32m/usr/local/lib/python3.9/dist-packages/pandas/_libs/tslibs/parsing.pyx\u001b[0m in \u001b[0;36mpandas._libs.tslibs.parsing.dateutil_parse\u001b[0;34m()\u001b[0m\n",
            "\u001b[0;31mValueError\u001b[0m: Unknown datetime string format, unable to parse: Temp",
            "\nDuring handling of the above exception, another exception occurred:\n",
            "\u001b[0;31mDateParseError\u001b[0m                            Traceback (most recent call last)",
            "\u001b[0;32m/usr/local/lib/python3.9/dist-packages/pandas/core/indexes/datetimes.py\u001b[0m in \u001b[0;36mget_loc\u001b[0;34m(self, key, method, tolerance)\u001b[0m\n\u001b[1;32m    660\u001b[0m             \u001b[0;32mtry\u001b[0m\u001b[0;34m:\u001b[0m\u001b[0;34m\u001b[0m\u001b[0;34m\u001b[0m\u001b[0m\n\u001b[0;32m--> 661\u001b[0;31m                 \u001b[0mparsed\u001b[0m\u001b[0;34m,\u001b[0m \u001b[0mreso\u001b[0m \u001b[0;34m=\u001b[0m \u001b[0mself\u001b[0m\u001b[0;34m.\u001b[0m\u001b[0m_parse_with_reso\u001b[0m\u001b[0;34m(\u001b[0m\u001b[0mkey\u001b[0m\u001b[0;34m)\u001b[0m\u001b[0;34m\u001b[0m\u001b[0;34m\u001b[0m\u001b[0m\n\u001b[0m\u001b[1;32m    662\u001b[0m             \u001b[0;32mexcept\u001b[0m \u001b[0mValueError\u001b[0m \u001b[0;32mas\u001b[0m \u001b[0merr\u001b[0m\u001b[0;34m:\u001b[0m\u001b[0;34m\u001b[0m\u001b[0;34m\u001b[0m\u001b[0m\n",
            "\u001b[0;32m/usr/local/lib/python3.9/dist-packages/pandas/core/indexes/datetimelike.py\u001b[0m in \u001b[0;36m_parse_with_reso\u001b[0;34m(self, label)\u001b[0m\n\u001b[1;32m    235\u001b[0m             \u001b[0mfreq\u001b[0m \u001b[0;34m=\u001b[0m \u001b[0mgetattr\u001b[0m\u001b[0;34m(\u001b[0m\u001b[0mself\u001b[0m\u001b[0;34m,\u001b[0m \u001b[0;34m\"freqstr\"\u001b[0m\u001b[0;34m,\u001b[0m \u001b[0mgetattr\u001b[0m\u001b[0;34m(\u001b[0m\u001b[0mself\u001b[0m\u001b[0;34m,\u001b[0m \u001b[0;34m\"inferred_freq\"\u001b[0m\u001b[0;34m,\u001b[0m \u001b[0;32mNone\u001b[0m\u001b[0;34m)\u001b[0m\u001b[0;34m)\u001b[0m\u001b[0;34m\u001b[0m\u001b[0;34m\u001b[0m\u001b[0m\n\u001b[0;32m--> 236\u001b[0;31m         \u001b[0mparsed\u001b[0m\u001b[0;34m,\u001b[0m \u001b[0mreso_str\u001b[0m \u001b[0;34m=\u001b[0m \u001b[0mparsing\u001b[0m\u001b[0;34m.\u001b[0m\u001b[0mparse_time_string\u001b[0m\u001b[0;34m(\u001b[0m\u001b[0mlabel\u001b[0m\u001b[0;34m,\u001b[0m \u001b[0mfreq\u001b[0m\u001b[0;34m)\u001b[0m\u001b[0;34m\u001b[0m\u001b[0;34m\u001b[0m\u001b[0m\n\u001b[0m\u001b[1;32m    237\u001b[0m         \u001b[0mreso\u001b[0m \u001b[0;34m=\u001b[0m \u001b[0mResolution\u001b[0m\u001b[0;34m.\u001b[0m\u001b[0mfrom_attrname\u001b[0m\u001b[0;34m(\u001b[0m\u001b[0mreso_str\u001b[0m\u001b[0;34m)\u001b[0m\u001b[0;34m\u001b[0m\u001b[0;34m\u001b[0m\u001b[0m\n",
            "\u001b[0;32m/usr/local/lib/python3.9/dist-packages/pandas/_libs/tslibs/parsing.pyx\u001b[0m in \u001b[0;36mpandas._libs.tslibs.parsing.parse_time_string\u001b[0;34m()\u001b[0m\n",
            "\u001b[0;32m/usr/local/lib/python3.9/dist-packages/pandas/_libs/tslibs/parsing.pyx\u001b[0m in \u001b[0;36mpandas._libs.tslibs.parsing.parse_datetime_string_with_reso\u001b[0;34m()\u001b[0m\n",
            "\u001b[0;31mDateParseError\u001b[0m: Unknown datetime string format, unable to parse: Temp",
            "\nThe above exception was the direct cause of the following exception:\n",
            "\u001b[0;31mKeyError\u001b[0m                                  Traceback (most recent call last)",
            "\u001b[0;32m<ipython-input-25-9e7ed1adabb3>\u001b[0m in \u001b[0;36m<module>\u001b[0;34m\u001b[0m\n\u001b[1;32m      1\u001b[0m \u001b[0mfig\u001b[0m \u001b[0;34m=\u001b[0m \u001b[0mplt\u001b[0m\u001b[0;34m.\u001b[0m\u001b[0mgcf\u001b[0m\u001b[0;34m(\u001b[0m\u001b[0;34m)\u001b[0m\u001b[0;34m\u001b[0m\u001b[0;34m\u001b[0m\u001b[0m\n\u001b[1;32m      2\u001b[0m \u001b[0mfig\u001b[0m\u001b[0;34m.\u001b[0m\u001b[0mset_size_inches\u001b[0m\u001b[0;34m(\u001b[0m\u001b[0;36m16\u001b[0m\u001b[0;34m,\u001b[0m \u001b[0;36m5\u001b[0m\u001b[0;34m)\u001b[0m\u001b[0;34m\u001b[0m\u001b[0;34m\u001b[0m\u001b[0m\n\u001b[0;32m----> 3\u001b[0;31m \u001b[0mresult\u001b[0m \u001b[0;34m=\u001b[0m \u001b[0mseasonal_decompose\u001b[0m\u001b[0;34m(\u001b[0m\u001b[0mdf\u001b[0m\u001b[0;34m[\u001b[0m\u001b[0;34m'Temp'\u001b[0m\u001b[0;34m]\u001b[0m\u001b[0;34m.\u001b[0m\u001b[0mdropna\u001b[0m\u001b[0;34m(\u001b[0m\u001b[0;34m)\u001b[0m\u001b[0;34m,\u001b[0m \u001b[0mmodel\u001b[0m\u001b[0;34m=\u001b[0m\u001b[0;34m'additive'\u001b[0m\u001b[0;34m,\u001b[0m \u001b[0mperiod\u001b[0m\u001b[0;34m=\u001b[0m\u001b[0;36m7\u001b[0m\u001b[0;34m)\u001b[0m\u001b[0;34m\u001b[0m\u001b[0;34m\u001b[0m\u001b[0m\n\u001b[0m\u001b[1;32m      4\u001b[0m \u001b[0mresult\u001b[0m\u001b[0;34m.\u001b[0m\u001b[0mplot\u001b[0m\u001b[0;34m(\u001b[0m\u001b[0;34m)\u001b[0m\u001b[0;34m;\u001b[0m\u001b[0;34m\u001b[0m\u001b[0;34m\u001b[0m\u001b[0m\n\u001b[1;32m      5\u001b[0m \u001b[0;31m##tspdecompose(df['Temp'], model='additive') #corrigir a função\u001b[0m\u001b[0;34m\u001b[0m\u001b[0;34m\u001b[0m\u001b[0m\n",
            "\u001b[0;32m/usr/local/lib/python3.9/dist-packages/pandas/core/series.py\u001b[0m in \u001b[0;36m__getitem__\u001b[0;34m(self, key)\u001b[0m\n\u001b[1;32m    956\u001b[0m \u001b[0;34m\u001b[0m\u001b[0m\n\u001b[1;32m    957\u001b[0m         \u001b[0;32melif\u001b[0m \u001b[0mkey_is_scalar\u001b[0m\u001b[0;34m:\u001b[0m\u001b[0;34m\u001b[0m\u001b[0;34m\u001b[0m\u001b[0m\n\u001b[0;32m--> 958\u001b[0;31m             \u001b[0;32mreturn\u001b[0m \u001b[0mself\u001b[0m\u001b[0;34m.\u001b[0m\u001b[0m_get_value\u001b[0m\u001b[0;34m(\u001b[0m\u001b[0mkey\u001b[0m\u001b[0;34m)\u001b[0m\u001b[0;34m\u001b[0m\u001b[0;34m\u001b[0m\u001b[0m\n\u001b[0m\u001b[1;32m    959\u001b[0m \u001b[0;34m\u001b[0m\u001b[0m\n\u001b[1;32m    960\u001b[0m         \u001b[0;32mif\u001b[0m \u001b[0mis_hashable\u001b[0m\u001b[0;34m(\u001b[0m\u001b[0mkey\u001b[0m\u001b[0;34m)\u001b[0m\u001b[0;34m:\u001b[0m\u001b[0;34m\u001b[0m\u001b[0;34m\u001b[0m\u001b[0m\n",
            "\u001b[0;32m/usr/local/lib/python3.9/dist-packages/pandas/core/series.py\u001b[0m in \u001b[0;36m_get_value\u001b[0;34m(self, label, takeable)\u001b[0m\n\u001b[1;32m   1067\u001b[0m \u001b[0;34m\u001b[0m\u001b[0m\n\u001b[1;32m   1068\u001b[0m         \u001b[0;31m# Similar to Index.get_value, but we do not fall back to positional\u001b[0m\u001b[0;34m\u001b[0m\u001b[0;34m\u001b[0m\u001b[0m\n\u001b[0;32m-> 1069\u001b[0;31m         \u001b[0mloc\u001b[0m \u001b[0;34m=\u001b[0m \u001b[0mself\u001b[0m\u001b[0;34m.\u001b[0m\u001b[0mindex\u001b[0m\u001b[0;34m.\u001b[0m\u001b[0mget_loc\u001b[0m\u001b[0;34m(\u001b[0m\u001b[0mlabel\u001b[0m\u001b[0;34m)\u001b[0m\u001b[0;34m\u001b[0m\u001b[0;34m\u001b[0m\u001b[0m\n\u001b[0m\u001b[1;32m   1070\u001b[0m         \u001b[0;32mreturn\u001b[0m \u001b[0mself\u001b[0m\u001b[0;34m.\u001b[0m\u001b[0mindex\u001b[0m\u001b[0;34m.\u001b[0m\u001b[0m_get_values_for_loc\u001b[0m\u001b[0;34m(\u001b[0m\u001b[0mself\u001b[0m\u001b[0;34m,\u001b[0m \u001b[0mloc\u001b[0m\u001b[0;34m,\u001b[0m \u001b[0mlabel\u001b[0m\u001b[0;34m)\u001b[0m\u001b[0;34m\u001b[0m\u001b[0;34m\u001b[0m\u001b[0m\n\u001b[1;32m   1071\u001b[0m \u001b[0;34m\u001b[0m\u001b[0m\n",
            "\u001b[0;32m/usr/local/lib/python3.9/dist-packages/pandas/core/indexes/datetimes.py\u001b[0m in \u001b[0;36mget_loc\u001b[0;34m(self, key, method, tolerance)\u001b[0m\n\u001b[1;32m    661\u001b[0m                 \u001b[0mparsed\u001b[0m\u001b[0;34m,\u001b[0m \u001b[0mreso\u001b[0m \u001b[0;34m=\u001b[0m \u001b[0mself\u001b[0m\u001b[0;34m.\u001b[0m\u001b[0m_parse_with_reso\u001b[0m\u001b[0;34m(\u001b[0m\u001b[0mkey\u001b[0m\u001b[0;34m)\u001b[0m\u001b[0;34m\u001b[0m\u001b[0;34m\u001b[0m\u001b[0m\n\u001b[1;32m    662\u001b[0m             \u001b[0;32mexcept\u001b[0m \u001b[0mValueError\u001b[0m \u001b[0;32mas\u001b[0m \u001b[0merr\u001b[0m\u001b[0;34m:\u001b[0m\u001b[0;34m\u001b[0m\u001b[0;34m\u001b[0m\u001b[0m\n\u001b[0;32m--> 663\u001b[0;31m                 \u001b[0;32mraise\u001b[0m \u001b[0mKeyError\u001b[0m\u001b[0;34m(\u001b[0m\u001b[0mkey\u001b[0m\u001b[0;34m)\u001b[0m \u001b[0;32mfrom\u001b[0m \u001b[0merr\u001b[0m\u001b[0;34m\u001b[0m\u001b[0;34m\u001b[0m\u001b[0m\n\u001b[0m\u001b[1;32m    664\u001b[0m \u001b[0;34m\u001b[0m\u001b[0m\n\u001b[1;32m    665\u001b[0m             \u001b[0;32mif\u001b[0m \u001b[0mself\u001b[0m\u001b[0;34m.\u001b[0m\u001b[0m_can_partial_date_slice\u001b[0m\u001b[0;34m(\u001b[0m\u001b[0mreso\u001b[0m\u001b[0;34m)\u001b[0m\u001b[0;34m:\u001b[0m\u001b[0;34m\u001b[0m\u001b[0;34m\u001b[0m\u001b[0m\n",
            "\u001b[0;31mKeyError\u001b[0m: 'Temp'"
          ]
        },
        {
          "output_type": "display_data",
          "data": {
            "text/plain": [
              "<Figure size 1152x360 with 0 Axes>"
            ]
          },
          "metadata": {}
        }
      ]
    },
    {
      "cell_type": "code",
      "source": [
        "df"
      ],
      "metadata": {
        "colab": {
          "base_uri": "https://localhost:8080/"
        },
        "id": "0EU5e4CdHtmz",
        "outputId": "4a89d1a6-d568-4a06-c1f0-8b7838b9cfa8"
      },
      "execution_count": 26,
      "outputs": [
        {
          "output_type": "execute_result",
          "data": {
            "text/plain": [
              "Date\n",
              "1981-01-01    17.712903\n",
              "1981-02-01    17.678571\n",
              "1981-03-01    13.500000\n",
              "1981-04-01    12.356667\n",
              "1981-05-01     9.490323\n",
              "                ...    \n",
              "1990-08-01     7.825806\n",
              "1990-09-01     9.166667\n",
              "1990-10-01    11.345161\n",
              "1990-11-01    12.656667\n",
              "1990-12-01    14.367742\n",
              "Freq: MS, Name: Temp, Length: 120, dtype: float64"
            ]
          },
          "metadata": {},
          "execution_count": 26
        }
      ]
    },
    {
      "cell_type": "markdown",
      "source": [
        "A partir do resultado acima, podemos verificar a existência clara de sazonalidade, através da repetição anual no terceiro gráfico (Seasonal), uma vez que temos intervalos repetidos. Como a unidade do dado da série é mensal(lembre-se que reamostramos a série) sabemos que o parâmetro de sazonalidade será m=12 para a série. Na sequência, podemos verificar também o gráfico da ACF e da PACF de modo a verificar o comportamento auto-regressivo da série. Os comando abaixo mostram os gráficos das duas funções respectivamente:"
      ],
      "metadata": {
        "id": "H_txwJ2WKMsx"
      }
    },
    {
      "cell_type": "code",
      "source": [
        "# ACF\n",
        "from statsmodels.graphics.tsaplots import plot_acf\n",
        "x=plot_acf(df['Temp'])"
      ],
      "metadata": {
        "colab": {
          "base_uri": "https://localhost:8080/",
          "height": 467
        },
        "id": "R3kzwlLKKIOQ",
        "outputId": "daea461f-587a-4362-90ee-52107a878f43"
      },
      "execution_count": 27,
      "outputs": [
        {
          "output_type": "error",
          "ename": "KeyError",
          "evalue": "ignored",
          "traceback": [
            "\u001b[0;31m---------------------------------------------------------------------------\u001b[0m",
            "\u001b[0;31mValueError\u001b[0m                                Traceback (most recent call last)",
            "\u001b[0;32m/usr/local/lib/python3.9/dist-packages/pandas/_libs/tslibs/parsing.pyx\u001b[0m in \u001b[0;36mpandas._libs.tslibs.parsing.parse_datetime_string_with_reso\u001b[0;34m()\u001b[0m\n",
            "\u001b[0;32m/usr/local/lib/python3.9/dist-packages/pandas/_libs/tslibs/parsing.pyx\u001b[0m in \u001b[0;36mpandas._libs.tslibs.parsing.dateutil_parse\u001b[0;34m()\u001b[0m\n",
            "\u001b[0;31mValueError\u001b[0m: Unknown datetime string format, unable to parse: Temp",
            "\nDuring handling of the above exception, another exception occurred:\n",
            "\u001b[0;31mDateParseError\u001b[0m                            Traceback (most recent call last)",
            "\u001b[0;32m/usr/local/lib/python3.9/dist-packages/pandas/core/indexes/datetimes.py\u001b[0m in \u001b[0;36mget_loc\u001b[0;34m(self, key, method, tolerance)\u001b[0m\n\u001b[1;32m    660\u001b[0m             \u001b[0;32mtry\u001b[0m\u001b[0;34m:\u001b[0m\u001b[0;34m\u001b[0m\u001b[0;34m\u001b[0m\u001b[0m\n\u001b[0;32m--> 661\u001b[0;31m                 \u001b[0mparsed\u001b[0m\u001b[0;34m,\u001b[0m \u001b[0mreso\u001b[0m \u001b[0;34m=\u001b[0m \u001b[0mself\u001b[0m\u001b[0;34m.\u001b[0m\u001b[0m_parse_with_reso\u001b[0m\u001b[0;34m(\u001b[0m\u001b[0mkey\u001b[0m\u001b[0;34m)\u001b[0m\u001b[0;34m\u001b[0m\u001b[0;34m\u001b[0m\u001b[0m\n\u001b[0m\u001b[1;32m    662\u001b[0m             \u001b[0;32mexcept\u001b[0m \u001b[0mValueError\u001b[0m \u001b[0;32mas\u001b[0m \u001b[0merr\u001b[0m\u001b[0;34m:\u001b[0m\u001b[0;34m\u001b[0m\u001b[0;34m\u001b[0m\u001b[0m\n",
            "\u001b[0;32m/usr/local/lib/python3.9/dist-packages/pandas/core/indexes/datetimelike.py\u001b[0m in \u001b[0;36m_parse_with_reso\u001b[0;34m(self, label)\u001b[0m\n\u001b[1;32m    235\u001b[0m             \u001b[0mfreq\u001b[0m \u001b[0;34m=\u001b[0m \u001b[0mgetattr\u001b[0m\u001b[0;34m(\u001b[0m\u001b[0mself\u001b[0m\u001b[0;34m,\u001b[0m \u001b[0;34m\"freqstr\"\u001b[0m\u001b[0;34m,\u001b[0m \u001b[0mgetattr\u001b[0m\u001b[0;34m(\u001b[0m\u001b[0mself\u001b[0m\u001b[0;34m,\u001b[0m \u001b[0;34m\"inferred_freq\"\u001b[0m\u001b[0;34m,\u001b[0m \u001b[0;32mNone\u001b[0m\u001b[0;34m)\u001b[0m\u001b[0;34m)\u001b[0m\u001b[0;34m\u001b[0m\u001b[0;34m\u001b[0m\u001b[0m\n\u001b[0;32m--> 236\u001b[0;31m         \u001b[0mparsed\u001b[0m\u001b[0;34m,\u001b[0m \u001b[0mreso_str\u001b[0m \u001b[0;34m=\u001b[0m \u001b[0mparsing\u001b[0m\u001b[0;34m.\u001b[0m\u001b[0mparse_time_string\u001b[0m\u001b[0;34m(\u001b[0m\u001b[0mlabel\u001b[0m\u001b[0;34m,\u001b[0m \u001b[0mfreq\u001b[0m\u001b[0;34m)\u001b[0m\u001b[0;34m\u001b[0m\u001b[0;34m\u001b[0m\u001b[0m\n\u001b[0m\u001b[1;32m    237\u001b[0m         \u001b[0mreso\u001b[0m \u001b[0;34m=\u001b[0m \u001b[0mResolution\u001b[0m\u001b[0;34m.\u001b[0m\u001b[0mfrom_attrname\u001b[0m\u001b[0;34m(\u001b[0m\u001b[0mreso_str\u001b[0m\u001b[0;34m)\u001b[0m\u001b[0;34m\u001b[0m\u001b[0;34m\u001b[0m\u001b[0m\n",
            "\u001b[0;32m/usr/local/lib/python3.9/dist-packages/pandas/_libs/tslibs/parsing.pyx\u001b[0m in \u001b[0;36mpandas._libs.tslibs.parsing.parse_time_string\u001b[0;34m()\u001b[0m\n",
            "\u001b[0;32m/usr/local/lib/python3.9/dist-packages/pandas/_libs/tslibs/parsing.pyx\u001b[0m in \u001b[0;36mpandas._libs.tslibs.parsing.parse_datetime_string_with_reso\u001b[0;34m()\u001b[0m\n",
            "\u001b[0;31mDateParseError\u001b[0m: Unknown datetime string format, unable to parse: Temp",
            "\nThe above exception was the direct cause of the following exception:\n",
            "\u001b[0;31mKeyError\u001b[0m                                  Traceback (most recent call last)",
            "\u001b[0;32m<ipython-input-27-6d027ffc49de>\u001b[0m in \u001b[0;36m<module>\u001b[0;34m\u001b[0m\n\u001b[1;32m      1\u001b[0m \u001b[0;31m# ACF\u001b[0m\u001b[0;34m\u001b[0m\u001b[0;34m\u001b[0m\u001b[0m\n\u001b[1;32m      2\u001b[0m \u001b[0;32mfrom\u001b[0m \u001b[0mstatsmodels\u001b[0m\u001b[0;34m.\u001b[0m\u001b[0mgraphics\u001b[0m\u001b[0;34m.\u001b[0m\u001b[0mtsaplots\u001b[0m \u001b[0;32mimport\u001b[0m \u001b[0mplot_acf\u001b[0m\u001b[0;34m\u001b[0m\u001b[0;34m\u001b[0m\u001b[0m\n\u001b[0;32m----> 3\u001b[0;31m \u001b[0mx\u001b[0m\u001b[0;34m=\u001b[0m\u001b[0mplot_acf\u001b[0m\u001b[0;34m(\u001b[0m\u001b[0mdf\u001b[0m\u001b[0;34m[\u001b[0m\u001b[0;34m'Temp'\u001b[0m\u001b[0;34m]\u001b[0m\u001b[0;34m)\u001b[0m\u001b[0;34m\u001b[0m\u001b[0;34m\u001b[0m\u001b[0m\n\u001b[0m",
            "\u001b[0;32m/usr/local/lib/python3.9/dist-packages/pandas/core/series.py\u001b[0m in \u001b[0;36m__getitem__\u001b[0;34m(self, key)\u001b[0m\n\u001b[1;32m    956\u001b[0m \u001b[0;34m\u001b[0m\u001b[0m\n\u001b[1;32m    957\u001b[0m         \u001b[0;32melif\u001b[0m \u001b[0mkey_is_scalar\u001b[0m\u001b[0;34m:\u001b[0m\u001b[0;34m\u001b[0m\u001b[0;34m\u001b[0m\u001b[0m\n\u001b[0;32m--> 958\u001b[0;31m             \u001b[0;32mreturn\u001b[0m \u001b[0mself\u001b[0m\u001b[0;34m.\u001b[0m\u001b[0m_get_value\u001b[0m\u001b[0;34m(\u001b[0m\u001b[0mkey\u001b[0m\u001b[0;34m)\u001b[0m\u001b[0;34m\u001b[0m\u001b[0;34m\u001b[0m\u001b[0m\n\u001b[0m\u001b[1;32m    959\u001b[0m \u001b[0;34m\u001b[0m\u001b[0m\n\u001b[1;32m    960\u001b[0m         \u001b[0;32mif\u001b[0m \u001b[0mis_hashable\u001b[0m\u001b[0;34m(\u001b[0m\u001b[0mkey\u001b[0m\u001b[0;34m)\u001b[0m\u001b[0;34m:\u001b[0m\u001b[0;34m\u001b[0m\u001b[0;34m\u001b[0m\u001b[0m\n",
            "\u001b[0;32m/usr/local/lib/python3.9/dist-packages/pandas/core/series.py\u001b[0m in \u001b[0;36m_get_value\u001b[0;34m(self, label, takeable)\u001b[0m\n\u001b[1;32m   1067\u001b[0m \u001b[0;34m\u001b[0m\u001b[0m\n\u001b[1;32m   1068\u001b[0m         \u001b[0;31m# Similar to Index.get_value, but we do not fall back to positional\u001b[0m\u001b[0;34m\u001b[0m\u001b[0;34m\u001b[0m\u001b[0m\n\u001b[0;32m-> 1069\u001b[0;31m         \u001b[0mloc\u001b[0m \u001b[0;34m=\u001b[0m \u001b[0mself\u001b[0m\u001b[0;34m.\u001b[0m\u001b[0mindex\u001b[0m\u001b[0;34m.\u001b[0m\u001b[0mget_loc\u001b[0m\u001b[0;34m(\u001b[0m\u001b[0mlabel\u001b[0m\u001b[0;34m)\u001b[0m\u001b[0;34m\u001b[0m\u001b[0;34m\u001b[0m\u001b[0m\n\u001b[0m\u001b[1;32m   1070\u001b[0m         \u001b[0;32mreturn\u001b[0m \u001b[0mself\u001b[0m\u001b[0;34m.\u001b[0m\u001b[0mindex\u001b[0m\u001b[0;34m.\u001b[0m\u001b[0m_get_values_for_loc\u001b[0m\u001b[0;34m(\u001b[0m\u001b[0mself\u001b[0m\u001b[0;34m,\u001b[0m \u001b[0mloc\u001b[0m\u001b[0;34m,\u001b[0m \u001b[0mlabel\u001b[0m\u001b[0;34m)\u001b[0m\u001b[0;34m\u001b[0m\u001b[0;34m\u001b[0m\u001b[0m\n\u001b[1;32m   1071\u001b[0m \u001b[0;34m\u001b[0m\u001b[0m\n",
            "\u001b[0;32m/usr/local/lib/python3.9/dist-packages/pandas/core/indexes/datetimes.py\u001b[0m in \u001b[0;36mget_loc\u001b[0;34m(self, key, method, tolerance)\u001b[0m\n\u001b[1;32m    661\u001b[0m                 \u001b[0mparsed\u001b[0m\u001b[0;34m,\u001b[0m \u001b[0mreso\u001b[0m \u001b[0;34m=\u001b[0m \u001b[0mself\u001b[0m\u001b[0;34m.\u001b[0m\u001b[0m_parse_with_reso\u001b[0m\u001b[0;34m(\u001b[0m\u001b[0mkey\u001b[0m\u001b[0;34m)\u001b[0m\u001b[0;34m\u001b[0m\u001b[0;34m\u001b[0m\u001b[0m\n\u001b[1;32m    662\u001b[0m             \u001b[0;32mexcept\u001b[0m \u001b[0mValueError\u001b[0m \u001b[0;32mas\u001b[0m \u001b[0merr\u001b[0m\u001b[0;34m:\u001b[0m\u001b[0;34m\u001b[0m\u001b[0;34m\u001b[0m\u001b[0m\n\u001b[0;32m--> 663\u001b[0;31m                 \u001b[0;32mraise\u001b[0m \u001b[0mKeyError\u001b[0m\u001b[0;34m(\u001b[0m\u001b[0mkey\u001b[0m\u001b[0;34m)\u001b[0m \u001b[0;32mfrom\u001b[0m \u001b[0merr\u001b[0m\u001b[0;34m\u001b[0m\u001b[0;34m\u001b[0m\u001b[0m\n\u001b[0m\u001b[1;32m    664\u001b[0m \u001b[0;34m\u001b[0m\u001b[0m\n\u001b[1;32m    665\u001b[0m             \u001b[0;32mif\u001b[0m \u001b[0mself\u001b[0m\u001b[0;34m.\u001b[0m\u001b[0m_can_partial_date_slice\u001b[0m\u001b[0;34m(\u001b[0m\u001b[0mreso\u001b[0m\u001b[0;34m)\u001b[0m\u001b[0;34m:\u001b[0m\u001b[0;34m\u001b[0m\u001b[0;34m\u001b[0m\u001b[0m\n",
            "\u001b[0;31mKeyError\u001b[0m: 'Temp'"
          ]
        }
      ]
    },
    {
      "cell_type": "code",
      "source": [
        "x=plot_pacf(df);"
      ],
      "metadata": {
        "colab": {
          "base_uri": "https://localhost:8080/",
          "height": 341
        },
        "id": "f5CqQnScKIT8",
        "outputId": "e52efea3-02e7-4fb6-9f0b-5a0427f65f22"
      },
      "execution_count": 28,
      "outputs": [
        {
          "output_type": "stream",
          "name": "stderr",
          "text": [
            "/usr/local/lib/python3.9/dist-packages/statsmodels/graphics/tsaplots.py:348: FutureWarning: The default method 'yw' can produce PACF values outside of the [-1,1] interval. After 0.13, the default will change tounadjusted Yule-Walker ('ywm'). You can use this method now by setting method='ywm'.\n",
            "  warnings.warn(\n"
          ]
        },
        {
          "output_type": "display_data",
          "data": {
            "text/plain": [
              "<Figure size 504x288 with 1 Axes>"
            ],
            "image/png": "[encoded data removed]"
          },
          "metadata": {}
        }
      ]
    },
    {
      "cell_type": "markdown",
      "source": [
        "Observando o gráfico da PACF, é evidente que após o lag 3 não podemos afirmar que os coeficientes da autocorrelação parcial não são diferentes de zero. O que nos permite determinar a ordem da componente de autoregressiva. No entanto, vamos neste contexto, utilizar o comando **auto_arima** para varrer um determinado espaço de parâmetros. O comando **auto_arima** nos permite escolher o melhor conjunto de parâmetros a partir do AIC."
      ],
      "metadata": {
        "id": "QBQS-aH51xeo"
      }
    },
    {
      "cell_type": "markdown",
      "source": [
        "### Ajustando um modelo SARIMA automaticamente\n",
        "A biblioteca **pmdarima** foi construída em Python de modo a implementar o comando **auto.arima** da linguagem **R**. Esse comando  irá nos ajudar a varrer o espaço de parâmetros e encontrar os valores (p,d,q)$\\times$(P,D,Q)(m). De um modo geral, o comando tenta proceder a uma espécie de **grid search** experimentando vários valores de **p** e **q** (assim como das componentes sazonais **P** e **Q**), e definindo o melhor modelo a partir do menor valor do AIC (também é possível escolher a partir do BIC ou outro critério).\n",
        "\n",
        "O uso do **auto-arima** é bastante simples, como pode ser visto a seguir:"
      ],
      "metadata": {
        "id": "lYCFCFkFLF1V"
      }
    },
    {
      "cell_type": "code",
      "source": [
        "auto_arima(df.dropna(),\n",
        "           seasonal=True,\n",
        "           max_p=3,max_q=3,max_P=3,max_Q=3,d=0,D=0,m=7,\n",
        "           trace=True,\n",
        "           stepwise=True).summary()"
      ],
      "metadata": {
        "id": "N6XhN1P_e3yk"
      },
      "execution_count": null,
      "outputs": []
    },
    {
      "cell_type": "markdown",
      "source": [
        "Note que como parâmetros para a execução da função **auto_arima** passamos as opções seasonal=True, de modo que ele considere a possibilidade de uma série com sazonalidade e indicamos os valores máximos de p,q,P,Q, assim como os valores de **d=1** e **D=1**. O principal motivo para essa escolha é que no geral o comando parte do pressuposto que a série em questão é estacionária e no nosso caso em particular verificamos através do teste de Dickey Fuller que a série só se tornava estacionária a partir de uma diferenciação. \n",
        "\n",
        "O parâmetro Trace=True permite que ao longo da execução possamos visualizar o conjunto de parâmetros testados e a opção stepwise utiliza um algoritmo interno da biblioteca que otimiza as buscas de parâmetros. Você pode encontrar mais detalhes dessas opções de parâmetros para o comando auto_arima no [link](https://alkaline-ml.com/pmdarima/modules/generated/pmdarima.arima.AutoARIMA.html#pmdarima.arima.AutoARIMA). \n",
        "\n",
        "A partir do momento que temos uma boa escolha para os parâmetros **(p,d,q)x(P,D,Q)(m)**, podemos recorrer novamente à biblioteca **statsmodel**, de modo a ajustar o modelo, fazer a previsão para uma parte da série e assim avaliar através de alguma métrica, como MAE, ou RMSE, a qualidade do ajuste. "
      ],
      "metadata": {
        "id": "DYN4FABb-UIi"
      }
    },
    {
      "cell_type": "markdown",
      "source": [
        "Em seguida, utilizamos a função SARIMAX da biblioteca **statsmodel** para passar os parâmetros do modelo e procedemos com o ajuste. "
      ],
      "metadata": {
        "id": "0ZtIK8LZqzkt"
      }
    },
    {
      "cell_type": "code",
      "source": [
        "#import do comando SARIMAX\n",
        "from statsmodels.tsa.statespace.sarimax import SARIMAX\n",
        "\n",
        "#declaração do modelo\n",
        "model = SARIMAX(df,order=(0,1,1),seasonal_order=(0,1,1,12),enforce_invertibility=False)\n",
        "#ajuste do modelo\n",
        "results = model.fit()\n",
        "#resultados e métricas de avaliação\n",
        "results.summary()"
      ],
      "metadata": {
        "id": "pb0f3KAmbANq"
      },
      "execution_count": null,
      "outputs": []
    },
    {
      "cell_type": "markdown",
      "source": [
        "Comentar os resultados dos testes aqui e como interpretar. Principalmente os coeficientes e talvez o teste de Ljung_Box para os resíduos????? P-value também.\n"
      ],
      "metadata": {
        "id": "xAUvYlKVsbnh"
      }
    },
    {
      "cell_type": "markdown",
      "source": [
        "Uma outra forma importante de avaliação e recomendada sempre que ajustamos um modelo ARIMA (ou SARIMAX), é através do comando **plot_diagnostics**. Esta função nos permite avaliar se as premissas do modelo não foram violadas.  "
      ],
      "metadata": {
        "id": "QNW8NAhotTHy"
      }
    },
    {
      "cell_type": "code",
      "source": [
        "results.plot_diagnostics(figsize=(15, 12))\n",
        "plt.show()"
      ],
      "metadata": {
        "id": "LO7zcDZPgzWR"
      },
      "execution_count": null,
      "outputs": []
    },
    {
      "cell_type": "markdown",
      "source": [
        "As verificações importantes neste caso são as de que os resíduos parecem seguir uma distribuição normal (indicando aleatoriedade) como pode ser visto através do histograma e do gráfico Q-Q."
      ],
      "metadata": {
        "id": "MpPcAEH2uEMi"
      }
    },
    {
      "cell_type": "code",
      "source": [
        "pred = results.get_prediction(start=pd.to_datetime('1990-01-01'), dynamic=False)"
      ],
      "metadata": {
        "id": "db8hBFhev9Hz"
      },
      "execution_count": null,
      "outputs": []
    },
    {
      "cell_type": "markdown",
      "source": [
        "Podemos ainda, obter um dataframe com o intervalo de confiança para os valores preditos através do comando **conf_int()** a seguir:"
      ],
      "metadata": {
        "id": "FYBKqqPXx0sh"
      }
    },
    {
      "cell_type": "code",
      "source": [
        "pred_ci = pred.conf_int()\n",
        "pred_ci"
      ],
      "metadata": {
        "id": "2zJb6B00wHMY"
      },
      "execution_count": null,
      "outputs": []
    },
    {
      "cell_type": "markdown",
      "source": [
        "Podemos assim visualizar a série histórica, acrescentando o valor predito para o ano de 1990. "
      ],
      "metadata": {
        "id": "DrcK-h3byrX_"
      }
    },
    {
      "cell_type": "code",
      "source": [
        "ylabel='Monthly Avg. Temperature'\n",
        "xlabel='Date'\n",
        "\n",
        "ax = df.plot(legend=True,figsize=(12,6))\n",
        "pred.predicted_mean.rename('SARIMA(0,1,1)(0,1,1,12) Predictions').plot(legend=True, )\n",
        "\n",
        "ax.fill_between(pred_ci.index,\n",
        "                pred_ci.iloc[:, 0],\n",
        "                pred_ci.iloc[:, 1], alpha=.2)\n",
        "\n",
        "ax.autoscale(axis='x',tight=True)\n",
        "ax.set(xlabel=xlabel, ylabel=ylabel);"
      ],
      "metadata": {
        "id": "OPt0PlbCdoFE"
      },
      "execution_count": null,
      "outputs": []
    },
    {
      "cell_type": "markdown",
      "source": [
        "Apesar do ajuste parecer relativamente bom a partir da visualização do gráfico, é importante estimar o erro quadrático médio (MSE), assim como a sua raiz (RMSE):"
      ],
      "metadata": {
        "id": "8Yi-iiNEzMl7"
      }
    },
    {
      "cell_type": "code",
      "source": [
        "from sklearn.metrics import mean_squared_error\n",
        "MSE = mean_squared_error(pred.predicted_mean,df['1990-01-01':])\n",
        "RMSE = np.sqrt(MSE)\n",
        "print(\"RMSE = {:0.2f}\".format(RMSE))"
      ],
      "metadata": {
        "id": "HF0xiQQfeTSp"
      },
      "execution_count": null,
      "outputs": []
    },
    {
      "cell_type": "markdown",
      "source": [
        "Observe no entanto que o RMSE está na mesma unidade da série, ele pode ser interpretado no caso como flutuações de temperatura. No gráfico acima a escala de temperatura parece variar no intervalo de 5 a 18 unidades. A flutuação de 0.68 é em torno de 4% dessa escala onde a temperatura varia, garantindo que o RMSE seja muito menor (~4%) do que a variação do dado, o que é um excelente resultado."
      ],
      "metadata": {
        "id": "bSXtTjy20cT9"
      }
    },
    {
      "cell_type": "markdown",
      "source": [
        "### Realizando a previsão\n",
        "\n",
        "Realizado todos os procedimentos acima, fazer a previsão de valores futuros que não estão na amostra (**forecast** em inglês), é trivial. A biblioteca statsmodel mantém a função **get_forecast** que recebe como argumento o número de pontos através do parâmetro **steps**. Nesse caso, para fazermos a previsão para os próximos 50 pontos futuros da série estudada, basta fazermos:"
      ],
      "metadata": {
        "id": "oCsbEBJ04mHW"
      }
    },
    {
      "cell_type": "code",
      "source": [
        "pred_uc = results.get_forecast(steps=50)\n",
        "\n",
        "# Intervalo de Confiança\n",
        "pred_ci = pred_uc.conf_int()"
      ],
      "metadata": {
        "id": "ydS16E183I69"
      },
      "execution_count": null,
      "outputs": []
    },
    {
      "cell_type": "code",
      "source": [
        "ax = df.plot(label='observed', figsize=(20, 15))\n",
        "pred_uc.predicted_mean.plot(ax=ax, label='Forecast')\n",
        "ax.fill_between(pred_ci.index,\n",
        "                pred_ci.iloc[:, 0],\n",
        "                pred_ci.iloc[:, 1], color='k', alpha=.25)\n",
        "ax.set_xlabel('Date')\n",
        "ax.set_ylabel('Temperature')\n",
        "\n",
        "plt.legend()\n",
        "plt.show()"
      ],
      "metadata": {
        "id": "m5aLAKv-3OZh"
      },
      "execution_count": null,
      "outputs": []
    },
    {
      "cell_type": "markdown",
      "source": [
        "## Modelos SARIMAX"
      ],
      "metadata": {
        "id": "SCvAX4bDBo0K"
      }
    },
    {
      "cell_type": "markdown",
      "source": [
        "Na seção anterior discutimos modelos SARIMA como uma extensão dos modelos ARIMA de modo a contabilizar o efeito da sazonalidade. No entanto, outras generalizações ainda são viáveis como a possibilidade de levar em consideração variáveis explicativas auxiliares para o modelo. Neste contexto surgem os modelos denominados SARIMAX onde o **X** se refere a modelos ARIMA sazonais com variáveis denominadas e**X**ógenas. \n",
        "\n",
        "Variáveis exógenas em séries temporais são variáveis externas ou explicativas que podem servir como inputs adicionais de modo a prever ou entender variações nos sistemas estudados. Exemplos de variáveis exógenas são:\n",
        "* Indicadores econômicos: o produto interno bruto (PIB), taxas de desemprego, inflação etc, podem ser considerados como variáveis exógenas em séries de mofdelagem econômica.\n",
        "* Variáveis climáticas: temperatura, precipitação, umidade relativa do ar podem ser variáveis exógenas em séries que se propõe a modelar por exemplo a produção de energia em um país de matriz energética como a do Brasil. \n",
        "* Variáveis de datas e feriados: feriados costumam impactar positivamente e negativamente a quantidade de vendas e participação de eventos. \n",
        "\n",
        "Estes são apenas alguns exemplos de variáveis que podem ser consideradas exógenas mas o seu uso requer na maioria das vezes um conhecimento significativo do negócio, de modo a estabelecer uma hipóteses sobre a influência dessa variável na série a ser modelada. \n",
        "\n",
        "A modelagem de modelos SARIMAX  utilizando variáveis exógenas é muito similar a modelagem de modelos SARIMA. Nas próximas seções iremos discutir essa modelagem através de exemplos práticos em Python. "
      ],
      "metadata": {
        "id": "5RCuYimqB34p"
      }
    },
    {
      "cell_type": "markdown",
      "source": [
        "### SARIMAX com Python (hands-on)"
      ],
      "metadata": {
        "id": "0gt4IUKNXgBj"
      }
    },
    {
      "cell_type": "markdown",
      "source": [
        "Vamos comear agora lendo um novo conjunto de dados. Estes dados consistem em índices de consumo, renda, produção, economias e desemprego para a população americana. "
      ],
      "metadata": {
        "id": "4t-LuE34OSMS"
      }
    },
    {
      "cell_type": "code",
      "source": [
        "df = pd.read_csv('uschange.csv',parse_dates=True)\n",
        "df.head()"
      ],
      "metadata": {
        "id": "zQvBjdbOvOk1"
      },
      "execution_count": null,
      "outputs": []
    },
    {
      "cell_type": "markdown",
      "source": [
        "Observe que neste caso a coluna **Date** precisa ser transformada para o formato datetime, e também para o índice do dataframe. No entanto a tranformação em datetime neste caso se torna ligeiramente mais complexa, onde precisamos separar a informação do quarter (Q1,Q2,Q3,Q4) do ano em questão e colocar um hífen entre as duas informações para que a instrução datetime possa executar. Isso feito, podemos converter a coluna **Date** para o índice do dataframe."
      ],
      "metadata": {
        "id": "fEw2Bv4dvqtD"
      }
    },
    {
      "cell_type": "code",
      "source": [
        "df['date'] = pd.to_datetime( df['Date'].str[:4] + \"-\"+ df['Date'].str[-2:])"
      ],
      "metadata": {
        "id": "kAaS1TTBKIdU"
      },
      "execution_count": null,
      "outputs": []
    },
    {
      "cell_type": "code",
      "source": [
        "df = df.set_index(\"date\")"
      ],
      "metadata": {
        "id": "PUlFJWB5x2yA"
      },
      "execution_count": null,
      "outputs": []
    },
    {
      "cell_type": "code",
      "source": [
        "df"
      ],
      "metadata": {
        "id": "hKunoS551Ez5"
      },
      "execution_count": null,
      "outputs": []
    },
    {
      "cell_type": "markdown",
      "source": [
        "Observe que agora todas as colunas são indexadas e podem ser acessadas pela data de início de cada trimestre."
      ],
      "metadata": {
        "id": "7MX4iqm1LSrh"
      }
    },
    {
      "cell_type": "markdown",
      "source": [
        "Para estudarmos o comportamento das variáveis exógenas podemos iniciar verificando se a variável exógena renda (Income), pode auxiliar no ajuste da variável endógena consumo (Consumption). Para facilitar vamos nos referir aos nomes originais das colunas em inglês.\n",
        "\n",
        "O gráfico nos permite visualizar o comportamento histórico destas duas séries."
      ],
      "metadata": {
        "id": "FF68mFfKLenO"
      }
    },
    {
      "cell_type": "code",
      "source": [
        "df[['Consumption','Income']].plot()\n",
        "plt.show()"
      ],
      "metadata": {
        "id": "KE37Hqfix20l"
      },
      "execution_count": null,
      "outputs": []
    },
    {
      "cell_type": "markdown",
      "source": [
        "Seguindo os mesmos procedimentos de análise da seção anterior, podemos utilizar o teste de Dickey Fuller para observar que as duas séries possuem tendência."
      ],
      "metadata": {
        "id": "6j2AQg2YyCQ8"
      }
    },
    {
      "cell_type": "code",
      "source": [
        "adf_test(df['Consumption'])"
      ],
      "metadata": {
        "id": "C6n3r49fx23O"
      },
      "execution_count": null,
      "outputs": []
    },
    {
      "cell_type": "code",
      "source": [
        "adf_test(df['Income'])"
      ],
      "metadata": {
        "id": "6XzM9iMdx25w"
      },
      "execution_count": null,
      "outputs": []
    },
    {
      "cell_type": "markdown",
      "source": [
        "Observando os **p-value** para o resultado dos dois testes, podemos concluir que as duas séries são estacionárias, o que pode ser verificado também a partir da decomposição erro, tendência e sazonalidade:"
      ],
      "metadata": {
        "id": "yTlFM_ejMhfB"
      }
    },
    {
      "cell_type": "code",
      "source": [
        "fig = plt.gcf()\n",
        "fig.set_size_inches(16, 5)\n",
        "result = seasonal_decompose(df['Consumption'])\n",
        "result.plot();"
      ],
      "metadata": {
        "id": "G2VVshlAx275"
      },
      "execution_count": null,
      "outputs": []
    },
    {
      "cell_type": "code",
      "source": [
        "fig = plt.gcf()\n",
        "fig.set_size_inches(16, 5)\n",
        "result = seasonal_decompose(df['Income'])\n",
        "result.plot();"
      ],
      "metadata": {
        "id": "dBbMXNycx2-w"
      },
      "execution_count": null,
      "outputs": []
    },
    {
      "cell_type": "markdown",
      "source": [
        "Logo como podemos verificar acima as duas séries são estacionárias. "
      ],
      "metadata": {
        "id": "uD4DWdZpyjNP"
      }
    },
    {
      "cell_type": "markdown",
      "source": [
        "Dado essa estacionariedade utilizaremos a função auto_arima para varrer o espaço de parâmetros e encontrar os valores (p,d,q) × (P,D,Q)(m), para a série Consumption, em princípio sem contabilizar o efeito de qualquer variável exógena. Assim, poderemos comparar a série ajustada sem e com variáveis explicativas."
      ],
      "metadata": {
        "id": "4nnpVwI5y2lB"
      }
    },
    {
      "cell_type": "code",
      "source": [
        "auto_arima(df['Consumption'],seasonal=True,m=4, trace=True).summary()"
      ],
      "metadata": {
        "id": "sGjIqxSJx3Gn"
      },
      "execution_count": null,
      "outputs": []
    },
    {
      "cell_type": "markdown",
      "source": [
        "Dessa forma, obtemos que os parâmetros (1,0,3)x(0,0,0,4) constituem de acordo com o critério de Akaike (AIC) o conjunto mais apropriado para a série estudada."
      ],
      "metadata": {
        "id": "wiFwfn9nNXc4"
      }
    },
    {
      "cell_type": "code",
      "source": [
        "from statsmodels.tsa.statespace.sarimax import SARIMAX\n",
        "\n",
        "model = SARIMAX(df['Consumption'],order=(1,0,3),seasonal_order=(0,0,0,4),enforce_invertibility=False)\n",
        "results = model.fit()\n",
        "results.summary()"
      ],
      "metadata": {
        "id": "ez5L33A4x3Jx"
      },
      "execution_count": null,
      "outputs": []
    },
    {
      "cell_type": "markdown",
      "source": [
        "A partir do objeto **results** criado acima, podemos predizer os valores para uma determinado intervalo de tempo e medir a qualidade do ajuste através de métricas como o MSE, RMSE ou qualquer outra mais conveniente."
      ],
      "metadata": {
        "id": "RlAZPhlROdOo"
      }
    },
    {
      "cell_type": "code",
      "source": [
        "from statsmodels.tsa.statespace.sarimax import SARIMAX\n",
        "model = SARIMAX(df['Consumption'],order=(1,0,3),seasonal_order=(0,0,0,4),enforce_invertibility=False)\n",
        "results = model.fit()\n",
        "results.summary()"
      ],
      "metadata": {
        "id": "monEuiA9xmUd"
      },
      "execution_count": null,
      "outputs": []
    },
    {
      "cell_type": "code",
      "source": [
        "pred = results.get_prediction(start=pd.to_datetime('2012-Q3'), dynamic=False)"
      ],
      "metadata": {
        "id": "fg8iJkKx0I1m"
      },
      "execution_count": null,
      "outputs": []
    },
    {
      "cell_type": "code",
      "source": [
        "pred_ci = pred.conf_int()"
      ],
      "metadata": {
        "id": "wU5aVms60I7H"
      },
      "execution_count": null,
      "outputs": []
    },
    {
      "cell_type": "code",
      "source": [
        "ax = df['Consumption'].plot(label='observed')\n",
        "pred.predicted_mean.plot(ax=ax, label='One-step ahead Forecast', alpha=.7)\n",
        "\n",
        "ax.fill_between(pred_ci.index,\n",
        "                pred_ci.iloc[:, 0],\n",
        "                pred_ci.iloc[:, 1], alpha=.2)\n",
        "\n",
        "ax.set_xlabel('Date')\n",
        "ax.set_ylabel('Consumption')\n",
        "plt.legend()\n",
        "\n",
        "plt.show()"
      ],
      "metadata": {
        "id": "YveRxMXD0I-S"
      },
      "execution_count": null,
      "outputs": []
    },
    {
      "cell_type": "code",
      "source": [
        "from statsmodels.tools.eval_measures import mse,rmse\n",
        "reals = df['2012-Q3':]['Consumption']\n",
        "error1 = mse(pred.predicted_mean, reals)\n",
        "error2 = rmse(pred.predicted_mean, reals)\n",
        "\n",
        "print(f'SARIMA(1,0,3)(0,0,0,4) MSE Error: {error1:11.10}')\n",
        "print(f'SARIMA(1,0,3)(0,0,0,4) RMSE Error: {error2:11.10}')"
      ],
      "metadata": {
        "id": "LGq6hMvsXAKH"
      },
      "execution_count": null,
      "outputs": []
    },
    {
      "cell_type": "markdown",
      "source": [
        "### Adicionando a variável exógena ao modelo SARIMA"
      ],
      "metadata": {
        "id": "IwjomJ1jWtiV"
      }
    },
    {
      "cell_type": "markdown",
      "source": [
        "Na seção anterior, se você observou utilizamos o comando SARIMAX para fazer o ajuste (**.fit**) do modelo, apesar de não termos especificado qual variável usaríamos. Dentro do contexto da biblioteca statsmodel, adicionar a variável exógena é bastante simples, bastando adicionar **exog=df[[variável1,variável2,...]]** como parâmetro do comando. Desta forma, vamos aproveitar o resultado da seção anterior acrescentando primeiro a coluna **Income** e depois as demais colunas em conjunto. "
      ],
      "metadata": {
        "id": "S8YB8AFpVO6M"
      }
    },
    {
      "cell_type": "code",
      "source": [
        "model = SARIMAX(df['Consumption'],exog=df[['Income']],order=(1,0,3),seasonal_order=(0,0,0,4),enforce_invertibility=False)\n",
        "results = model.fit()\n",
        "results.summary()\n",
        "\n",
        "pred = results.get_prediction(start=pd.to_datetime('2012-Q3'), dynamic=False)\n",
        "pred_ci = pred.conf_int()\n",
        "ax = df['Consumption'].plot(label='observed')\n",
        "pred.predicted_mean.plot(ax=ax, label='model', alpha=.7)\n",
        "\n",
        "ax.fill_between(pred_ci.index,\n",
        "                pred_ci.iloc[:, 0],\n",
        "                pred_ci.iloc[:, 1], alpha=.2)\n",
        "\n",
        "ax.set_xlabel('Date')\n",
        "ax.set_ylabel('Consumption')\n",
        "plt.legend()\n",
        "\n",
        "plt.show();"
      ],
      "metadata": {
        "id": "YQ8v5bP4Tgva"
      },
      "execution_count": null,
      "outputs": []
    },
    {
      "cell_type": "code",
      "source": [
        "from statsmodels.tools.eval_measures import mse,rmse\n",
        "reals = df['2012-Q3':]['Consumption']\n",
        "error1 = mse(pred.predicted_mean, reals)\n",
        "error2 = rmse(pred.predicted_mean, reals)\n",
        "\n",
        "print(f'SARIMA(1,0,3)(0,0,0,4) MSE Error: {error1:11.10}')\n",
        "print(f'SARIMA(1,0,3)(0,0,0,4) RMSE Error: {error2:11.10}')"
      ],
      "metadata": {
        "id": "jBUTjXzpW97s"
      },
      "execution_count": null,
      "outputs": []
    },
    {
      "cell_type": "markdown",
      "source": [
        "Observe que acrescentar uma única variável no sistema, não necessariamente implica em um ajuste melhor. No nosso exemplo o RMSE por exemplo varia de 0.27 para 0.40 no caso de incluirmos a variável Income. Vale destacar que nesse caso não nos preocupamos em utilizar nenhum método de seleção de variáveis, dado que estaria além do escopo a que nos propomos aqui, e apenas acrescentamos arbitrariamente os valores de uma nova coluna.\n",
        "\n",
        "A título de curiosidade vamos acrescentar as demais colunas (Income, Production, Savings,Unemployment) e verificar através da mesma métrica, a qualidade do ajuste:"
      ],
      "metadata": {
        "id": "n3R9_xYlX9P4"
      }
    },
    {
      "cell_type": "code",
      "source": [
        "model = SARIMAX(df['Consumption'],exog=df[['Income','Production','Savings','Unemployment']],order=(1,0,3),seasonal_order=(0,0,0,4),enforce_invertibility=False)\n",
        "results = model.fit()\n",
        "results.summary()\n",
        "\n",
        "pred = results.get_prediction(start=pd.to_datetime('2012-Q3'), dynamic=False)\n",
        "pred_ci = pred.conf_int()\n",
        "ax = df['Consumption'].plot(label='observed')\n",
        "pred.predicted_mean.plot(ax=ax, label='model', alpha=.7)\n",
        "\n",
        "ax.fill_between(pred_ci.index,\n",
        "                pred_ci.iloc[:, 0],\n",
        "                pred_ci.iloc[:, 1], alpha=.2)\n",
        "\n",
        "ax.set_xlabel('Date')\n",
        "ax.set_ylabel('Consumption')\n",
        "plt.legend()\n",
        "\n",
        "plt.show();"
      ],
      "metadata": {
        "id": "yLo6wOZxX9vu"
      },
      "execution_count": null,
      "outputs": []
    },
    {
      "cell_type": "code",
      "source": [
        "from statsmodels.tools.eval_measures import mse,rmse\n",
        "reals = df['2012-Q3':]['Consumption']\n",
        "error1 = mse(pred.predicted_mean, reals)\n",
        "error2 = rmse(pred.predicted_mean, reals)\n",
        "\n",
        "print(f'SARIMA(1,0,3)(0,0,0,4) MSE Error: {error1:11.10}')\n",
        "print(f'SARIMA(1,0,3)(0,0,0,4) RMSE Error: {error2:11.10}')"
      ],
      "metadata": {
        "id": "guI7Y5iNauro"
      },
      "execution_count": null,
      "outputs": []
    },
    {
      "cell_type": "markdown",
      "source": [
        "Observe que agora obtivemos para a mesma métrica, o RMSE, um valor ainda melhor. Esse exercício nos permite assim concluir que não existe uma receita simples e definitva para melhorar a qualidade do ajuste, como simplesmente adicionar variáveis exógenas adicionais. A utilização de modelos SARIMAX requer uma análise exploratória detalhada dos dados, assim como a experimentação de diversos valores de parâmetros de modo a escolher o valor mais apropriado para o ajuste. \n",
        "\n",
        "Uma outra limitação dos modelos SARIMAX pode ser melhor entendida se tentamos fazer o forecast para os próximos 15 pontos no gráfico:"
      ],
      "metadata": {
        "id": "rFyf5MCXcHRB"
      }
    },
    {
      "cell_type": "code",
      "source": [
        "# Get forecast 500 steps ahead in future\n",
        "pred_uc = results.get_forecast(steps=15)"
      ],
      "metadata": {
        "id": "WLnmw5TvdWgd"
      },
      "execution_count": null,
      "outputs": []
    },
    {
      "cell_type": "markdown",
      "source": [
        "Note que a mensagem **ValueError: Out-of-sample operations in a model with a regression component require additional exogenous values via the `exog` argument** é de certa forma auto-explicativa. Como não temos o intervalo futuro (próximos 15 pontos) para as variáveis exógenas (Income, Production, Savings,Unemployment), nós não conseguimos fazer o forecast desejado. Caso tivéssemos precisaríamos passar este parâmetro como argumento da função **get_forecast** como no seguinte exemplo: \n",
        "\n",
        "\n",
        "```\n",
        "pred_uc = results.get_forecast(steps=15, exog= df_exog)\n",
        "```\n",
        "onde **df_exog** precisaria ser um dataframe com 4 colunas (Income, Production, Savings,Unemployment) e 15 linhas (próximos 15 pontos do gráfico).\n",
        "\n",
        "Um exemplo muito comum para o uso deste tipo de modelagem é por exemplo quando queremos fazer um forecast para prever vendas ao longo das próximas duas semanas. Neste caso poderíamos utilizar como variável exógena se um determinado dia da semana é feriado ou não. Nesse caso seria relativamente fácil obter o dataframe **df_exog** com uma coluna de valores 0 ou 1 no caso do dia ser feriado sim ou não respectivamente. De fato, esse é um procedimento relativamente comum e existe inclusive uma biblioteca em python que calcula os feriados denominada **holiday**. Você pode obter mais detalhes acessando [aqui](https://pypi.org/project/holidays/).\n"
      ],
      "metadata": {
        "id": "MBIUuuQknS4R"
      }
    },
    {
      "cell_type": "markdown",
      "source": [
        "# Outros modelos com sazonalidade\n",
        "\n",
        "Neste capítulo você pode perceber que a inclusão da sazonalidade insere uma complexidade significativa nos modelos ARIMA, através dos parâmetros $(P,D,Q)$. Neste sentido, é importante adicionar que algumas séries mais complexas possuem componentes de sazonalidade múltipla, onde podemos ter eventos que se repetem ao longo de semanas por exemplo, enquanto outros eventos podem se repetir anualmente. \n",
        "\n",
        "***Acrescentar aqui breve descrição sobre TBATS, Prophet, NeuralProphet entre outros***"
      ],
      "metadata": {
        "id": "dXadg37mITBg"
      }
    },
    {
      "cell_type": "markdown",
      "source": [
        "# Para Saber Mais\n",
        "\n",
        "Para aprofundar no tema das Séries Temporais Sazonais você pode buscar por:\n",
        "\n",
        "* MORETTIN, Pedro A.; TOLOI, Clélia. **Análise de séries temporais.** In: Análise de séries temporais. 2006. p. 538-538.\n",
        "\n",
        "* Souza, Reinaldo C.; Camargo, Maria Emilia. **Análise e Previsão de séries temporais.**. 2004. p. 145-158.\n",
        "\n",
        "\n",
        "O texto, entretanto, não está disponível online. \n",
        "<br>\n",
        "\n",
        "Para um tratamento mais rigoroso, mas ainda acessível e disponível online, você pode acessar: \n",
        "\n",
        "* HYNDMAN, Rob J.; ATHANASOPOULOS, George. **Forecasting: principles and practice.** OTexts: Melbourne, Australia. OTexts.com/fpp2. Disponível em: https://otexts.com/fpp2/\n",
        "\n",
        "Esse texto, entretanto, emprega bibliotecas `R` no lugar do `Python`, embora o tratamento estatístico seja o mesmo. \n",
        "\n",
        "<br>\n",
        " "
      ],
      "metadata": {
        "id": "9l68pCLcBxBc"
      }
    }
  ]
}